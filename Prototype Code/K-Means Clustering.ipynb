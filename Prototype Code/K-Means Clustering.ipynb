{
 "cells": [
  {
   "cell_type": "code",
   "execution_count": 2,
   "outputs": [],
   "source": [
    "##imports \n",
    "\n",
    "import cv2 \n",
    "import pytesseract\n",
    "\n",
    "from sklearn.feature_extraction.text import TfidfVectorizer\n",
    "from sklearn.cluster import KMeans\n",
    "from sklearn.metrics import adjusted_rand_score"
   ],
   "metadata": {
    "collapsed": false,
    "pycharm": {
     "name": "#%%\n",
     "is_executing": false
    }
   }
  },
  {
   "cell_type": "code",
   "execution_count": 3,
   "outputs": [],
   "source": [
    "##OCR\n",
    "\n",
    "pytesseract.pytesseract.tesseract_cmd = r\"C:\\Program Files\\Tesseract-OCR\\tesseract.exe\"\n",
    "\n",
    "\n",
    "# Adding custom options\n",
    "custom_config = r'--oem 3 --psm 6'\n"
   ],
   "metadata": {
    "collapsed": false,
    "pycharm": {
     "name": "#%%\n",
     "is_executing": false
    }
   }
  },
  {
   "cell_type": "code",
   "execution_count": 4,
   "outputs": [],
   "source": [
    "documents = []\n",
    "\n",
    "import os\n",
    "\n",
    "for filename in os.listdir(\"images\"):\n",
    "    if filename.endswith(\".jpg\") :\n",
    "      #print(os.path.join(\"images\", filename))\n",
    "      img = cv2.imread(os.path.join(\"images\", filename))\n",
    "      documents.append(pytesseract.image_to_string(img, config=custom_config))\n",
    "        "
   ],
   "metadata": {
    "collapsed": false,
    "pycharm": {
     "name": "#%%\n",
     "is_executing": false
    }
   }
  },
  {
   "cell_type": "code",
   "execution_count": 41,
   "outputs": [
    {
     "name": "stdout",
     "text": [
      "~S yo.\n",
      "] fesrirt nt hepatocytes by centrifugal elutriation ¢\n",
      "A study of the factors ‘effecting cell separation and the significance of the\n",
      "‘enzymic heterogenelty found In subpopulations\n",
      ". ‘ 1 ,\n",
      "L lan G, Sumner (1) and Alberto Lodola (2) ~* .\n",
      "? mos\n",
      "on Biological Laboratory, The University, Canterbury, Kent, UK “\n",
      "=\n",
      ": 4\n",
      "e : ve\n",
      "1) Present addcess: , oO 3 1\n",
      ": . feos :\n",
      "S aFRe, . > 3 # : |\n",
      "Instnute of Food Research, ce ee NE\n",
      "Shintield, V Q\n",
      "Reading, Berks RG2 9AT,GB a, , Loon\n",
      "\" 2) Present address and to whom corespondanes shoud be wnt : D . an\n",
      "~Laborétoire Ptzer,” * : . eed 5\n",
      "oe ¢ eux a Loy\n",
      "Centre de Recherche, J ae . ns oe\n",
      "BP 105, : : re wi hit\n",
      "37401, Anibal Coden,“ ees oe tae ee »\n",
      "phe gee eB\n",
      "’. s e « 7 week\n",
      ", o en * i ;, N\n",
      ". Boa ee . vee\n",
      "> Ros — :\n",
      "Oe ON IN yo Pe,\n",
      "\f\n"
     ],
     "output_type": "stream"
    }
   ],
   "source": [
    "print(documents[0])\n",
    "    "
   ],
   "metadata": {
    "collapsed": false,
    "pycharm": {
     "name": "#%%\n",
     "is_executing": false
    }
   }
  },
  {
   "cell_type": "code",
   "execution_count": 42,
   "outputs": [
    {
     "name": "stdout",
     "text": [
      "(9, 1533)\n"
     ],
     "output_type": "stream"
    },
    {
     "data": {
      "text/plain": "KMeans(algorithm='auto', copy_x=True, init='k-means++', max_iter=300,\n       n_clusters=5, n_init=10, n_jobs=None, precompute_distances='auto',\n       random_state=None, tol=0.0001, verbose=0)"
     },
     "metadata": {},
     "output_type": "execute_result",
     "execution_count": 42
    }
   ],
   "source": [
    "vectorizer = TfidfVectorizer(stop_words='english')\n",
    "X = vectorizer.fit_transform(documents)\n",
    "\n",
    "print(X.shape)\n",
    "true_k = 5\n",
    "model = KMeans(n_clusters=true_k, init='k-means++')\n",
    "model.fit(X)"
   ],
   "metadata": {
    "collapsed": false,
    "pycharm": {
     "name": "#%%\n",
     "is_executing": false
    }
   }
  },
  {
   "cell_type": "code",
   "execution_count": 43,
   "outputs": [
    {
     "name": "stdout",
     "text": [
      "Top terms per cluster:\n",
      "Cluster 0:\n",
      " oe\n",
      " 24\n",
      " ee\n",
      " filter\n",
      " yo\n",
      " st\n",
      " stc\n",
      " eb\n",
      " present\n",
      " 10\n",
      "Cluster 1:\n",
      " member\n",
      " ucla\n",
      " research\n",
      " dept\n",
      " professor\n",
      " harbor\n",
      " medicine\n",
      " center\n",
      " present\n",
      " medical\n",
      "Cluster 2:\n",
      " information\n",
      " product\n",
      " number\n",
      " phone\n",
      " cause\n",
      " section\n",
      " osha\n",
      " emergency\n",
      " material\n",
      " company\n",
      "Cluster 3:\n",
      " know\n",
      " 11\n",
      " date\n",
      " ann\n",
      " lorillard\n",
      " hazleton\n",
      " staff\n",
      " dr\n",
      " reports\n",
      " need\n",
      "Cluster 4:\n",
      " 00\n",
      " mwst\n",
      " 09\n",
      " netto\n",
      " 350\n",
      " 2012\n",
      " sie\n",
      " 50\n",
      " im\n",
      " auf\n",
      "\n",
      "\n",
      "Prediction\n"
     ],
     "output_type": "stream"
    }
   ],
   "source": [
    "print(\"Top terms per cluster:\")\n",
    "order_centroids = model.cluster_centers_.argsort()[:, ::-1]\n",
    "terms = vectorizer.get_feature_names()\n",
    "for i in range(true_k):\n",
    "    print(\"Cluster %d:\" % i),\n",
    "    for ind in order_centroids[i, :10]:\n",
    "        print(' %s' % terms[ind]),\n",
    "    print\n",
    "\n",
    "print(\"\\n\")\n",
    "print(\"Prediction\")\n",
    "\n"
   ],
   "metadata": {
    "collapsed": false,
    "pycharm": {
     "name": "#%%\n",
     "is_executing": false
    }
   }
  },
  {
   "cell_type": "code",
   "execution_count": 47,
   "outputs": [
    {
     "name": "stdout",
     "text": [
      "[4]\n"
     ],
     "output_type": "stream"
    }
   ],
   "source": [
    "pytesseract.pytesseract.tesseract_cmd = r\"C:\\Program Files\\Tesseract-OCR\\tesseract.exe\"\n",
    "img1 = cv2.imread('test.jpg')\n",
    "\n",
    "documents1 = [pytesseract.image_to_string(img1, config=custom_config)]\n",
    "\n",
    "Y = vectorizer.transform(documents1)\n",
    "prediction = model.predict(Y)\n",
    "print(prediction)\n"
   ],
   "metadata": {
    "collapsed": false,
    "pycharm": {
     "name": "#%%\n",
     "is_executing": false
    }
   }
  },
  {
   "cell_type": "code",
   "execution_count": 12,
   "outputs": [],
   "source": [],
   "metadata": {
    "collapsed": false,
    "pycharm": {
     "name": "#%%",
     "is_executing": false
    }
   }
  }
 ],
 "metadata": {
  "accelerator": "GPU",
  "colab": {
   "collapsed_sections": [],
   "name": "document_classification_resub.ipynb",
   "provenance": []
  },
  "kernelspec": {
   "name": "pycharm-46268e0c",
   "language": "python",
   "display_name": "PyCharm (sem6)"
  },
  "language_info": {
   "codemirror_mode": {
    "name": "ipython",
    "version": 3
   },
   "file_extension": ".py",
   "mimetype": "text/x-python",
   "name": "python",
   "nbconvert_exporter": "python",
   "pygments_lexer": "ipython3",
   "version": "3.7.6"
  },
  "pycharm": {
   "stem_cell": {
    "cell_type": "raw",
    "source": [],
    "metadata": {
     "collapsed": false
    }
   }
  }
 },
 "nbformat": 4,
 "nbformat_minor": 1
}