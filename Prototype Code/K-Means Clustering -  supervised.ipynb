{
 "cells": [
  {
   "cell_type": "code",
   "execution_count": 21,
   "outputs": [],
   "source": [
    "##imports \n",
    "\n",
    "import cv2 \n",
    "import pytesseract\n",
    "\n",
    "from sklearn.feature_extraction.text import TfidfVectorizer\n",
    "from sklearn.cluster import KMeans\n",
    "from sklearn.metrics import adjusted_rand_score"
   ],
   "metadata": {
    "collapsed": false,
    "pycharm": {
     "name": "#%%\n",
     "is_executing": false
    }
   }
  },
  {
   "cell_type": "code",
   "execution_count": 22,
   "outputs": [],
   "source": [
    "##OCR\n",
    "\n",
    "pytesseract.pytesseract.tesseract_cmd = r\"C:\\Program Files\\Tesseract-OCR\\tesseract.exe\"\n",
    "\n",
    "\n",
    "# Adding custom options\n",
    "custom_config = r'--oem 3 --psm 6'\n"
   ],
   "metadata": {
    "collapsed": false,
    "pycharm": {
     "name": "#%%\n",
     "is_executing": false
    }
   }
  },
  {
   "cell_type": "code",
   "execution_count": 23,
   "outputs": [],
   "source": [
    "documents = []\n",
    "\n",
    "import os\n",
    "\n",
    "for filename in os.listdir(\"images\"):\n",
    "    if filename.endswith(\".jpg\") :\n",
    "      #print(os.path.join(\"images\", filename))\n",
    "      img = cv2.imread(os.path.join(\"images\", filename))\n",
    "      documents.append(pytesseract.image_to_string(img, config=custom_config))\n",
    "        "
   ],
   "metadata": {
    "collapsed": false,
    "pycharm": {
     "name": "#%%\n",
     "is_executing": false
    }
   }
  },
  {
   "cell_type": "code",
   "execution_count": 24,
   "outputs": [
    {
     "name": "stdout",
     "text": [
      "\n",
      "\n"
     ],
     "output_type": "stream"
    }
   ],
   "source": [
    "print(documents[0][6])\n",
    "    "
   ],
   "metadata": {
    "collapsed": false,
    "pycharm": {
     "name": "#%%\n",
     "is_executing": false
    }
   }
  },
  {
   "cell_type": "code",
   "execution_count": 25,
   "outputs": [],
   "source": [
    "vectorizer = TfidfVectorizer(stop_words='english')\n",
    "X = vectorizer.fit_transform(documents)"
   ],
   "metadata": {
    "collapsed": false,
    "pycharm": {
     "name": "#%%\n",
     "is_executing": false
    }
   }
  },
  {
   "cell_type": "code",
   "execution_count": 26,
   "outputs": [
    {
     "name": "stdout",
     "text": [
      "  (0, 1066)\t0.10716890909569285\n",
      "  (0, 1222)\t0.10716890909569285\n",
      "  (0, 1454)\t0.10716890909569285\n",
      "  (0, 376)\t0.10716890909569285\n",
      "  (0, 595)\t0.10716890909569285\n",
      "  (0, 1481)\t0.0905165668018746\n",
      "  (0, 564)\t0.0905165668018746\n",
      "  (0, 711)\t0.10716890909569285\n",
      "  (0, 1096)\t0.10716890909569285\n",
      "  (0, 1355)\t0.10716890909569285\n",
      "  (0, 578)\t0.0905165668018746\n",
      "  (0, 453)\t0.10716890909569285\n",
      "  (0, 272)\t0.10716890909569285\n",
      "  (0, 135)\t0.10716890909569285\n",
      "  (0, 762)\t0.10716890909569285\n",
      "  (0, 1491)\t0.10716890909569285\n",
      "  (0, 16)\t0.10716890909569285\n",
      "  (0, 386)\t0.10716890909569285\n",
      "  (0, 996)\t0.10716890909569285\n",
      "  (0, 234)\t0.07870154191696119\n",
      "  (0, 1181)\t0.10716890909569285\n",
      "  (0, 422)\t0.10716890909569285\n",
      "  (0, 909)\t0.10716890909569285\n",
      "  (0, 617)\t0.10716890909569285\n",
      "  (0, 1018)\t0.3620662672074984\n",
      "  :\t:\n",
      "  (8, 202)\t0.040913627670069626\n",
      "  (8, 8)\t0.08182725534013925\n",
      "  (8, 1367)\t0.040913627670069626\n",
      "  (8, 721)\t0.12274088301020887\n",
      "  (8, 522)\t0.08182725534013925\n",
      "  (8, 991)\t0.034556301294418244\n",
      "  (8, 46)\t0.034556301294418244\n",
      "  (8, 1350)\t0.034556301294418244\n",
      "  (8, 1280)\t0.13822520517767298\n",
      "  (8, 837)\t0.06911260258883649\n",
      "  (8, 1498)\t0.034556301294418244\n",
      "  (8, 23)\t0.06911260258883649\n",
      "  (8, 133)\t0.06911260258883649\n",
      "  (8, 1353)\t0.034556301294418244\n",
      "  (8, 0)\t0.27645041035534595\n",
      "  (8, 585)\t0.034556301294418244\n",
      "  (8, 1395)\t0.034556301294418244\n",
      "  (8, 468)\t0.03004570644808718\n",
      "  (8, 215)\t0.034556301294418244\n",
      "  (8, 565)\t0.034556301294418244\n",
      "  (8, 15)\t0.026547017273708437\n",
      "  (8, 571)\t0.026547017273708437\n",
      "  (8, 1029)\t0.03004570644808718\n",
      "  (8, 1452)\t0.034556301294418244\n",
      "  (8, 417)\t0.034556301294418244\n"
     ],
     "output_type": "stream"
    }
   ],
   "source": [
    "print(X)"
   ],
   "metadata": {
    "collapsed": false,
    "pycharm": {
     "name": "#%%\n",
     "is_executing": false
    }
   }
  },
  {
   "cell_type": "code",
   "execution_count": 27,
   "outputs": [
    {
     "name": "stdout",
     "text": [
      "(9, 1533)\n"
     ],
     "output_type": "stream"
    },
    {
     "data": {
      "text/plain": "KMeans(algorithm='auto', copy_x=True, init='k-means++', max_iter=300,\n       n_clusters=5, n_init=10, n_jobs=None, precompute_distances='auto',\n       random_state=None, tol=0.0001, verbose=0)"
     },
     "metadata": {},
     "output_type": "execute_result",
     "execution_count": 27
    }
   ],
   "source": [
    "print(X.shape)\n",
    "true_k = 5\n",
    "model = KMeans(n_clusters=true_k, init='k-means++')\n",
    "model.fit(X)"
   ],
   "metadata": {
    "collapsed": false,
    "pycharm": {
     "name": "#%%\n",
     "is_executing": false
    }
   }
  },
  {
   "cell_type": "code",
   "execution_count": 28,
   "outputs": [
    {
     "name": "stdout",
     "text": [
      "Top terms per cluster:\n",
      "Cluster 0:\n",
      " know\n",
      " 11\n",
      " date\n",
      " ann\n",
      " lorillard\n",
      " hazleton\n",
      " staff\n",
      " dr\n",
      " reports\n",
      " need\n",
      "Cluster 1:\n",
      " member\n",
      " ucla\n",
      " research\n",
      " dept\n",
      " professor\n",
      " harbor\n",
      " medicine\n",
      " center\n",
      " present\n",
      " medical\n",
      "Cluster 2:\n",
      " information\n",
      " product\n",
      " number\n",
      " phone\n",
      " cause\n",
      " section\n",
      " osha\n",
      " emergency\n",
      " material\n",
      " company\n",
      "Cluster 3:\n",
      " 00\n",
      " mwst\n",
      " 09\n",
      " netto\n",
      " 350\n",
      " 2012\n",
      " sie\n",
      " 50\n",
      " im\n",
      " auf\n",
      "Cluster 4:\n",
      " oe\n",
      " 24\n",
      " ee\n",
      " filter\n",
      " yo\n",
      " st\n",
      " stc\n",
      " eb\n",
      " present\n",
      " 10\n",
      "\n",
      "\n",
      "Prediction\n"
     ],
     "output_type": "stream"
    }
   ],
   "source": [
    "print(\"Top terms per cluster:\")\n",
    "order_centroids = model.cluster_centers_.argsort()[:, ::-1]\n",
    "terms = vectorizer.get_feature_names()\n",
    "for i in range(true_k):\n",
    "    print(\"Cluster %d:\" % i),\n",
    "    for ind in order_centroids[i, :10]:\n",
    "        print(' %s' % terms[ind]),\n",
    "    print\n",
    "\n",
    "print(\"\\n\")\n",
    "print(\"Prediction\")\n",
    "\n"
   ],
   "metadata": {
    "collapsed": false,
    "pycharm": {
     "name": "#%%\n",
     "is_executing": false
    }
   }
  },
  {
   "cell_type": "code",
   "execution_count": 29,
   "outputs": [
    {
     "name": "stdout",
     "text": [
      "[3]\n"
     ],
     "output_type": "stream"
    }
   ],
   "source": [
    "pytesseract.pytesseract.tesseract_cmd = r\"C:\\Program Files\\Tesseract-OCR\\tesseract.exe\"\n",
    "img1 = cv2.imread('test.jpg')\n",
    "\n",
    "documents1 = [pytesseract.image_to_string(img1, config=custom_config)]\n",
    "\n",
    "Y = vectorizer.transform(documents1)\n",
    "prediction = model.predict(Y)\n",
    "print(prediction)\n"
   ],
   "metadata": {
    "collapsed": false,
    "pycharm": {
     "name": "#%%\n",
     "is_executing": false
    }
   }
  },
  {
   "cell_type": "code",
   "execution_count": 29,
   "outputs": [],
   "source": [],
   "metadata": {
    "collapsed": false,
    "pycharm": {
     "name": "#%%",
     "is_executing": false
    }
   }
  }
 ],
 "metadata": {
  "accelerator": "GPU",
  "colab": {
   "collapsed_sections": [],
   "name": "document_classification_resub.ipynb",
   "provenance": []
  },
  "kernelspec": {
   "name": "pycharm-46268e0c",
   "language": "python",
   "display_name": "PyCharm (sem6)"
  },
  "language_info": {
   "codemirror_mode": {
    "name": "ipython",
    "version": 3
   },
   "file_extension": ".py",
   "mimetype": "text/x-python",
   "name": "python",
   "nbconvert_exporter": "python",
   "pygments_lexer": "ipython3",
   "version": "3.7.6"
  },
  "pycharm": {
   "stem_cell": {
    "cell_type": "raw",
    "source": [],
    "metadata": {
     "collapsed": false
    }
   }
  }
 },
 "nbformat": 4,
 "nbformat_minor": 1
}