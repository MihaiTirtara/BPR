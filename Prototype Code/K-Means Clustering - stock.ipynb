{
 "cells": [
  {
   "cell_type": "code",
   "execution_count": 2,
   "outputs": [],
   "source": [
    "##imports \n",
    "\n",
    "import cv2 \n",
    "from sklearn.feature_extraction.text import TfidfVectorizer\n",
    "from sklearn.cluster import KMeans\n",
    "from sklearn.metrics import adjusted_rand_score"
   ],
   "metadata": {
    "collapsed": false,
    "pycharm": {
     "name": "#%%\n",
     "is_executing": false
    }
   }
  },
  {
   "cell_type": "code",
   "execution_count": 3,
   "outputs": [],
   "source": [
    "documents = [\"This little kitty came to play when I was eating at a restaurant.\",\n",
    "             \"Merley has the best squooshy kitten belly.\",\n",
    "             \"Google Translate app is incredible.\",\n",
    "             \"If you open 100 tab in google you get a smiley face.\",\n",
    "             \"Best cat photo I've ever taken.\",\n",
    "             \"Climbing ninja cat.\",\n",
    "             \"Impressed with google map feedback.\",\n",
    "             \"Key promoter extension for Google Chrome.\"]"
   ],
   "metadata": {
    "collapsed": false,
    "pycharm": {
     "name": "#%%\n",
     "is_executing": false
    }
   }
  },
  {
   "cell_type": "code",
   "execution_count": 4,
   "outputs": [
    {
     "name": "stdout",
     "text": [
      "Merley has the best squooshy kitten belly.\n"
     ],
     "output_type": "stream"
    }
   ],
   "source": [
    "print(documents[1])\n",
    "    "
   ],
   "metadata": {
    "collapsed": false,
    "pycharm": {
     "name": "#%%\n",
     "is_executing": false
    }
   }
  },
  {
   "cell_type": "code",
   "execution_count": 6,
   "outputs": [
    {
     "name": "stdout",
     "text": [
      "(8, 33)\n",
      "M:\n",
      "[[ 0 25 19 31 15 14 13 12 10 11  6 27 29  1  9 22  8 24 26  4 17 18 28 16\n",
      "  20  2 30 23 32 21  7  3  5]\n",
      " [16 30 28 26 24 23 21 20 18 17 32  2  3  4  8  5  7  0 29 27 10 22 25  6\n",
      "   9 15 31 14 13  1 19 11 12]]\n",
      "[[ 5  3  7 21 32 23 30  2 20 16 28 18 17  4 26 24  8 22  9  1 29 27  6 11\n",
      "  10 12 13 14 15 31 19 25  0]\n",
      " [12 11 19  1 13 14 31 15  9  6 25 22 10 27 29  0  7  5  8  4  3  2 32 17\n",
      "  18 20 21 23 24 26 28 30 16]]\n",
      "Top terms per cluster:\n",
      "Cluster 0:\n",
      " cat\n",
      "\n",
      "\n",
      " best\n",
      "\n",
      "\n",
      " climbing\n",
      "\n",
      "\n",
      " ninja\n",
      "\n",
      "\n",
      " ve\n",
      "\n",
      "\n",
      " photo\n",
      "\n",
      "\n",
      " taken\n",
      "\n",
      "\n",
      " belly\n",
      "\n",
      "\n",
      " merley\n",
      "\n",
      "\n",
      " kitten\n",
      "\n",
      "\n",
      "Cluster 1:\n",
      " google\n",
      "\n",
      "\n",
      " feedback\n",
      "\n",
      "\n",
      " map\n",
      "\n",
      "\n",
      " app\n",
      "\n",
      "\n",
      " impressed\n",
      "\n",
      "\n",
      " incredible\n",
      "\n",
      "\n",
      " translate\n",
      "\n",
      "\n",
      " key\n",
      "\n",
      "\n",
      " extension\n",
      "\n",
      "\n",
      " chrome\n",
      "\n",
      "\n",
      "Prediction\n"
     ],
     "output_type": "stream"
    }
   ],
   "source": [
    "vectorizer = TfidfVectorizer(stop_words='english')\n",
    "X = vectorizer.fit_transform(documents)\n",
    "print(X.shape)\n",
    "true_k = 2\n",
    "model = KMeans(n_clusters=true_k, init='k-means++')\n",
    "model.fit(X)\n",
    "print('M:')\n",
    "print(model.cluster_centers_.argsort())\n",
    "print(model.cluster_centers_.argsort()[:, ::-1])\n",
    "print(\"Top terms per cluster:\")\n",
    "order_centroids = model.cluster_centers_.argsort()[:, ::-1]\n",
    "terms = vectorizer.get_feature_names()\n",
    "for i in range(true_k):\n",
    "    print(\"Cluster %d:\" % i),\n",
    "    for ind in order_centroids[i, :10]:\n",
    "        print(' %s' % terms[ind]),\n",
    "        \n",
    "        print(\"\\n\")\n",
    "print(\"Prediction\")"
   ],
   "metadata": {
    "collapsed": false,
    "pycharm": {
     "name": "#%%\n",
     "is_executing": false
    }
   }
  },
  {
   "cell_type": "code",
   "execution_count": 7,
   "outputs": [
    {
     "name": "stdout",
     "text": [
      "Top terms per cluster:\n",
      "Cluster 0:\n",
      " cat\n",
      " best\n",
      " climbing\n",
      " ninja\n",
      " ve\n",
      " photo\n",
      " taken\n",
      " belly\n",
      " merley\n",
      " kitten\n",
      "Cluster 1:\n",
      " google\n",
      " feedback\n",
      " map\n",
      " app\n",
      " impressed\n",
      " incredible\n",
      " translate\n",
      " key\n",
      " extension\n",
      " chrome\n",
      "\n",
      "\n",
      "Prediction\n"
     ],
     "output_type": "stream"
    }
   ],
   "source": [
    "print(\"Top terms per cluster:\")\n",
    "order_centroids = model.cluster_centers_.argsort()[:, ::-1]\n",
    "terms = vectorizer.get_feature_names()\n",
    "for i in range(true_k):\n",
    "    print(\"Cluster %d:\" % i),\n",
    "    for ind in order_centroids[i, :10]:\n",
    "        print(' %s' % terms[ind]),\n",
    "    print\n",
    "\n",
    "print(\"\\n\")\n",
    "print(\"Prediction\")\n",
    "\n"
   ],
   "metadata": {
    "collapsed": false,
    "pycharm": {
     "name": "#%%\n",
     "is_executing": false
    }
   }
  },
  {
   "cell_type": "code",
   "execution_count": 8,
   "outputs": [
    {
     "name": "stdout",
     "text": [
      "Y:\n",
      "[[0.         0.         0.         0.         0.         0.\n",
      "  0.70710678 0.         0.         0.         0.         0.\n",
      "  0.         0.         0.         0.         0.         0.\n",
      "  0.         0.         0.         0.         0.70710678 0.\n",
      "  0.         0.         0.         0.         0.         0.\n",
      "  0.         0.         0.        ]]\n",
      "[1]\n",
      "[0]\n"
     ],
     "output_type": "stream"
    }
   ],
   "source": [
    "Y = vectorizer.transform([\"chrome browser to open.\"])\n",
    "print('Y:')\n",
    "print(Y.toarray())\n",
    "prediction = model.predict(Y)\n",
    "print(prediction)\n",
    "\n",
    "Y = vectorizer.transform([\"My cat is hungry.\"])\n",
    "prediction = model.predict(Y)\n",
    "print(prediction)\n"
   ],
   "metadata": {
    "collapsed": false,
    "pycharm": {
     "name": "#%%\n",
     "is_executing": false
    }
   }
  },
  {
   "cell_type": "code",
   "execution_count": 12,
   "outputs": [],
   "source": [],
   "metadata": {
    "collapsed": false,
    "pycharm": {
     "name": "#%%",
     "is_executing": false
    }
   }
  }
 ],
 "metadata": {
  "accelerator": "GPU",
  "colab": {
   "collapsed_sections": [],
   "name": "document_classification_resub.ipynb",
   "provenance": []
  },
  "kernelspec": {
   "name": "pycharm-46268e0c",
   "language": "python",
   "display_name": "PyCharm (sem6)"
  },
  "language_info": {
   "codemirror_mode": {
    "name": "ipython",
    "version": 3
   },
   "file_extension": ".py",
   "mimetype": "text/x-python",
   "name": "python",
   "nbconvert_exporter": "python",
   "pygments_lexer": "ipython3",
   "version": "3.7.6"
  },
  "pycharm": {
   "stem_cell": {
    "cell_type": "raw",
    "source": [],
    "metadata": {
     "collapsed": false
    }
   }
  }
 },
 "nbformat": 4,
 "nbformat_minor": 1
}