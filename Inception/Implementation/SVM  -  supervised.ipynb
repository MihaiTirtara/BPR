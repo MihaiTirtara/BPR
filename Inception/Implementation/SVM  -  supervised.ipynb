{
 "cells": [
  {
   "cell_type": "code",
   "execution_count": 2,
   "outputs": [],
   "source": [
    "##imports \n",
    "\n",
    "import cv2 \n",
    "import pytesseract\n",
    "import pandas as pd\n",
    "\n",
    "from sklearn.feature_extraction.text import TfidfVectorizer\n",
    "from sklearn.cluster import KMeans\n",
    "from sklearn.metrics import adjusted_rand_score\n",
    "from sklearn.metrics import confusion_matrix"
   ],
   "metadata": {
    "collapsed": false,
    "pycharm": {
     "name": "#%%\n",
     "is_executing": false
    }
   }
  },
  {
   "cell_type": "code",
   "execution_count": 3,
   "outputs": [],
   "source": [
    "##OCR\n",
    "pytesseract.pytesseract.tesseract_cmd = r\"C:\\Program Files\\Tesseract-OCR\\tesseract.exe\"\n",
    "\n",
    "# Adding custom options\n",
    "custom_config = r'--oem 3 --psm 6'"
   ],
   "metadata": {
    "collapsed": false,
    "pycharm": {
     "name": "#%%\n",
     "is_executing": false
    }
   }
  },
  {
   "cell_type": "code",
   "execution_count": 4,
   "outputs": [],
   "source": [
    "##testing purposes\n",
    "trainingData = pd.read_csv(\"train.csv\") \n",
    "testingData  = pd.read_csv(\"test.csv\") "
   ],
   "metadata": {
    "collapsed": false,
    "pycharm": {
     "name": "#%%\n",
     "is_executing": false
    }
   }
  },
  {
   "cell_type": "code",
   "execution_count": 23,
   "outputs": [],
   "source": [
    "##batch size (started with a small no. to train the algorithm on)\n",
    "test_var = 320000"
   ],
   "metadata": {
    "collapsed": false,
    "pycharm": {
     "name": "#%%\n",
     "is_executing": false
    }
   }
  },
  {
   "cell_type": "code",
   "execution_count": 24,
   "outputs": [],
   "source": [
    "##vectorizing the data\n",
    "vectorizer = TfidfVectorizer(stop_words='english')\n",
    "X = vectorizer.fit_transform(trainingData[:test_var]['OCR text'])"
   ],
   "metadata": {
    "collapsed": false,
    "pycharm": {
     "name": "#%%\n",
     "is_executing": false
    }
   }
  },
  {
   "cell_type": "code",
   "execution_count": 25,
   "outputs": [],
   "source": [
    "y = trainingData[:test_var][\"Label\"]"
   ],
   "metadata": {
    "collapsed": false,
    "pycharm": {
     "name": "#%%\n",
     "is_executing": false
    }
   }
  },
  {
   "cell_type": "code",
   "execution_count": 26,
   "outputs": [
    {
     "name": "stdout",
     "text": [
      "  (0, 405159)\t0.1780850971273469\n",
      "  (0, 1525485)\t0.11060195599586045\n",
      "  (0, 782013)\t0.17392439600967902\n",
      "  (0, 437028)\t0.1060651319827064\n",
      "  (0, 193439)\t0.2408841922016687\n",
      "  (0, 242757)\t0.23264656937454115\n",
      "  (0, 243527)\t0.2044819509008031\n",
      "  (0, 1280790)\t0.13005128241355127\n",
      "  (0, 614523)\t0.11022219769234808\n",
      "  (0, 1089407)\t0.0996583911751417\n",
      "  (0, 1378038)\t0.1095781983637852\n",
      "  (0, 1126271)\t0.10108858498585684\n",
      "  (0, 1280767)\t0.22226839198055973\n",
      "  (0, 456684)\t0.13589596882329277\n",
      "  (0, 253635)\t0.16223502319019606\n",
      "  (0, 1325801)\t0.07042810307707371\n",
      "  (0, 501438)\t0.08942466282834863\n",
      "  (0, 439509)\t0.11649670356694844\n",
      "  (0, 1284926)\t0.24732101520130845\n",
      "  (0, 138774)\t0.2123173282141268\n",
      "  (0, 1325736)\t0.08217240822344979\n",
      "  (0, 1146064)\t0.22034636649420436\n",
      "  (0, 311609)\t0.2460111672276885\n",
      "  (0, 144750)\t0.22638755509696723\n",
      "  (0, 852926)\t0.2770786887867311\n",
      "  :\t:\n",
      "  (103748, 915866)\t0.05131443411119338\n",
      "  (103748, 259025)\t0.06808493738841459\n",
      "  (103748, 589304)\t0.028265930409764852\n",
      "  (103748, 150981)\t0.02071839891090605\n",
      "  (103748, 284335)\t0.1959400022891768\n",
      "  (103748, 622020)\t0.04022210853448855\n",
      "  (103748, 1264576)\t0.046804674868929204\n",
      "  (103748, 1530354)\t0.03742552639216606\n",
      "  (103748, 1313483)\t0.032448850990200506\n",
      "  (103748, 1189678)\t0.48649393554979187\n",
      "  (103748, 45253)\t0.03556177096213145\n",
      "  (103748, 574133)\t0.04100999061554582\n",
      "  (103748, 1064527)\t0.04536926317587858\n",
      "  (103748, 91606)\t0.04084553169926315\n",
      "  (103748, 997930)\t0.04948667161710907\n",
      "  (103748, 1393849)\t0.03477404477986235\n",
      "  (103748, 1124646)\t0.04560932561839015\n",
      "  (103748, 1357175)\t0.04823032314255598\n",
      "  (103748, 318106)\t0.040560958446247866\n",
      "  (103748, 1306228)\t0.02684931113234826\n",
      "  (103748, 846392)\t0.04722081843991688\n",
      "  (103748, 824226)\t0.04607021866483388\n",
      "  (103748, 413890)\t0.04156544858178427\n",
      "  (103748, 285685)\t0.14850537091457322\n",
      "  (103748, 29874)\t0.041473411141957565\n"
     ],
     "output_type": "stream"
    }
   ],
   "source": [
    "\n",
    "print(X)"
   ],
   "metadata": {
    "collapsed": false,
    "pycharm": {
     "name": "#%%\n",
     "is_executing": false
    }
   }
  },
  {
   "cell_type": "code",
   "execution_count": 27,
   "outputs": [
    {
     "name": "stderr",
     "text": [
      "IOPub data rate exceeded.\n",
      "The notebook server will temporarily stop sending output\n",
      "to the client in order to avoid crashing it.\n",
      "To change this limit, set the config variable\n",
      "`--NotebookApp.iopub_data_rate_limit`.\n",
      "\n",
      "Current values:\n",
      "NotebookApp.iopub_data_rate_limit=1000000.0 (bytes/sec)\n",
      "NotebookApp.rate_limit_window=3.0 (secs)\n",
      "\n"
     ],
     "output_type": "stream"
    }
   ],
   "source": [
    "print(vectorizer.get_feature_names())"
   ],
   "metadata": {
    "collapsed": false,
    "pycharm": {
     "name": "#%%\n",
     "is_executing": false
    }
   }
  },
  {
   "cell_type": "code",
   "execution_count": 28,
   "outputs": [
    {
     "name": "stdout",
     "text": [
      "(103749, 1548587)\n"
     ],
     "output_type": "stream"
    }
   ],
   "source": [
    "print(X.shape)"
   ],
   "metadata": {
    "collapsed": false,
    "pycharm": {
     "name": "#%%\n",
     "is_executing": false
    }
   }
  },
  {
   "cell_type": "code",
   "execution_count": 30,
   "outputs": [
    {
     "data": {
      "text/plain": "SGDClassifier(alpha=0.0001, average=False, class_weight=None,\n              early_stopping=False, epsilon=0.1, eta0=0.0, fit_intercept=True,\n              l1_ratio=0.15, learning_rate='optimal', loss='hinge',\n              max_iter=1000, n_iter_no_change=5, n_jobs=None, penalty='l2',\n              power_t=0.5, random_state=None, shuffle=True, tol=0.001,\n              validation_fraction=0.1, verbose=0, warm_start=False)"
     },
     "metadata": {},
     "output_type": "execute_result",
     "execution_count": 30
    }
   ],
   "source": [
    "##Fiting the data and training it - modify tuning parameters here\n",
    "\n",
    "from sklearn.linear_model import SGDClassifier\n",
    "clf = SGDClassifier()\n",
    "\n",
    "#clf = SGDClassifier(max_iter=1000, tol=1e-3)\n",
    "\n",
    "clf.fit(X, y)"
   ],
   "metadata": {
    "collapsed": false,
    "pycharm": {
     "name": "#%%\n",
     "is_executing": false
    }
   }
  },
  {
   "cell_type": "code",
   "execution_count": 32,
   "outputs": [
    {
     "name": "stderr",
     "text": [
      "100%|██████████| 40000/40000 [00:00<00:00, 1142893.27it/s]\n"
     ],
     "output_type": "stream"
    },
    {
     "name": "stdout",
     "text": [
      "0.72295\n",
      "     0\n",
      "11  11\n",
      "0    0\n",
      "5    0\n",
      "9    4\n",
      "14  14\n",
      "..  ..\n",
      "14  10\n",
      "11  11\n",
      "12  15\n",
      "9    9\n",
      "15  15\n",
      "\n",
      "[40000 rows x 1 columns]\n"
     ],
     "output_type": "stream"
    }
   ],
   "source": [
    "from tqdm import tqdm\n",
    "\n",
    "#Prediction and accuracy\n",
    "from sklearn.metrics import accuracy_score\n",
    "documents1 = testingData[:][\"OCR text\"]\n",
    "y_true = testingData[:]['Label']\n",
    "input = vectorizer.transform(documents1)\n",
    "prediction1= clf.predict(input)\n",
    "\n",
    "dataframe = pd.DataFrame(list(y_true),prediction1)\n",
    "index = 0\n",
    "count = 0\n",
    "for i in tqdm(list(y_true)):\n",
    "    if i == prediction1[index]:\n",
    "        count += 1\n",
    "    index+=1\n",
    "    \n",
    "    \n",
    "print(accuracy_score(list(y_true),prediction1))\n",
    "print(dataframe)"
   ],
   "metadata": {
    "collapsed": false,
    "pycharm": {
     "name": "#%%",
     "is_executing": false
    }
   }
  },
  {
   "cell_type": "code",
   "execution_count": null,
   "outputs": [],
   "source": [],
   "metadata": {
    "collapsed": false,
    "pycharm": {
     "name": "#%%"
    }
   }
  }
 ],
 "metadata": {
  "accelerator": "GPU",
  "colab": {
   "collapsed_sections": [],
   "name": "document_classification_resub.ipynb",
   "provenance": []
  },
  "kernelspec": {
   "name": "pycharm-46268e0c",
   "language": "python",
   "display_name": "PyCharm (sem6)"
  },
  "language_info": {
   "codemirror_mode": {
    "name": "ipython",
    "version": 3
   },
   "file_extension": ".py",
   "mimetype": "text/x-python",
   "name": "python",
   "nbconvert_exporter": "python",
   "pygments_lexer": "ipython3",
   "version": "3.7.6"
  },
  "pycharm": {
   "stem_cell": {
    "cell_type": "raw",
    "source": [],
    "metadata": {
     "collapsed": false
    }
   }
  }
 },
 "nbformat": 4,
 "nbformat_minor": 1
}