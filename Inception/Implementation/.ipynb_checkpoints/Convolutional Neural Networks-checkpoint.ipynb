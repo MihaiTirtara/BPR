{
 "cells": [
  {
   "cell_type": "code",
   "execution_count": 1,
   "metadata": {
    "colab": {},
    "colab_type": "code",
    "id": "seQIl1MvEJI_",
    "pycharm": {
     "is_executing": false
    }
   },
   "outputs": [],
   "source": [
    "import joblib\n",
    "import cv2\n",
    "import matplotlib.pyplot as plt\n",
    "import pandas as pd\n",
    "import numpy as np\n",
    "import seaborn as sns"
   ]
  },
  {
   "cell_type": "code",
   "execution_count": 2,
   "metadata": {
    "colab": {
     "base_uri": "https://localhost:8080/",
     "height": 34
    },
    "colab_type": "code",
    "id": "UNYo2KLdERE2",
    "outputId": "6d521108-df2f-49c1-c5ab-42b86df7953d",
    "pycharm": {
     "is_executing": false
    }
   },
   "outputs": [
    {
     "name": "stderr",
     "output_type": "stream",
     "text": [
      "C:\\Users\\coste\\Anaconda3\\lib\\site-packages\\tensorflow\\python\\framework\\dtypes.py:516: FutureWarning: Passing (type, 1) or '1type' as a synonym of type is deprecated; in a future version of numpy, it will be understood as (type, (1,)) / '(1,)type'.\n",
      "  _np_qint8 = np.dtype([(\"qint8\", np.int8, 1)])\n",
      "C:\\Users\\coste\\Anaconda3\\lib\\site-packages\\tensorflow\\python\\framework\\dtypes.py:517: FutureWarning: Passing (type, 1) or '1type' as a synonym of type is deprecated; in a future version of numpy, it will be understood as (type, (1,)) / '(1,)type'.\n",
      "  _np_quint8 = np.dtype([(\"quint8\", np.uint8, 1)])\n",
      "C:\\Users\\coste\\Anaconda3\\lib\\site-packages\\tensorflow\\python\\framework\\dtypes.py:518: FutureWarning: Passing (type, 1) or '1type' as a synonym of type is deprecated; in a future version of numpy, it will be understood as (type, (1,)) / '(1,)type'.\n",
      "  _np_qint16 = np.dtype([(\"qint16\", np.int16, 1)])\n",
      "C:\\Users\\coste\\Anaconda3\\lib\\site-packages\\tensorflow\\python\\framework\\dtypes.py:519: FutureWarning: Passing (type, 1) or '1type' as a synonym of type is deprecated; in a future version of numpy, it will be understood as (type, (1,)) / '(1,)type'.\n",
      "  _np_quint16 = np.dtype([(\"quint16\", np.uint16, 1)])\n",
      "C:\\Users\\coste\\Anaconda3\\lib\\site-packages\\tensorflow\\python\\framework\\dtypes.py:520: FutureWarning: Passing (type, 1) or '1type' as a synonym of type is deprecated; in a future version of numpy, it will be understood as (type, (1,)) / '(1,)type'.\n",
      "  _np_qint32 = np.dtype([(\"qint32\", np.int32, 1)])\n",
      "C:\\Users\\coste\\Anaconda3\\lib\\site-packages\\tensorflow\\python\\framework\\dtypes.py:525: FutureWarning: Passing (type, 1) or '1type' as a synonym of type is deprecated; in a future version of numpy, it will be understood as (type, (1,)) / '(1,)type'.\n",
      "  np_resource = np.dtype([(\"resource\", np.ubyte, 1)])\n",
      "C:\\Users\\coste\\Anaconda3\\lib\\site-packages\\tensorboard\\compat\\tensorflow_stub\\dtypes.py:541: FutureWarning: Passing (type, 1) or '1type' as a synonym of type is deprecated; in a future version of numpy, it will be understood as (type, (1,)) / '(1,)type'.\n",
      "  _np_qint8 = np.dtype([(\"qint8\", np.int8, 1)])\n",
      "C:\\Users\\coste\\Anaconda3\\lib\\site-packages\\tensorboard\\compat\\tensorflow_stub\\dtypes.py:542: FutureWarning: Passing (type, 1) or '1type' as a synonym of type is deprecated; in a future version of numpy, it will be understood as (type, (1,)) / '(1,)type'.\n",
      "  _np_quint8 = np.dtype([(\"quint8\", np.uint8, 1)])\n",
      "C:\\Users\\coste\\Anaconda3\\lib\\site-packages\\tensorboard\\compat\\tensorflow_stub\\dtypes.py:543: FutureWarning: Passing (type, 1) or '1type' as a synonym of type is deprecated; in a future version of numpy, it will be understood as (type, (1,)) / '(1,)type'.\n",
      "  _np_qint16 = np.dtype([(\"qint16\", np.int16, 1)])\n",
      "C:\\Users\\coste\\Anaconda3\\lib\\site-packages\\tensorboard\\compat\\tensorflow_stub\\dtypes.py:544: FutureWarning: Passing (type, 1) or '1type' as a synonym of type is deprecated; in a future version of numpy, it will be understood as (type, (1,)) / '(1,)type'.\n",
      "  _np_quint16 = np.dtype([(\"quint16\", np.uint16, 1)])\n",
      "C:\\Users\\coste\\Anaconda3\\lib\\site-packages\\tensorboard\\compat\\tensorflow_stub\\dtypes.py:545: FutureWarning: Passing (type, 1) or '1type' as a synonym of type is deprecated; in a future version of numpy, it will be understood as (type, (1,)) / '(1,)type'.\n",
      "  _np_qint32 = np.dtype([(\"qint32\", np.int32, 1)])\n",
      "C:\\Users\\coste\\Anaconda3\\lib\\site-packages\\tensorboard\\compat\\tensorflow_stub\\dtypes.py:550: FutureWarning: Passing (type, 1) or '1type' as a synonym of type is deprecated; in a future version of numpy, it will be understood as (type, (1,)) / '(1,)type'.\n",
      "  np_resource = np.dtype([(\"resource\", np.ubyte, 1)])\n",
      "Using TensorFlow backend.\n"
     ]
    }
   ],
   "source": [
    "import tensorflow as tf\n",
    "from keras.backend import set_session"
   ]
  },
  {
   "cell_type": "code",
   "execution_count": 3,
   "metadata": {
    "colab": {
     "base_uri": "https://localhost:8080/",
     "height": 122
    },
    "colab_type": "code",
    "id": "YZXXFtLOEpqo",
    "outputId": "128fd8dd-a16f-4361-f85f-104f6371ae3f",
    "pycharm": {
     "is_executing": false
    }
   },
   "outputs": [
    {
     "ename": "ModuleNotFoundError",
     "evalue": "No module named 'google.colab'",
     "output_type": "error",
     "traceback": [
      "\u001b[1;31m---------------------------------------------------------------------------\u001b[0m",
      "\u001b[1;31mModuleNotFoundError\u001b[0m                       Traceback (most recent call last)",
      "\u001b[1;32m<ipython-input-3-d5df0069828e>\u001b[0m in \u001b[0;36m<module>\u001b[1;34m\u001b[0m\n\u001b[1;32m----> 1\u001b[1;33m \u001b[1;32mfrom\u001b[0m \u001b[0mgoogle\u001b[0m\u001b[1;33m.\u001b[0m\u001b[0mcolab\u001b[0m \u001b[1;32mimport\u001b[0m \u001b[0mdrive\u001b[0m\u001b[1;33m\u001b[0m\u001b[1;33m\u001b[0m\u001b[0m\n\u001b[0m\u001b[0;32m      2\u001b[0m \u001b[0mdrive\u001b[0m\u001b[1;33m.\u001b[0m\u001b[0mmount\u001b[0m\u001b[1;33m(\u001b[0m\u001b[1;34m'/content/drive'\u001b[0m\u001b[1;33m)\u001b[0m\u001b[1;33m\u001b[0m\u001b[1;33m\u001b[0m\u001b[0m\n",
      "\u001b[1;31mModuleNotFoundError\u001b[0m: No module named 'google.colab'"
     ]
    }
   ],
   "source": [
    "from google.colab import drive\n",
    "drive.mount('/content/drive')"
   ]
  },
  {
   "cell_type": "code",
   "execution_count": null,
   "metadata": {
    "colab": {},
    "colab_type": "code",
    "id": "2RvlKzD9FVXk",
    "pycharm": {
     "is_executing": false
    }
   },
   "outputs": [],
   "source": [
    "import seaborn as sns\n",
    "# https://gist.github.com/greydanus/f6eee59eaf1d90fcb3b534a25362cea4\n",
    "# https://stackoverflow.com/a/14434334\n",
    "# this function is used to update the plots for each epoch and error\n",
    "def plt_dynamic(x, vy, ty, ax, colors=['b']):\n",
    "    ax.plot(x, vy, 'b', label=\"Validation Loss\")\n",
    "    ax.plot(x, ty, 'r', label=\"Train Loss\")\n",
    "    plt.legend()\n",
    "    plt.grid()\n",
    "    fig.canvas.draw()"
   ]
  },
  {
   "cell_type": "code",
   "execution_count": null,
   "metadata": {
    "colab": {},
    "colab_type": "code",
    "id": "BNhXGZRnEUA0",
    "pycharm": {
     "is_executing": false
    }
   },
   "outputs": [],
   "source": [
    "import tensorflow as tf\n",
    "config = tf.ConfigProto(intra_op_parallelism_threads=1000, \n",
    "                        inter_op_parallelism_threads=1000, \n",
    "                        allow_soft_placement=True)\n",
    "config.gpu_options.allow_growth = True  # dynamically grow the memory used on the GPU\n",
    "config.log_device_placement = True\n",
    "sess = tf.Session(config=config)\n",
    "set_session(sess)"
   ]
  },
  {
   "cell_type": "code",
   "execution_count": null,
   "metadata": {
    "colab": {
     "base_uri": "https://localhost:8080/",
     "height": 68
    },
    "colab_type": "code",
    "id": "7mAK9XwnGmtf",
    "outputId": "56ec4411-78f6-4673-a0e4-6ea5b620c31c",
    "pycharm": {
     "is_executing": false
    }
   },
   "outputs": [],
   "source": [
    "!curl --header \"Host: doc-04-70-docs.googleusercontent.com\" --header \"User-Agent: Mozilla/5.0 (Windows NT 10.0; Win64; x64) AppleWebKit/537.36 (KHTML, like Gecko) Chrome/76.0.3809.100 Safari/537.36\" --header \"Accept: text/html,application/xhtml+xml,application/xml;q=0.9,image/webp,image/apng,*/*;q=0.8,application/signed-exchange;v=b3\" --header \"Accept-Language: en-IN,en-GB;q=0.9,en-US;q=0.8,en;q=0.7,mr;q=0.6,hi;q=0.5,pa;q=0.4\" --header \"Referer: https://docs.google.com/uc?id=0Bz1dfcnrpXM-MUt4cHNzUEFXcmc&export=download\" --header \"Cookie: AUTH_060o40qn8ku28qrtl1pv0ncv4ack86se_nonce=gfpj66ccsoepa\" --header \"Connection: keep-alive\" \"https://doc-04-70-docs.googleusercontent.com/docs/securesc/nn6dcriv8h10geq4m0m21f46ihk9dji9/5og25al7i8iqfls1173lmdqrh4b4noi8/1566108000000/18137660436632322230/00179091389856197121/0Bz1dfcnrpXM-MUt4cHNzUEFXcmc?e=download&nonce=gfpj66ccsoepa&user=00179091389856197121&hash=bjqf8ifci2or7q7pfsquiuhvd58vt8r7\" -o \"rvl-cdip.tar.gz\" -L"
   ]
  },
  {
   "cell_type": "code",
   "execution_count": null,
   "metadata": {
    "colab": {},
    "colab_type": "code",
    "id": "VSHES9uSEUFZ",
    "pycharm": {
     "is_executing": false
    }
   },
   "outputs": [],
   "source": [
    "import shutil\n",
    "\n",
    "shutil.unpack_archive('rvl-cdip.tar.gz','/data')"
   ]
  },
  {
   "cell_type": "code",
   "execution_count": null,
   "metadata": {
    "colab": {},
    "colab_type": "code",
    "id": "FvoRoAcXEUIQ",
    "pycharm": {
     "is_executing": false
    }
   },
   "outputs": [],
   "source": [
    "paths=joblib.load(\"paths\")"
   ]
  },
  {
   "cell_type": "code",
   "execution_count": null,
   "metadata": {
    "colab": {},
    "colab_type": "code",
    "id": "3t9s1nk7E53N",
    "pycharm": {
     "is_executing": false
    }
   },
   "outputs": [],
   "source": [
    "labels=joblib.load(\"labels\")"
   ]
  },
  {
   "cell_type": "code",
   "execution_count": null,
   "metadata": {
    "colab": {},
    "colab_type": "code",
    "id": "cmQE1K4QE593",
    "pycharm": {
     "is_executing": false
    }
   },
   "outputs": [],
   "source": [
    "y_train=labels[0]\n",
    "y_test=labels[1]\n",
    "y_cv=labels[2]              "
   ]
  },
  {
   "cell_type": "code",
   "execution_count": null,
   "metadata": {
    "colab": {},
    "colab_type": "code",
    "id": "YPofcgPnE9jc",
    "pycharm": {
     "is_executing": false
    }
   },
   "outputs": [],
   "source": [
    "for x in paths:\n",
    "    for i in range(len(x)):\n",
    "        x[i]=\"/data/images/\"+x[i]"
   ]
  },
  {
   "cell_type": "code",
   "execution_count": null,
   "metadata": {
    "colab": {},
    "colab_type": "code",
    "id": "mDmm2SbgE9mS",
    "pycharm": {
     "is_executing": false
    }
   },
   "outputs": [],
   "source": [
    "train=paths[0]\n",
    "test=paths[1]\n",
    "cv=paths[2]"
   ]
  },
  {
   "cell_type": "code",
   "execution_count": null,
   "metadata": {
    "colab": {
     "base_uri": "https://localhost:8080/",
     "height": 187
    },
    "colab_type": "code",
    "id": "iaIaHzkBe6Bs",
    "outputId": "74be1a5d-d9a8-4f78-89c4-56592df2c18c",
    "pycharm": {
     "is_executing": false
    }
   },
   "outputs": [],
   "source": [
    "import skimage.io\n",
    "for image in train[:10]:\n",
    "        im = cv2.imread(image,cv2.IMREAD_GRAYSCALE)\n",
    "        print(im.shape)"
   ]
  },
  {
   "cell_type": "code",
   "execution_count": null,
   "metadata": {
    "colab": {},
    "colab_type": "code",
    "id": "p3f2X5yEgViX",
    "pycharm": {
     "is_executing": false
    }
   },
   "outputs": [],
   "source": [
    "train_width=[]\n",
    "test_width=[]\n",
    "cv_width=[]\n",
    "count=0\n",
    "for image in train[:100]:\n",
    "        im = cv2.imread(image,cv2.IMREAD_GRAYSCALE)\n",
    "        train_width.append(im.shape[1])\n",
    "for image in test[:100]:\n",
    "        im = cv2.imread(image,cv2.IMREAD_GRAYSCALE)\n",
    "        test_width.append(im.shape[1])\n",
    "        count+=1\n",
    "        \n",
    "for image in cv[:100]:\n",
    "        im = cv2.imread(image,cv2.IMREAD_GRAYSCALE)\n",
    "        cv_width.append(im.shape[1])        "
   ]
  },
  {
   "cell_type": "code",
   "execution_count": null,
   "metadata": {
    "colab": {},
    "colab_type": "code",
    "id": "TgtpzqJQwHH6",
    "pycharm": {
     "is_executing": false
    }
   },
   "outputs": [],
   "source": []
  },
  {
   "cell_type": "code",
   "execution_count": null,
   "metadata": {
    "colab": {
     "base_uri": "https://localhost:8080/",
     "height": 773
    },
    "colab_type": "code",
    "id": "f94NeEV4gi3w",
    "outputId": "a1c574f8-993f-4f62-ea98-5a75044366b3",
    "pycharm": {
     "is_executing": false
    }
   },
   "outputs": [],
   "source": [
    "import seaborn as sb\n",
    "from matplotlib import pyplot as plt\n",
    "width=(train_width,test_width,cv_width)\n",
    "\n",
    "for x in width:\n",
    "        sb.distplot(x,kde = True)\n",
    "        plt.show()"
   ]
  },
  {
   "cell_type": "markdown",
   "metadata": {
    "colab_type": "text",
    "id": "mupl9xsWxatc"
   },
   "source": [
    "THERE A ALOT OF VARIANCE IN THE WIDTH"
   ]
  },
  {
   "cell_type": "code",
   "execution_count": null,
   "metadata": {
    "colab": {},
    "colab_type": "code",
    "id": "lunDcr7MRZnQ",
    "pycharm": {
     "is_executing": false
    }
   },
   "outputs": [],
   "source": [
    "from imutils import paths"
   ]
  },
  {
   "cell_type": "code",
   "execution_count": null,
   "metadata": {
    "colab": {
     "base_uri": "https://localhost:8080/",
     "height": 1000
    },
    "colab_type": "code",
    "id": "jD4IZlI77NTp",
    "outputId": "ab5bba4e-8943-4e0f-f0ea-2d3febc1224a",
    "pycharm": {
     "is_executing": false
    }
   },
   "outputs": [],
   "source": [
    "\n",
    "for i in range(0,16):\n",
    "    path=list(paths.list_images('/dataset/test/'+str(i)))[:3]\n",
    "    fig,axes = plt.subplots(1, 3,figsize=(20,20))\n",
    "    for j in range(3):\n",
    "      im = cv2.imread(path[j],cv2.IMREAD_GRAYSCALE)\n",
    "      axes[j].imshow(im, cmap='gray')\n",
    "      axes[j].set_title(str(doc_type[i]))"
   ]
  },
  {
   "cell_type": "code",
   "execution_count": null,
   "metadata": {
    "colab": {
     "base_uri": "https://localhost:8080/",
     "height": 289
    },
    "colab_type": "code",
    "id": "JgVrMWWRg-Nr",
    "outputId": "ecde41bc-290d-41cc-aae2-698c6c0b00ac",
    "pycharm": {
     "is_executing": false
    }
   },
   "outputs": [],
   "source": [
    "df_train.labels.value_counts().plot(kind='bar')"
   ]
  },
  {
   "cell_type": "code",
   "execution_count": null,
   "metadata": {
    "colab": {},
    "colab_type": "code",
    "id": "I53qd3gwFHGI",
    "pycharm": {
     "is_executing": false
    }
   },
   "outputs": [],
   "source": [
    "df_train=pd.DataFrame(list(zip(train,y_train)),columns=['paths','labels'])\n",
    "df_test=pd.DataFrame(list(zip(test,y_test)),columns=['paths','labels'])\n",
    "df_cv=pd.DataFrame(list(zip(cv,y_cv)),columns=['paths','labels'])"
   ]
  },
  {
   "cell_type": "code",
   "execution_count": null,
   "metadata": {
    "colab": {},
    "colab_type": "code",
    "id": "QvyBKpoPFHLS",
    "pycharm": {
     "is_executing": false
    }
   },
   "outputs": [],
   "source": [
    "df_train.labels=df_train.labels.astype(int)\n",
    "df_test.labels=df_test.labels.astype(int)\n",
    "df_cv.labels=df_cv.labels.astype(int)"
   ]
  },
  {
   "cell_type": "code",
   "execution_count": null,
   "metadata": {
    "colab": {},
    "colab_type": "code",
    "id": "1AyX8ePohEGs",
    "pycharm": {
     "is_executing": false
    }
   },
   "outputs": [],
   "source": [
    "import os\n",
    "for i in range(0,16):\n",
    "    if not os.path.exists(\"/dataset/train/\"+str(i)):\n",
    "        os.makedirs(\"/dataset/train/\"+str(i))"
   ]
  },
  {
   "cell_type": "code",
   "execution_count": null,
   "metadata": {
    "colab": {},
    "colab_type": "code",
    "id": "UIr_vuRahV2B",
    "pycharm": {
     "is_executing": false
    }
   },
   "outputs": [],
   "source": [
    "import os\n",
    "import shutil\n",
    "\n",
    "for i in range(0,16):\n",
    "    paths=list(df_train[df_train.labels==i].paths.values)[:10000]\n",
    "    for path in paths:\n",
    "        try:\n",
    "            shutil.move(path,\"/dataset/train/\"+str(i))\n",
    "        except:\n",
    "             pass"
   ]
  },
  {
   "cell_type": "code",
   "execution_count": null,
   "metadata": {
    "colab": {},
    "colab_type": "code",
    "id": "GRSgb6z5hcec",
    "pycharm": {
     "is_executing": false
    }
   },
   "outputs": [],
   "source": [
    "for i in range(0,16):\n",
    "    if not os.path.exists(\"/dataset/test/\"+str(i)):\n",
    "        os.makedirs(\"/dataset/test/\"+str(i))"
   ]
  },
  {
   "cell_type": "code",
   "execution_count": null,
   "metadata": {
    "colab": {},
    "colab_type": "code",
    "id": "PfUwUVq9hcu7",
    "pycharm": {
     "is_executing": false
    }
   },
   "outputs": [],
   "source": [
    "import os\n",
    "import shutil\n",
    "\n",
    "for i in range(0,16):\n",
    "    paths=list(df_test[df_test.labels==i].paths.values)\n",
    "    for path in paths:\n",
    "        try:\n",
    "            shutil.move(path,\"/dataset/test/\"+str(i))\n",
    "        except:\n",
    "             pass"
   ]
  },
  {
   "cell_type": "code",
   "execution_count": null,
   "metadata": {
    "colab": {},
    "colab_type": "code",
    "id": "eduZYRpIhj6x",
    "pycharm": {
     "is_executing": false
    }
   },
   "outputs": [],
   "source": [
    "for i in range(0,16):\n",
    "    if not os.path.exists(\"/dataset/cv/\"+str(i)):\n",
    "        os.makedirs(\"/dataset/cv/\"+str(i))"
   ]
  },
  {
   "cell_type": "code",
   "execution_count": null,
   "metadata": {
    "colab": {},
    "colab_type": "code",
    "id": "oSHmWU63hku8",
    "pycharm": {
     "is_executing": false
    }
   },
   "outputs": [],
   "source": [
    "import os\n",
    "import shutil\n",
    "\n",
    "for i in range(0,16):\n",
    "    paths=list(df_cv[df_cv.labels==i].paths.values)\n",
    "    for path in paths:\n",
    "        try:\n",
    "            shutil.move(path,\"/dataset/cv/\"+str(i))\n",
    "        except:\n",
    "             pass"
   ]
  },
  {
   "cell_type": "code",
   "execution_count": null,
   "metadata": {
    "colab": {},
    "colab_type": "code",
    "id": "nLTiqysPTBLh",
    "pycharm": {
     "is_executing": false
    }
   },
   "outputs": [],
   "source": [
    "from keras.preprocessing.image import ImageDataGenerator"
   ]
  },
  {
   "cell_type": "code",
   "execution_count": null,
   "metadata": {
    "colab": {},
    "colab_type": "code",
    "id": "WaDg9KtkTMUp",
    "pycharm": {
     "is_executing": false
    }
   },
   "outputs": [],
   "source": [
    "train_datagen = ImageDataGenerator(\n",
    "rescale = 1./255)\n",
    "test_datagen = ImageDataGenerator(\n",
    "rescale = 1./255)\n",
    "cv_datagen = ImageDataGenerator(\n",
    "rescale = 1./255)"
   ]
  },
  {
   "cell_type": "code",
   "execution_count": null,
   "metadata": {
    "colab": {
     "base_uri": "https://localhost:8080/",
     "height": 68
    },
    "colab_type": "code",
    "id": "gojjLL4wjcvx",
    "outputId": "2e5df211-46fb-4a5b-d3ba-fd848ad59029",
    "pycharm": {
     "is_executing": false
    }
   },
   "outputs": [],
   "source": [
    "train_it = train_datagen.flow_from_directory('/dataset/train/',batch_size=32,target_size=(256, 256))\n",
    "# load and iterate validation dataset\n",
    "test_it = test_datagen.flow_from_directory('/dataset/test/',batch_size=32,target_size=(256, 256))\n",
    "# load and iterate test dataset\n",
    "cv_it = cv_datagen.flow_from_directory('/dataset/cv/', batch_size=32,target_size=(256, 256))"
   ]
  },
  {
   "cell_type": "markdown",
   "metadata": {
    "colab_type": "text",
    "id": "q5UeV5KMxQ9A"
   },
   "source": [
    "## **TRANFER LEARNING WITH IMAGENET INITIALIZED VGG**"
   ]
  },
  {
   "cell_type": "code",
   "execution_count": null,
   "metadata": {
    "colab": {},
    "colab_type": "code",
    "id": "xnQYRSYwkN5u",
    "pycharm": {
     "is_executing": false
    }
   },
   "outputs": [],
   "source": [
    "from keras.optimizers import Adam"
   ]
  },
  {
   "cell_type": "code",
   "execution_count": null,
   "metadata": {
    "colab": {},
    "colab_type": "code",
    "id": "YJCmKsacjoPm",
    "pycharm": {
     "is_executing": false
    }
   },
   "outputs": [],
   "source": [
    "from keras import applications\n",
    "from keras.preprocessing.image import ImageDataGenerator\n",
    "from keras import optimizers\n",
    "from keras.models import Sequential, Model \n",
    "from keras.layers import Dropout, Flatten, Dense, GlobalAveragePooling2D\n",
    "from keras import backend as k \n",
    "from keras.callbacks import ModelCheckpoint, LearningRateScheduler, TensorBoard, EarlyStopping\n",
    "\n",
    "img_width, img_height = 256,256\n",
    "batch_size = 32\n",
    "epochs = 50\n",
    "\n",
    "\n",
    "model =keras.applications.vgg16.VGG16(weights = \"imagenet\", include_top=False, input_shape = (img_width, img_height, 3),)"
   ]
  },
  {
   "cell_type": "code",
   "execution_count": null,
   "metadata": {
    "colab": {},
    "colab_type": "code",
    "id": "fZd0jOUaTgl9",
    "pycharm": {
     "is_executing": false
    }
   },
   "outputs": [],
   "source": [
    "from keras.callbacks import ReduceLROnPlateau\n",
    "\n",
    "reduce_lr = ReduceLROnPlateau(monitor='val_loss', factor=0.2,\n",
    "                              patience=2, min_lr=0.000001)\n",
    "mcp_save = ModelCheckpoint('model_1.hdf5', save_best_only=True, monitor='acc', mode='max')"
   ]
  },
  {
   "cell_type": "code",
   "execution_count": null,
   "metadata": {
    "colab": {},
    "colab_type": "code",
    "id": "6WSUXXwuaXlx",
    "pycharm": {
     "is_executing": false
    }
   },
   "outputs": [],
   "source": [
    "from keras.layers import GlobalAveragePooling2D"
   ]
  },
  {
   "cell_type": "code",
   "execution_count": null,
   "metadata": {
    "colab": {
     "base_uri": "https://localhost:8080/",
     "height": 156
    },
    "colab_type": "code",
    "id": "igpYcBlgkTIB",
    "outputId": "18b1bf38-daf1-4bc0-e3f0-d8721cb6b7b1",
    "pycharm": {
     "is_executing": false
    }
   },
   "outputs": [],
   "source": [
    "for layer in model.layers:\n",
    "    layer.trainable=True\n",
    "\n",
    "#Adding custom Layers \n",
    "x = model.output\n",
    "x = Flatten()(x)\n",
    "x = Dense(256, activation=\"relu\")(x)\n",
    "x = Dropout(0.5)(x)\n",
    "x = Dense(128, activation=\"relu\")(x)\n",
    "predictions = Dense(16, activation=\"softmax\")(x)\n",
    "\n",
    "# creating the final model \n",
    "model_final = Model(input = model.input, output = predictions)\n",
    "\n",
    "# compile the model \n",
    "model_final.compile(loss = \"categorical_crossentropy\", optimizer =Adam(lr=0.0001), metrics=[\"accuracy\"])\n"
   ]
  },
  {
   "cell_type": "code",
   "execution_count": null,
   "metadata": {
    "colab": {
     "base_uri": "https://localhost:8080/",
     "height": 1000
    },
    "colab_type": "code",
    "id": "AU2Z2gFwkYWu",
    "outputId": "b75d955b-e3f9-4832-f3e9-1e74731dd496",
    "pycharm": {
     "is_executing": false
    },
    "scrolled": false
   },
   "outputs": [],
   "source": [
    "model_final.summary()"
   ]
  },
  {
   "cell_type": "code",
   "execution_count": null,
   "metadata": {
    "colab": {
     "base_uri": "https://localhost:8080/",
     "height": 734
    },
    "colab_type": "code",
    "id": "SFM2FQIKkfN-",
    "outputId": "63288b7d-9b91-47e9-8387-86a641b46d24",
    "pycharm": {
     "is_executing": false
    }
   },
   "outputs": [],
   "source": [
    "model_final.fit_generator(\n",
    "train_it,\n",
    "steps_per_epoch =159951/32,\n",
    "epochs=10,    \n",
    "validation_data=cv_it,\n",
    "validation_steps=39995/32,\n",
    "callbacks=[reduce_lr,mcp_save])"
   ]
  },
  {
   "cell_type": "code",
   "execution_count": null,
   "metadata": {
    "colab": {},
    "colab_type": "code",
    "id": "OBIiX_C4aXl-",
    "pycharm": {
     "is_executing": false
    }
   },
   "outputs": [],
   "source": [
    "model_final.load_weights('model_1.hdf5')"
   ]
  },
  {
   "cell_type": "code",
   "execution_count": null,
   "metadata": {
    "colab": {
     "base_uri": "https://localhost:8080/",
     "height": 71
    },
    "colab_type": "code",
    "id": "BmCyT5zzLkco",
    "outputId": "98558819-f9de-43e0-c497-40c36c842105",
    "pycharm": {
     "is_executing": false
    }
   },
   "outputs": [],
   "source": [
    "score=model_final.evaluate_generator(test_it,steps=39997/128,workers=2, use_multiprocessing=True, verbose=0)"
   ]
  },
  {
   "cell_type": "code",
   "execution_count": null,
   "metadata": {
    "colab": {
     "base_uri": "https://localhost:8080/",
     "height": 34
    },
    "colab_type": "code",
    "id": "0ENH1a0dLkgg",
    "outputId": "88760788-141f-4a0d-d671-75c72bf620f7",
    "pycharm": {
     "is_executing": false
    }
   },
   "outputs": [],
   "source": [
    "print(\"The accuracy for model-Pretrained vgg-16 initiazlied with image net:\",score[1]*100,\"%\")"
   ]
  },
  {
   "cell_type": "markdown",
   "metadata": {
    "colab_type": "text",
    "id": "NY3P1hqjw5cs"
   },
   "source": [
    "# **FINE TUNING LAST CNN LAYER OF VGG**"
   ]
  },
  {
   "cell_type": "code",
   "execution_count": null,
   "metadata": {
    "colab": {},
    "colab_type": "code",
    "id": "1dTA0-bDLkml",
    "pycharm": {
     "is_executing": false
    }
   },
   "outputs": [],
   "source": [
    "model_2 = applications.VGG19(weights = \"imagenet\", include_top=False, input_shape = (img_width, img_height, 3),)"
   ]
  },
  {
   "cell_type": "code",
   "execution_count": null,
   "metadata": {
    "colab": {
     "base_uri": "https://localhost:8080/",
     "height": 156
    },
    "colab_type": "code",
    "id": "PQMzmNJHZMLH",
    "outputId": "23f66e84-f8c2-44e6-901e-16d9bbbc0eee",
    "pycharm": {
     "is_executing": false
    }
   },
   "outputs": [],
   "source": [
    "for layer in model_2.layers:\n",
    "    layer.trainable=False  \n",
    "model_2.layers[-2].trainable=True    \n",
    "\n",
    "#Adding custom Layers \n",
    "x = model_2.output\n",
    "x = Flatten()(x)\n",
    "x = Dense(256, activation=\"relu\")(x)\n",
    "x = Dropout(0.5)(x)\n",
    "x = Dense(128, activation=\"relu\")(x)\n",
    "predictions = Dense(16, activation=\"softmax\")(x)\n",
    "\n",
    "# creating the final model \n",
    "model_final_2 = Model(input = model_2.input, output = predictions)\n",
    "\n",
    "# compile the model \n",
    "model_final_2.compile(loss = \"categorical_crossentropy\", optimizer =Adam(lr=0.0001), metrics=[\"accuracy\"])\n"
   ]
  },
  {
   "cell_type": "code",
   "execution_count": null,
   "metadata": {
    "colab": {
     "base_uri": "https://localhost:8080/",
     "height": 1000
    },
    "colab_type": "code",
    "id": "7KGg33gVGMf_",
    "outputId": "373eba59-719c-4f7b-db2e-eb974fa778df",
    "pycharm": {
     "is_executing": false
    }
   },
   "outputs": [],
   "source": [
    "model_final_2.summary()"
   ]
  },
  {
   "cell_type": "code",
   "execution_count": null,
   "metadata": {
    "colab": {
     "base_uri": "https://localhost:8080/",
     "height": 717
    },
    "colab_type": "code",
    "id": "MI3yUlkYZec1",
    "outputId": "a90c4fb0-3616-40bd-96ea-b9f41bcdbabc",
    "pycharm": {
     "is_executing": false
    }
   },
   "outputs": [],
   "source": [
    "history=model_final_2.fit_generator(\n",
    "train_it,\n",
    "steps_per_epoch =159951/128,\n",
    "epochs=20,    \n",
    "validation_data=cv_it,\n",
    "validation_steps=39995/128,\n",
    "callbacks=[reduce_lr,mcp_save]\n",
    ")"
   ]
  },
  {
   "cell_type": "code",
   "execution_count": null,
   "metadata": {
    "colab": {
     "base_uri": "https://localhost:8080/",
     "height": 287
    },
    "colab_type": "code",
    "id": "TnYKbQp5snMf",
    "outputId": "d600021a-d1e9-4a71-b694-9b29fc778fc6",
    "pycharm": {
     "is_executing": false
    }
   },
   "outputs": [],
   "source": [
    "\n",
    "%matplotlib inline\n",
    "sns.set_context('notebook')\n",
    "%config InlineBackend.figure_format = 'retina'\n",
    "\n",
    "\n",
    "fig,ax = plt.subplots(1,1)\n",
    "ax.set_xlabel('epoch') ; ax.set_ylabel('Categorical Crossentropy Loss')\n",
    "\n",
    "# list of epoch numbers\n",
    "x = list(range(1,20+1))\n",
    "\n",
    "# print(history.history.keys())\n",
    "# dict_keys(['val_loss', 'val_acc', 'loss', 'acc'])\n",
    "# history = model_drop.fit(X_train, Y_train, batch_size=batch_size, epochs=nb_epoch, verbose=1, validation_data=(X_test, Y_test))\n",
    "\n",
    "# we will get val_loss and val_acc only when you pass the paramter validation_data\n",
    "# val_loss : validation loss\n",
    "# val_acc : validation accuracy\n",
    "\n",
    "# loss : training loss\n",
    "# acc : train accuracy\n",
    "# for each key in histrory.histrory we will have a list of length equal to number of epochs\n",
    "\n",
    "\n",
    "vy = history.history['val_loss']\n",
    "ty = history.history['loss']\n",
    "plt_dynamic(x, vy, ty, ax)"
   ]
  },
  {
   "cell_type": "code",
   "execution_count": null,
   "metadata": {
    "colab": {},
    "colab_type": "code",
    "id": "b1nhdefLRQk_",
    "pycharm": {
     "is_executing": false
    }
   },
   "outputs": [],
   "source": [
    "score=model_final_2.evaluate_generator(test_it,steps=39997/128,workers=2, use_multiprocessing=True, verbose=0)"
   ]
  },
  {
   "cell_type": "code",
   "execution_count": null,
   "metadata": {
    "colab": {
     "base_uri": "https://localhost:8080/",
     "height": 34
    },
    "colab_type": "code",
    "id": "fmPCxH0FRbQA",
    "outputId": "e4fcd2fd-a6dc-4abd-9a87-c49890df1bbf",
    "pycharm": {
     "is_executing": false
    }
   },
   "outputs": [],
   "source": [
    "print(\"The accuracy for model-Pretrained vgg-16 fine-tuning the last CNN vgg layer:\",score[1]*100,\"%\")"
   ]
  },
  {
   "cell_type": "markdown",
   "metadata": {
    "colab_type": "text",
    "id": "zvgGBt6KJvh5"
   },
   "source": [
    "# **FINE TUNING LAST 2 CNN LAYERS OF VGG-16**"
   ]
  },
  {
   "cell_type": "code",
   "execution_count": null,
   "metadata": {
    "colab": {},
    "colab_type": "code",
    "id": "B80S4WOvHj9w",
    "pycharm": {
     "is_executing": false
    }
   },
   "outputs": [],
   "source": [
    "model_3 = applications.VGG19(weights = \"imagenet\", include_top=False, input_shape = (img_width, img_height, 3),)"
   ]
  },
  {
   "cell_type": "code",
   "execution_count": null,
   "metadata": {
    "colab": {
     "base_uri": "https://localhost:8080/",
     "height": 71
    },
    "colab_type": "code",
    "id": "fqXBVLAQKi7q",
    "outputId": "662cdb2d-bf7d-4a55-929f-78ea4c8cfee3",
    "pycharm": {
     "is_executing": false
    }
   },
   "outputs": [],
   "source": [
    "for layer in model_3.layers:\n",
    "    layer.trainable=False  \n",
    "model_3.layers[-2].trainable=True\n",
    "model_3.layers[-3].trainable=True      \n",
    "\n",
    "#Adding custom Layers \n",
    "x = model_3.output\n",
    "x = Flatten()(x)\n",
    "x = Dense(256, activation=\"relu\")(x)\n",
    "x = Dropout(0.5)(x)\n",
    "x = Dense(128, activation=\"relu\")(x)\n",
    "predictions = Dense(16, activation=\"softmax\")(x)\n",
    "\n",
    "# creating the final model \n",
    "model_final_3 = Model(input = model_3.input, output = predictions)\n",
    "\n",
    "# compile the model \n",
    "model_final_3.compile(loss = \"categorical_crossentropy\", optimizer =Adam(lr=0.0001), metrics=[\"accuracy\"])\n"
   ]
  },
  {
   "cell_type": "code",
   "execution_count": null,
   "metadata": {
    "colab": {
     "base_uri": "https://localhost:8080/",
     "height": 1000
    },
    "colab_type": "code",
    "id": "JfaA6CWsKjB_",
    "outputId": "9be47cfb-4211-497d-ba40-0ffe6c763186",
    "pycharm": {
     "is_executing": false
    }
   },
   "outputs": [],
   "source": [
    "model_final_3.summary()"
   ]
  },
  {
   "cell_type": "code",
   "execution_count": null,
   "metadata": {
    "colab": {
     "base_uri": "https://localhost:8080/",
     "height": 697
    },
    "colab_type": "code",
    "id": "VZx--eU_Ki_c",
    "outputId": "6f4953e4-9150-4190-ee65-b13e0eedf25f",
    "pycharm": {
     "is_executing": false
    }
   },
   "outputs": [],
   "source": [
    "history=model_final_3.fit_generator(\n",
    "train_it,\n",
    "steps_per_epoch =159951/128,\n",
    "epochs=20,    \n",
    "validation_data=cv_it,\n",
    "validation_steps=39995/128,\n",
    "callbacks=[reduce_lr,mcp_save]\n",
    ")"
   ]
  },
  {
   "cell_type": "code",
   "execution_count": null,
   "metadata": {
    "colab": {
     "base_uri": "https://localhost:8080/",
     "height": 287
    },
    "colab_type": "code",
    "id": "02gk57_wKi5r",
    "outputId": "2fedab66-6b13-4e98-9b34-37224534044f",
    "pycharm": {
     "is_executing": false
    }
   },
   "outputs": [],
   "source": [
    "\n",
    "%matplotlib inline\n",
    "sns.set_context('notebook')\n",
    "%config InlineBackend.figure_format = 'retina'\n",
    "\n",
    "\n",
    "fig,ax = plt.subplots(1,1)\n",
    "ax.set_xlabel('epoch') ; ax.set_ylabel('Categorical Crossentropy Loss')\n",
    "\n",
    "# list of epoch numbers\n",
    "x = list(range(1,20+1))\n",
    "\n",
    "# print(history.history.keys())\n",
    "# dict_keys(['val_loss', 'val_acc', 'loss', 'acc'])\n",
    "# history = model_drop.fit(X_train, Y_train, batch_size=batch_size, epochs=nb_epoch, verbose=1, validation_data=(X_test, Y_test))\n",
    "\n",
    "# we will get val_loss and val_acc only when you pass the paramter validation_data\n",
    "# val_loss : validation loss\n",
    "# val_acc : validation accuracy\n",
    "\n",
    "# loss : training loss\n",
    "# acc : train accuracy\n",
    "# for each key in histrory.histrory we will have a list of length equal to number of epochs\n",
    "\n",
    "\n",
    "vy = history.history['val_loss']\n",
    "ty = history.history['loss']\n",
    "plt_dynamic(x, vy, ty, ax)"
   ]
  },
  {
   "cell_type": "code",
   "execution_count": null,
   "metadata": {
    "colab": {
     "base_uri": "https://localhost:8080/",
     "height": 71
    },
    "colab_type": "code",
    "id": "Vb-h9B6uu-5t",
    "outputId": "db9a135b-8ade-4589-cc9e-2a3a2fbdcf91",
    "pycharm": {
     "is_executing": false
    }
   },
   "outputs": [],
   "source": [
    "score=model_final_3.evaluate_generator(test_it,steps=39997/256,workers=2, use_multiprocessing=True, verbose=0)"
   ]
  },
  {
   "cell_type": "code",
   "execution_count": null,
   "metadata": {
    "colab": {
     "base_uri": "https://localhost:8080/",
     "height": 34
    },
    "colab_type": "code",
    "id": "Jss3rTkMvEt8",
    "outputId": "92df8ebe-009e-44a3-ff24-309bddef9192",
    "pycharm": {
     "is_executing": false
    }
   },
   "outputs": [],
   "source": [
    "print(\"The accuracy for model-Pretrained vgg-16 fine-tuning the last 2 CNN vgg layer:\",score[1]*100,\"%\")"
   ]
  },
  {
   "cell_type": "markdown",
   "metadata": {
    "colab_type": "text",
    "id": "u3GUKHvneH5m"
   },
   "source": [
    "# **FINE TUNING VGG-REGION SPECIFIC**"
   ]
  },
  {
   "cell_type": "markdown",
   "metadata": {
    "colab_type": "text",
    "id": "4ov5T29Oa1Rh"
   },
   "source": [
    "**TOP REGION**"
   ]
  },
  {
   "cell_type": "code",
   "execution_count": null,
   "metadata": {
    "colab": {},
    "colab_type": "code",
    "id": "nC15WTk8eH5_",
    "pycharm": {
     "is_executing": false
    }
   },
   "outputs": [],
   "source": [
    "model_2 =keras.applications.vgg16.VGG16(weights = None, include_top=False, input_shape = (256,256, 3),)"
   ]
  },
  {
   "cell_type": "code",
   "execution_count": null,
   "metadata": {
    "colab": {},
    "colab_type": "code",
    "id": "wa5ZqQYyMUp-",
    "pycharm": {
     "is_executing": false
    }
   },
   "outputs": [],
   "source": [
    "mcp_save = ModelCheckpoint('model_2.hdf5', save_best_only=True, monitor='acc', mode='max')"
   ]
  },
  {
   "cell_type": "code",
   "execution_count": null,
   "metadata": {
    "colab": {},
    "colab_type": "code",
    "id": "2MeNybQ1eH6J",
    "outputId": "a1bbf0c5-0b17-4319-be31-6f84ed2517b9",
    "pycharm": {
     "is_executing": false
    }
   },
   "outputs": [],
   "source": [
    "for layer in model_2.layers:\n",
    "    layer.trainable=True\n",
    "\n",
    "#Adding custom Layers \n",
    "x = model_2.output\n",
    "x = Flatten()(x)\n",
    "x = Dense(256, activation=\"relu\")(x)\n",
    "x = Dropout(0.5)(x)\n",
    "x = Dense(128, activation=\"relu\")(x)\n",
    "predictions = Dense(16, activation=\"softmax\")(x)\n",
    "\n",
    "# creating the final model \n",
    "model_final_2 = Model(input = model_2.input, output = predictions)\n",
    "\n",
    "# compile the model \n",
    "model_final_2.compile(loss = \"categorical_crossentropy\", optimizer =Adam(lr=0.0001), metrics=[\"accuracy\"])\n"
   ]
  },
  {
   "cell_type": "code",
   "execution_count": null,
   "metadata": {
    "colab": {
     "base_uri": "https://localhost:8080/",
     "height": 1000
    },
    "colab_type": "code",
    "id": "ur6Wzib8eH6S",
    "outputId": "a587e1ee-a13c-4716-9b3b-18fb95eea371",
    "pycharm": {
     "is_executing": false
    },
    "scrolled": true
   },
   "outputs": [],
   "source": [
    "model_final_2.summary()"
   ]
  },
  {
   "cell_type": "code",
   "execution_count": null,
   "metadata": {
    "colab": {},
    "colab_type": "code",
    "id": "B3xMlSf9aXmb",
    "pycharm": {
     "is_executing": false
    }
   },
   "outputs": [],
   "source": [
    "model_final_2.load_weights('model_1.hdf5')"
   ]
  },
  {
   "cell_type": "code",
   "execution_count": null,
   "metadata": {
    "colab": {},
    "colab_type": "code",
    "id": "9HatWOWdaXmc",
    "pycharm": {
     "is_executing": false
    }
   },
   "outputs": [],
   "source": [
    "def height_crop_generator(batches):\n",
    "    while True:\n",
    "        batch_X, label = next(batches)\n",
    "        batch_Xcrops = np.zeros((batch_X.shape[0],256,256,3))\n",
    "        for i in range(batch_X.shape[0]):\n",
    "            batch_Xcrops[i] = batch_X[i][:256,:,:]\n",
    "        yield (batch_Xcrops,label)\n"
   ]
  },
  {
   "cell_type": "code",
   "execution_count": null,
   "metadata": {
    "colab": {},
    "colab_type": "code",
    "id": "VmgW6pdJaXmf",
    "pycharm": {
     "is_executing": false
    }
   },
   "outputs": [],
   "source": [
    "train_datagen = ImageDataGenerator(\n",
    "rescale = 1./255)\n",
    "test_datagen = ImageDataGenerator(\n",
    "rescale = 1./255)\n",
    "cv_datagen = ImageDataGenerator(\n",
    "rescale = 1./255)"
   ]
  },
  {
   "cell_type": "code",
   "execution_count": null,
   "metadata": {
    "colab": {},
    "colab_type": "code",
    "id": "KSvm-DV2aXmi",
    "outputId": "259c5869-29b7-420e-a331-b2d1bf6350b6",
    "pycharm": {
     "is_executing": false
    }
   },
   "outputs": [],
   "source": [
    "train_it_2 = train_datagen.flow_from_directory('dataset/train/',batch_size=32,target_size=(512,256))\n",
    "# load and iterate validation dataset\n",
    "test_it = test_datagen.flow_from_directory('dataset/test/',batch_size=32,target_size=(512,256))\n",
    "# load and iterate test dataset\n",
    "cv_it_2 = cv_datagen.flow_from_directory('dataset/cv/', batch_size=32,target_size=(512,256))"
   ]
  },
  {
   "cell_type": "code",
   "execution_count": null,
   "metadata": {
    "colab": {},
    "colab_type": "code",
    "id": "fTH_LQtzeH6w",
    "outputId": "aa0c07ea-b71e-4e3b-f0b8-300f587f4ebd",
    "pycharm": {
     "is_executing": false
    },
    "scrolled": true
   },
   "outputs": [],
   "source": [
    "history=model_final_2.fit_generator(\n",
    "height_crop_generator(train_it_2),\n",
    "steps_per_epoch =159951/128,\n",
    "epochs=5,    \n",
    "validation_data=height_crop_generator(cv_it_2),\n",
    "validation_steps=39995/128,\n",
    "callbacks=[reduce_lr,mcp_save]\n",
    ")"
   ]
  },
  {
   "cell_type": "code",
   "execution_count": null,
   "metadata": {
    "colab": {
     "base_uri": "https://localhost:8080/",
     "height": 71
    },
    "colab_type": "code",
    "id": "AH4V-YrGaXmr",
    "outputId": "98558819-f9de-43e0-c497-40c36c842105",
    "pycharm": {
     "is_executing": false
    }
   },
   "outputs": [],
   "source": [
    "score=model_final_2.evaluate_generator(height_crop_generator(test_it),steps=39997/128,workers=2, use_multiprocessing=True, verbose=0)"
   ]
  },
  {
   "cell_type": "markdown",
   "metadata": {
    "colab_type": "text",
    "id": "PJZs-eqtaXmw"
   },
   "source": [
    "**BOTTOM REGION**"
   ]
  },
  {
   "cell_type": "code",
   "execution_count": null,
   "metadata": {
    "colab": {},
    "colab_type": "code",
    "id": "n9rv61fVaXmx",
    "pycharm": {
     "is_executing": false
    }
   },
   "outputs": [],
   "source": [
    "model_bottom =keras.applications.vgg16.VGG16(weights = None, include_top=False, input_shape = (256,256, 3))"
   ]
  },
  {
   "cell_type": "code",
   "execution_count": null,
   "metadata": {
    "colab": {},
    "colab_type": "code",
    "id": "2OeXvR8SaXmz",
    "outputId": "0de482fa-5330-466f-a66d-b8ac6bffff85",
    "pycharm": {
     "is_executing": false
    }
   },
   "outputs": [],
   "source": [
    "for layer in model_bottom.layers:\n",
    "    layer.trainable=True\n",
    "\n",
    "#Adding custom Layers \n",
    "x = model_bottom.output\n",
    "x = Flatten()(x)\n",
    "x = Dense(256, activation=\"relu\")(x)\n",
    "x = Dropout(0.5)(x)\n",
    "x = Dense(128, activation=\"relu\")(x)\n",
    "predictions = Dense(16, activation=\"softmax\")(x)\n",
    "\n",
    "# creating the final model \n",
    "model_final_bottom = Model(input = model_bottom.input, output = predictions)\n",
    "\n",
    "# compile the model \n",
    "model_final_bottom.compile(loss = \"categorical_crossentropy\", optimizer =Adam(lr=0.0001), metrics=[\"accuracy\"])\n"
   ]
  },
  {
   "cell_type": "code",
   "execution_count": null,
   "metadata": {
    "colab": {},
    "colab_type": "code",
    "id": "h0I13BOnaXm1",
    "pycharm": {
     "is_executing": false
    }
   },
   "outputs": [],
   "source": [
    "mcp_save = ModelCheckpoint('model_bottom.hdf5', save_best_only=True, monitor='acc', mode='max')"
   ]
  },
  {
   "cell_type": "code",
   "execution_count": null,
   "metadata": {
    "colab": {
     "base_uri": "https://localhost:8080/",
     "height": 1000
    },
    "colab_type": "code",
    "id": "_HIfYTb9aXm5",
    "outputId": "a587e1ee-a13c-4716-9b3b-18fb95eea371",
    "pycharm": {
     "is_executing": false
    },
    "scrolled": true
   },
   "outputs": [],
   "source": [
    "model_final_bottom.summary()"
   ]
  },
  {
   "cell_type": "code",
   "execution_count": null,
   "metadata": {
    "colab": {},
    "colab_type": "code",
    "id": "0Y8C_DmTaXm7",
    "pycharm": {
     "is_executing": false
    }
   },
   "outputs": [],
   "source": [
    "model_final_bottom.load_weights('model_1.hdf5')"
   ]
  },
  {
   "cell_type": "code",
   "execution_count": null,
   "metadata": {
    "colab": {},
    "colab_type": "code",
    "id": "22RoElpRaXm8",
    "pycharm": {
     "is_executing": false
    }
   },
   "outputs": [],
   "source": [
    "def bottom_crop_generator(batches):\n",
    "    while True:\n",
    "        batch_X, label = next(batches)\n",
    "        batch_Xcrops = np.zeros((batch_X.shape[0],256,256,3))\n",
    "        for i in range(batch_X.shape[0]):\n",
    "            batch_Xcrops[i] = batch_X[i][-256:,:,:]\n",
    "        yield (batch_Xcrops,label)\n"
   ]
  },
  {
   "cell_type": "code",
   "execution_count": null,
   "metadata": {
    "colab": {},
    "colab_type": "code",
    "id": "jNBD-FZzaXm-",
    "pycharm": {
     "is_executing": false
    }
   },
   "outputs": [],
   "source": [
    "train_datagen = ImageDataGenerator(\n",
    "rescale = 1./255)\n",
    "test_datagen = ImageDataGenerator(\n",
    "rescale = 1./255)\n",
    "cv_datagen = ImageDataGenerator(\n",
    "rescale = 1./255)"
   ]
  },
  {
   "cell_type": "code",
   "execution_count": null,
   "metadata": {
    "colab": {},
    "colab_type": "code",
    "id": "1_5DEG-TaXnA",
    "outputId": "1f802391-1c9e-4185-a385-092020186b3d",
    "pycharm": {
     "is_executing": false
    }
   },
   "outputs": [],
   "source": [
    "train_it = train_datagen.flow_from_directory('dataset/train/',batch_size=32,target_size=(512,256))\n",
    "# load and iterate validation dataset\n",
    "test_it = test_datagen.flow_from_directory('dataset/test/',batch_size=32,target_size=(512,256))\n",
    "# load and iterate test dataset\n",
    "cv_it = cv_datagen.flow_from_directory('dataset/cv/', batch_size=32,target_size=(512,256))"
   ]
  },
  {
   "cell_type": "code",
   "execution_count": null,
   "metadata": {
    "colab": {},
    "colab_type": "code",
    "id": "zfV4zO1SaXnK",
    "outputId": "d4701e42-0804-48fb-826a-66b6c1e683ee",
    "pycharm": {
     "is_executing": false
    },
    "scrolled": true
   },
   "outputs": [],
   "source": [
    "history=model_final_bottom.fit_generator(\n",
    "bottom_crop_generator(train_it),\n",
    "steps_per_epoch =159951/128,\n",
    "epochs=5,    \n",
    "validation_data=bottom_crop_generator(cv_it),\n",
    "validation_steps=39995/128,\n",
    "callbacks=[reduce_lr,mcp_save]\n",
    ")"
   ]
  },
  {
   "cell_type": "code",
   "execution_count": null,
   "metadata": {
    "colab": {},
    "colab_type": "code",
    "id": "iHKhVmiuaXnM",
    "pycharm": {
     "is_executing": false
    }
   },
   "outputs": [],
   "source": [
    "model_final_bottom.load_weights('model_bottom.hdf5')"
   ]
  },
  {
   "cell_type": "code",
   "execution_count": null,
   "metadata": {
    "colab": {
     "base_uri": "https://localhost:8080/",
     "height": 71
    },
    "colab_type": "code",
    "id": "9R6ftISHaXnO",
    "outputId": "98558819-f9de-43e0-c497-40c36c842105",
    "pycharm": {
     "is_executing": false
    }
   },
   "outputs": [],
   "source": [
    "score=model_final_bottom.evaluate_generator(bottom_crop_generator(test_it),steps=39997/128,workers=2, use_multiprocessing=True, verbose=0)"
   ]
  },
  {
   "cell_type": "code",
   "execution_count": null,
   "metadata": {
    "colab": {
     "base_uri": "https://localhost:8080/",
     "height": 34
    },
    "colab_type": "code",
    "id": "ZOwB-vMRaXnS",
    "outputId": "88760788-141f-4a0d-d671-75c72bf620f7",
    "pycharm": {
     "is_executing": false
    }
   },
   "outputs": [],
   "source": [
    "print(\"The accuracy for model intradomain transfer learning for bottom region:\",score[1]*100,\"%\")"
   ]
  },
  {
   "cell_type": "code",
   "execution_count": null,
   "metadata": {
    "colab": {},
    "colab_type": "code",
    "id": "ObDSoAviaXnU",
    "pycharm": {
     "is_executing": false
    }
   },
   "outputs": [],
   "source": []
  },
  {
   "cell_type": "markdown",
   "metadata": {
    "colab_type": "text",
    "id": "UZq_gsv1aXnW"
   },
   "source": [
    "**LEFT REGION**"
   ]
  },
  {
   "cell_type": "code",
   "execution_count": null,
   "metadata": {
    "colab": {},
    "colab_type": "code",
    "id": "CF3prBtsaXnY",
    "pycharm": {
     "is_executing": false
    }
   },
   "outputs": [],
   "source": [
    "model_left =keras.applications.vgg16.VGG16(weights = None, include_top=False, input_shape = (256,256, 3))"
   ]
  },
  {
   "cell_type": "code",
   "execution_count": null,
   "metadata": {
    "colab": {},
    "colab_type": "code",
    "id": "M2Bt3MzbaXnc",
    "outputId": "30f7cb26-51fa-48ad-d34b-ea67d02a17d2",
    "pycharm": {
     "is_executing": false
    }
   },
   "outputs": [],
   "source": [
    "for layer in model_left.layers:\n",
    "    layer.trainable=True\n",
    "\n",
    "#Adding custom Layers \n",
    "x = model_left.output\n",
    "x = Flatten()(x)\n",
    "x = Dense(256, activation=\"relu\")(x)\n",
    "x = Dropout(0.5)(x)\n",
    "x = Dense(128, activation=\"relu\")(x)\n",
    "predictions = Dense(16, activation=\"softmax\")(x)\n",
    "\n",
    "# creating the final model \n",
    "model_final_left = Model(input = model_left.input, output = predictions)\n",
    "\n",
    "# compile the model \n",
    "model_final_left.compile(loss = \"categorical_crossentropy\", optimizer =Adam(lr=0.0001), metrics=[\"accuracy\"])\n"
   ]
  },
  {
   "cell_type": "code",
   "execution_count": null,
   "metadata": {
    "colab": {},
    "colab_type": "code",
    "id": "zmJ1U_NIaXne",
    "pycharm": {
     "is_executing": false
    }
   },
   "outputs": [],
   "source": [
    "mcp_save = ModelCheckpoint('model_left.hdf5', save_best_only=True, monitor='acc', mode='max')"
   ]
  },
  {
   "cell_type": "code",
   "execution_count": null,
   "metadata": {
    "colab": {
     "base_uri": "https://localhost:8080/",
     "height": 1000
    },
    "colab_type": "code",
    "id": "MOzV5tXkaXni",
    "outputId": "a587e1ee-a13c-4716-9b3b-18fb95eea371",
    "pycharm": {
     "is_executing": false
    },
    "scrolled": true
   },
   "outputs": [],
   "source": [
    "model_final_left.summary()"
   ]
  },
  {
   "cell_type": "code",
   "execution_count": null,
   "metadata": {
    "colab": {},
    "colab_type": "code",
    "id": "Fe1zUBOSaXnl",
    "pycharm": {
     "is_executing": false
    }
   },
   "outputs": [],
   "source": [
    "model_final_left.load_weights('model_1.hdf5')"
   ]
  },
  {
   "cell_type": "code",
   "execution_count": null,
   "metadata": {
    "colab": {},
    "colab_type": "code",
    "id": "LROOo34vaXno",
    "pycharm": {
     "is_executing": false
    }
   },
   "outputs": [],
   "source": [
    "def left_crop_generator(batches):\n",
    "    while True:\n",
    "        batch_X, label = next(batches)\n",
    "        batch_Xcrops = np.zeros((batch_X.shape[0],256,256,3))\n",
    "        for i in range(batch_X.shape[0]):\n",
    "            batch_Xcrops[i] = batch_X[i][:,:256,:]\n",
    "        yield (batch_Xcrops,label)\n"
   ]
  },
  {
   "cell_type": "code",
   "execution_count": null,
   "metadata": {
    "colab": {},
    "colab_type": "code",
    "id": "3yKqol6BaXns",
    "pycharm": {
     "is_executing": false
    }
   },
   "outputs": [],
   "source": [
    "train_datagen = ImageDataGenerator(\n",
    "rescale = 1./255)\n",
    "test_datagen = ImageDataGenerator(\n",
    "rescale = 1./255)\n",
    "cv_datagen = ImageDataGenerator(\n",
    "rescale = 1./255)"
   ]
  },
  {
   "cell_type": "code",
   "execution_count": null,
   "metadata": {
    "colab": {},
    "colab_type": "code",
    "id": "Ph4Rls8YaXnv",
    "outputId": "5065f3ed-17bd-4dfe-f33d-5309a7f0e14d",
    "pycharm": {
     "is_executing": false
    }
   },
   "outputs": [],
   "source": [
    "train_it = train_datagen.flow_from_directory('dataset/train/',batch_size=32,target_size=(256,512))\n",
    "# load and iterate validation dataset\n",
    "test_it = test_datagen.flow_from_directory('dataset/test/',batch_size=32,target_size=(256,512))\n",
    "# load and iterate test dataset\n",
    "cv_it = cv_datagen.flow_from_directory('dataset/cv/', batch_size=32,target_size=(256,512))"
   ]
  },
  {
   "cell_type": "code",
   "execution_count": null,
   "metadata": {
    "colab": {},
    "colab_type": "code",
    "id": "QxYA_OOKaXnz",
    "outputId": "4825aed6-569c-4a1f-8dde-2a9b731c9a8c",
    "pycharm": {
     "is_executing": false
    },
    "scrolled": true
   },
   "outputs": [],
   "source": [
    "history=model_final_left.fit_generator(\n",
    "left_crop_generator(train_it),\n",
    "steps_per_epoch =159951/128,\n",
    "epochs=5,    \n",
    "validation_data=left_crop_generator(cv_it),\n",
    "validation_steps=39995/128,\n",
    "callbacks=[reduce_lr,mcp_save]\n",
    ")"
   ]
  },
  {
   "cell_type": "code",
   "execution_count": null,
   "metadata": {
    "colab": {
     "base_uri": "https://localhost:8080/",
     "height": 71
    },
    "colab_type": "code",
    "id": "PKWIYfPfaXn0",
    "outputId": "98558819-f9de-43e0-c497-40c36c842105",
    "pycharm": {
     "is_executing": false
    }
   },
   "outputs": [],
   "source": [
    "score=model_final_left.evaluate_generator(left_crop_generator(test_it),steps=39997/128,workers=2, use_multiprocessing=True, verbose=0)"
   ]
  },
  {
   "cell_type": "code",
   "execution_count": null,
   "metadata": {
    "colab": {
     "base_uri": "https://localhost:8080/",
     "height": 34
    },
    "colab_type": "code",
    "id": "jC8ArIm0aXn2",
    "outputId": "88760788-141f-4a0d-d671-75c72bf620f7",
    "pycharm": {
     "is_executing": false
    }
   },
   "outputs": [],
   "source": [
    "print(\"The accuracy for model intradomain transfer learning for left region:\",score[1]*100,\"%\")"
   ]
  },
  {
   "cell_type": "code",
   "execution_count": null,
   "metadata": {
    "colab": {},
    "colab_type": "code",
    "id": "JZgpSAPxaXoB",
    "pycharm": {
     "is_executing": false
    }
   },
   "outputs": [],
   "source": []
  },
  {
   "cell_type": "markdown",
   "metadata": {
    "colab_type": "text",
    "id": "xukjiioDaXoD"
   },
   "source": [
    "**RIGHT REGION**"
   ]
  },
  {
   "cell_type": "code",
   "execution_count": null,
   "metadata": {
    "colab": {},
    "colab_type": "code",
    "id": "HwhZ3hoWaXoE",
    "pycharm": {
     "is_executing": false
    }
   },
   "outputs": [],
   "source": [
    "model_right =keras.applications.vgg16.VGG16(weights = None, include_top=False, input_shape = (256,256, 3))"
   ]
  },
  {
   "cell_type": "code",
   "execution_count": null,
   "metadata": {
    "colab": {},
    "colab_type": "code",
    "id": "N8yM_zD8aXoK",
    "outputId": "29610471-3614-4729-e74c-ae44f52da233",
    "pycharm": {
     "is_executing": false
    }
   },
   "outputs": [],
   "source": [
    "for layer in model_right.layers:\n",
    "    layer.trainable=True\n",
    "\n",
    "#Adding custom Layers \n",
    "x = model_right.output\n",
    "x = Flatten()(x)\n",
    "x = Dense(256, activation=\"relu\")(x)\n",
    "x = Dropout(0.5)(x)\n",
    "x = Dense(128, activation=\"relu\")(x)\n",
    "predictions = Dense(16, activation=\"softmax\")(x)\n",
    "\n",
    "# creating the final model \n",
    "model_final_right = Model(input = model_right.input, output = predictions)\n",
    "\n",
    "# compile the model \n",
    "model_final_right.compile(loss = \"categorical_crossentropy\", optimizer =Adam(lr=0.0001), metrics=[\"accuracy\"])\n"
   ]
  },
  {
   "cell_type": "code",
   "execution_count": null,
   "metadata": {
    "colab": {},
    "colab_type": "code",
    "id": "hccVjwQCaXoM",
    "pycharm": {
     "is_executing": false
    }
   },
   "outputs": [],
   "source": [
    "mcp_save = ModelCheckpoint('model_right.hdf5', save_best_only=True, monitor='acc', mode='max')"
   ]
  },
  {
   "cell_type": "code",
   "execution_count": null,
   "metadata": {
    "colab": {
     "base_uri": "https://localhost:8080/",
     "height": 1000
    },
    "colab_type": "code",
    "id": "swJdgqvSaXoO",
    "outputId": "a587e1ee-a13c-4716-9b3b-18fb95eea371",
    "pycharm": {
     "is_executing": false
    },
    "scrolled": true
   },
   "outputs": [],
   "source": [
    "model_final_right.summary()"
   ]
  },
  {
   "cell_type": "code",
   "execution_count": null,
   "metadata": {
    "colab": {},
    "colab_type": "code",
    "id": "4mzD8HahaXoQ",
    "pycharm": {
     "is_executing": false
    }
   },
   "outputs": [],
   "source": [
    "model_final_right.load_weights('model_1.hdf5')"
   ]
  },
  {
   "cell_type": "code",
   "execution_count": null,
   "metadata": {
    "colab": {},
    "colab_type": "code",
    "id": "YEpU5KYCaXoR",
    "pycharm": {
     "is_executing": false
    }
   },
   "outputs": [],
   "source": [
    "def right_crop_generator(batches):\n",
    "    while True:\n",
    "        batch_X, label = next(batches)\n",
    "        batch_Xcrops = np.zeros((batch_X.shape[0],256,256,3))\n",
    "        for i in range(batch_X.shape[0]):\n",
    "            batch_Xcrops[i] = batch_X[i][:,-256:,:]\n",
    "        yield (batch_Xcrops,label)\n"
   ]
  },
  {
   "cell_type": "code",
   "execution_count": null,
   "metadata": {
    "colab": {},
    "colab_type": "code",
    "id": "-H4w2MbjaXoT",
    "pycharm": {
     "is_executing": false
    }
   },
   "outputs": [],
   "source": [
    "train_datagen = ImageDataGenerator(\n",
    "rescale = 1./255)\n",
    "test_datagen = ImageDataGenerator(\n",
    "rescale = 1./255)\n",
    "cv_datagen = ImageDataGenerator(\n",
    "rescale = 1./255)"
   ]
  },
  {
   "cell_type": "code",
   "execution_count": null,
   "metadata": {
    "colab": {},
    "colab_type": "code",
    "id": "vhIK_pp-aXoY",
    "outputId": "9cb52ff3-1ae7-436f-a29d-10d87286c634",
    "pycharm": {
     "is_executing": false
    }
   },
   "outputs": [],
   "source": [
    "train_it = train_datagen.flow_from_directory('dataset/train/',batch_size=32,target_size=(256,512))\n",
    "# load and iterate validation dataset\n",
    "test_it = test_datagen.flow_from_directory('dataset/test/',batch_size=32,target_size=(256,512))\n",
    "# load and iterate test dataset\n",
    "cv_it = cv_datagen.flow_from_directory('dataset/cv/', batch_size=32,target_size=(256,512))"
   ]
  },
  {
   "cell_type": "code",
   "execution_count": null,
   "metadata": {
    "colab": {},
    "colab_type": "code",
    "id": "iqZ1Afr0aXob",
    "outputId": "7016d49c-5640-4955-cb34-7f250739d527",
    "pycharm": {
     "is_executing": false
    },
    "scrolled": true
   },
   "outputs": [],
   "source": [
    "history=model_final_right.fit_generator(\n",
    "right_crop_generator(train_it),\n",
    "steps_per_epoch =159951/128,\n",
    "epochs=5,    \n",
    "validation_data=right_crop_generator(cv_it),\n",
    "validation_steps=39995/128,\n",
    "callbacks=[reduce_lr,mcp_save]\n",
    ")"
   ]
  },
  {
   "cell_type": "code",
   "execution_count": null,
   "metadata": {
    "colab": {
     "base_uri": "https://localhost:8080/",
     "height": 71
    },
    "colab_type": "code",
    "id": "JHbtPpWcaXod",
    "outputId": "98558819-f9de-43e0-c497-40c36c842105",
    "pycharm": {
     "is_executing": false
    }
   },
   "outputs": [],
   "source": [
    "score=model_final_right.evaluate_generator(right_crop_generator(test_it),steps=39997/128,workers=2, use_multiprocessing=True, verbose=0)"
   ]
  },
  {
   "cell_type": "code",
   "execution_count": null,
   "metadata": {
    "colab": {
     "base_uri": "https://localhost:8080/",
     "height": 34
    },
    "colab_type": "code",
    "id": "2_qjr31raXof",
    "outputId": "88760788-141f-4a0d-d671-75c72bf620f7",
    "pycharm": {
     "is_executing": false
    }
   },
   "outputs": [],
   "source": [
    "print(\"The accuracy for model intradomain transfer learning for right region:\",score[1]*100,\"%\")"
   ]
  },
  {
   "cell_type": "markdown",
   "metadata": {
    "colab_type": "text",
    "id": "b4-jTS5DaXoh"
   },
   "source": [
    "# **EXTRACTING OUTPUT FROM ALL THE REGION SPECIFIC MODELS**"
   ]
  },
  {
   "cell_type": "code",
   "execution_count": null,
   "metadata": {
    "colab": {},
    "colab_type": "code",
    "id": "t5kekBnAaXoi",
    "pycharm": {
     "is_executing": false
    }
   },
   "outputs": [],
   "source": [
    "model_final_2.load_weights('model_2.hdf5')\n",
    "model_final_bottom.load_weights('model_bottom.hdf5')\n",
    "model_final_left.load_weights('model_left.hdf5')\n",
    "model_final_right.load_weights('model_right.hdf5')"
   ]
  },
  {
   "cell_type": "code",
   "execution_count": null,
   "metadata": {
    "colab": {},
    "colab_type": "code",
    "id": "ZvrSKbLoaXoj",
    "outputId": "c70e1828-57c8-4cce-b0a2-0fc9386f9e3b",
    "pycharm": {
     "is_executing": false
    }
   },
   "outputs": [],
   "source": [
    "train_it_tb = train_datagen.flow_from_directory('dataset/train/',batch_size=1,target_size=(512,256),shuffle=False)\n",
    "# load and iterate validation dataset\n",
    "test_it_tb = test_datagen.flow_from_directory('dataset/test/',batch_size=1,target_size=(512,256),shuffle=False)\n",
    "# load and iterate test dataset\n",
    "cv_it_tb = cv_datagen.flow_from_directory('dataset/cv/', batch_size=1,target_size=(512,256),shuffle=False)"
   ]
  },
  {
   "cell_type": "code",
   "execution_count": null,
   "metadata": {
    "colab": {},
    "colab_type": "code",
    "id": "s0l4Kp-baXon",
    "pycharm": {
     "is_executing": false
    }
   },
   "outputs": [],
   "source": [
    "feature_top = model_final_2.predict_generator(height_crop_generator(cv_it_tb),steps = 39995)\n",
    "feature_bottom = model_final_bottom.predict_generator(bottom_crop_generator(cv_it_tb),steps = 39995)"
   ]
  },
  {
   "cell_type": "code",
   "execution_count": null,
   "metadata": {
    "colab": {},
    "colab_type": "code",
    "id": "ljTJ5YMVaXor",
    "outputId": "8627c029-3407-4b16-f402-ff4bcf68e04f",
    "pycharm": {
     "is_executing": false
    }
   },
   "outputs": [],
   "source": [
    "train_it_lr = train_datagen.flow_from_directory('dataset/train/',batch_size=1,target_size=(256,512),shuffle=False)\n",
    "# load and iterate validation dataset\n",
    "test_it_lr = test_datagen.flow_from_directory('dataset/test/',batch_size=1,target_size=(256,512),shuffle=False)\n",
    "# load and iterate test dataset\n",
    "cv_it_lr = cv_datagen.flow_from_directory('dataset/cv/', batch_size=1,target_size=(256,512),shuffle=False)"
   ]
  },
  {
   "cell_type": "code",
   "execution_count": null,
   "metadata": {
    "colab": {},
    "colab_type": "code",
    "id": "GgXqhKHtaXot",
    "pycharm": {
     "is_executing": false
    }
   },
   "outputs": [],
   "source": [
    "feature_left = model_final_left.predict_generator(left_crop_generator(cv_it_lr),steps = 39995)\n",
    "feature_right = model_final_right.predict_generator(right_crop_generator(cv_it_lr),steps = 39995)"
   ]
  },
  {
   "cell_type": "code",
   "execution_count": null,
   "metadata": {
    "colab": {},
    "colab_type": "code",
    "id": "4r8Mvd3xaXou",
    "outputId": "fef9beea-26e1-4f0f-990d-934fca41c5c3",
    "pycharm": {
     "is_executing": false
    }
   },
   "outputs": [],
   "source": [
    "import joblib\n",
    "\n",
    "joblib.dump(feature_top,'top')\n",
    "joblib.dump(feature_bottom,'bottom')\n",
    "joblib.dump(feature_left,'left')\n",
    "joblib.dump(feature_right,'right')\n"
   ]
  },
  {
   "cell_type": "code",
   "execution_count": null,
   "metadata": {
    "colab": {},
    "colab_type": "code",
    "id": "ANii6I32aXow",
    "outputId": "cf67396f-0938-413d-d95b-b694bf4de11a",
    "pycharm": {
     "is_executing": false
    }
   },
   "outputs": [],
   "source": [
    "train_it_e = train_datagen.flow_from_directory('dataset/train/',batch_size=1,target_size=(256,256),shuffle=False)\n",
    "# load and iterate validation dataset\n",
    "test_it_e = test_datagen.flow_from_directory('dataset/test/',batch_size=1,target_size=(256,256),shuffle=False)\n",
    "# load and iterate test dataset\n",
    "cv_it_e = cv_datagen.flow_from_directory('dataset/cv/', batch_size=1,target_size=(256,256),shuffle=False)"
   ]
  },
  {
   "cell_type": "code",
   "execution_count": null,
   "metadata": {
    "colab": {},
    "colab_type": "code",
    "id": "fnI2aL6vaXoy",
    "pycharm": {
     "is_executing": false
    }
   },
   "outputs": [],
   "source": [
    "model_final.load_weights('model_1.hdf5')"
   ]
  },
  {
   "cell_type": "code",
   "execution_count": null,
   "metadata": {
    "colab": {},
    "colab_type": "code",
    "id": "6ePEKcWfaXo0",
    "pycharm": {
     "is_executing": false
    }
   },
   "outputs": [],
   "source": [
    "feature_holistic = model_final.predict_generator(cv_it_e,steps = 39995)"
   ]
  },
  {
   "cell_type": "code",
   "execution_count": null,
   "metadata": {
    "colab": {},
    "colab_type": "code",
    "id": "v2Zt0_-iaXo2",
    "outputId": "e202dc6b-6725-43a7-de66-e43cbe4f0a1a",
    "pycharm": {
     "is_executing": false
    }
   },
   "outputs": [],
   "source": [
    "joblib.dump(feature_holistic,'holistic')"
   ]
  },
  {
   "cell_type": "markdown",
   "metadata": {
    "colab_type": "text",
    "id": "0cAnUQNnaXo3"
   },
   "source": [
    "**FOR TEST DATA**"
   ]
  },
  {
   "cell_type": "code",
   "execution_count": null,
   "metadata": {
    "colab": {},
    "colab_type": "code",
    "id": "0S0DOj_raXo4",
    "pycharm": {
     "is_executing": false
    }
   },
   "outputs": [],
   "source": [
    "feature_holistic_t=model_final.predict_generator(test_it_e,steps = 39996)"
   ]
  },
  {
   "cell_type": "code",
   "execution_count": null,
   "metadata": {
    "colab": {},
    "colab_type": "code",
    "id": "UQgtgDe1aXo5",
    "pycharm": {
     "is_executing": false
    }
   },
   "outputs": [],
   "source": [
    "feature_top_t = model_final_2.predict_generator(height_crop_generator(test_it_tb),steps = 39996)\n",
    "feature_bottom_t= model_final_bottom.predict_generator(bottom_crop_generator(test_it_tb),steps = 39996)"
   ]
  },
  {
   "cell_type": "code",
   "execution_count": null,
   "metadata": {
    "colab": {},
    "colab_type": "code",
    "id": "Mahz_xAkaXo7",
    "pycharm": {
     "is_executing": false
    }
   },
   "outputs": [],
   "source": [
    "feature_left_t = model_final_left.predict_generator(left_crop_generator(test_it_lr),steps = 39996)\n",
    "feature_right_t = model_final_right.predict_generator(right_crop_generator(test_it_lr),steps = 39996)"
   ]
  },
  {
   "cell_type": "code",
   "execution_count": null,
   "metadata": {
    "colab": {},
    "colab_type": "code",
    "id": "Ot4myHB7aXo8",
    "outputId": "888caa15-4aa4-4a0c-d8f0-40838718f132",
    "pycharm": {
     "is_executing": false
    }
   },
   "outputs": [],
   "source": [
    "\n",
    "joblib.dump(feature_top_t,'top_t')\n",
    "joblib.dump(feature_bottom_t,'bottom_t')\n",
    "joblib.dump(feature_left_t,'left_t')\n",
    "joblib.dump(feature_right_t,'right_t')"
   ]
  },
  {
   "cell_type": "code",
   "execution_count": null,
   "metadata": {
    "colab": {},
    "colab_type": "code",
    "id": "Bh2nCe0naXo-",
    "outputId": "464ad38e-e136-4769-cd16-1f700d787afb",
    "pycharm": {
     "is_executing": false
    }
   },
   "outputs": [],
   "source": [
    "joblib.dump(feature_holistic_t,'holistic_t')"
   ]
  },
  {
   "cell_type": "markdown",
   "metadata": {
    "colab_type": "text",
    "id": "p8180ht2M5ov"
   },
   "source": [
    "**FOR TRAIN DATA**"
   ]
  },
  {
   "cell_type": "code",
   "execution_count": null,
   "metadata": {
    "colab": {},
    "colab_type": "code",
    "id": "7iXJZwBbMpWD",
    "outputId": "4dabc1c9-ccf5-40f9-8cd4-ce48c5fabf7c",
    "pycharm": {
     "is_executing": false
    }
   },
   "outputs": [],
   "source": [
    "159951/111"
   ]
  },
  {
   "cell_type": "code",
   "execution_count": null,
   "metadata": {
    "colab": {},
    "colab_type": "code",
    "id": "UU_UZae5MpWF",
    "pycharm": {
     "is_executing": false
    }
   },
   "outputs": [],
   "source": [
    "feature_holistic_train=model_final.predict_generator(train_it_e,steps = 159951/111)"
   ]
  },
  {
   "cell_type": "code",
   "execution_count": null,
   "metadata": {
    "colab": {},
    "colab_type": "code",
    "id": "2raGW3bGMpWH",
    "pycharm": {
     "is_executing": false
    }
   },
   "outputs": [],
   "source": [
    "feature_top_train = model_final_2.predict_generator(height_crop_generator(train_it_tb),steps = 159951/111)\n",
    "feature_bottom_train= model_final_bottom.predict_generator(bottom_crop_generator(train_it_tb),steps = 159951/111)"
   ]
  },
  {
   "cell_type": "code",
   "execution_count": null,
   "metadata": {
    "colab": {},
    "colab_type": "code",
    "id": "oyN4vtJqMpWI",
    "pycharm": {
     "is_executing": false
    }
   },
   "outputs": [],
   "source": [
    "feature_left_train = model_final_left.predict_generator(left_crop_generator(train_it_lr),steps = 159951/111)"
   ]
  },
  {
   "cell_type": "code",
   "execution_count": null,
   "metadata": {
    "colab": {},
    "colab_type": "code",
    "id": "8cOLVsyIMpWJ",
    "pycharm": {
     "is_executing": false
    }
   },
   "outputs": [],
   "source": [
    "feature_right_train = model_final_right.predict_generator(right_crop_generator(train_it_lr),steps = 159951/111)"
   ]
  },
  {
   "cell_type": "code",
   "execution_count": null,
   "metadata": {
    "colab": {},
    "colab_type": "code",
    "id": "bNFb9sM3MpWK",
    "outputId": "ff1df201-3abb-4534-ec01-4514e45bcd3a",
    "pycharm": {
     "is_executing": false
    }
   },
   "outputs": [],
   "source": [
    "joblib.dump(feature_holistic_train,'holistic_train')\n",
    "joblib.dump(feature_top_train,'top_train')\n",
    "joblib.dump(feature_bottom_train,'bottom_train')\n",
    "joblib.dump(feature_left_train,'left_train')\n",
    "joblib.dump(feature_right_train,'right_train')"
   ]
  },
  {
   "cell_type": "markdown",
   "metadata": {
    "colab_type": "text",
    "id": "cQdV_hv7GGlD"
   },
   "source": [
    "## **Intra-Domain Transfer Learning and Stacked Generalization** "
   ]
  },
  {
   "cell_type": "markdown",
   "metadata": {
    "colab_type": "text",
    "id": "-yD-P31gGc8T"
   },
   "source": [
    "Reference : - https://arxiv.org/pdf/1801.09321v3.pdf"
   ]
  },
  {
   "cell_type": "markdown",
   "metadata": {
    "colab_type": "text",
    "id": "noekgvu-H9GN"
   },
   "source": [
    "### **REGION BASED STACK GENEARALIZATION BASE CLASSIFIERS**"
   ]
  },
  {
   "cell_type": "markdown",
   "metadata": {
    "colab_type": "text",
    "id": "3eTiRjGFNsWm"
   },
   "source": [
    "**STACKING AND CONCATING FEATURES FROM CV,TEST AND TRAIN DATA**"
   ]
  },
  {
   "cell_type": "code",
   "execution_count": null,
   "metadata": {
    "colab": {},
    "colab_type": "code",
    "id": "uYRiJFDaaXpL",
    "pycharm": {
     "is_executing": false
    }
   },
   "outputs": [],
   "source": [
    "#loading the extracted features from cv data which will be used for training the stacked model\n",
    "header=joblib.load('top')\n",
    "footer=joblib.load('bottom')\n",
    "left=joblib.load('left')\n",
    "right=joblib.load('right')\n",
    "holistic_features=joblib.load('holistic')"
   ]
  },
  {
   "cell_type": "code",
   "execution_count": null,
   "metadata": {
    "colab": {},
    "colab_type": "code",
    "id": "267X2cxW6qX2",
    "pycharm": {
     "is_executing": false
    }
   },
   "outputs": [],
   "source": [
    "region_features=np.hstack((header,footer,left,right))"
   ]
  },
  {
   "cell_type": "code",
   "execution_count": null,
   "metadata": {
    "colab": {},
    "colab_type": "code",
    "id": "QlDGdVRdw_yJ",
    "pycharm": {
     "is_executing": false
    }
   },
   "outputs": [],
   "source": [
    "total_features=np.hstack((holistic_features,region_features))"
   ]
  },
  {
   "cell_type": "code",
   "execution_count": null,
   "metadata": {
    "colab": {},
    "colab_type": "code",
    "id": "2Edo6RyXaXpP",
    "outputId": "bce3c248-b354-46b2-bc73-d8a092d401ab",
    "pycharm": {
     "is_executing": false
    }
   },
   "outputs": [],
   "source": [
    "total_features.shape"
   ]
  },
  {
   "cell_type": "code",
   "execution_count": null,
   "metadata": {
    "colab": {},
    "colab_type": "code",
    "id": "Fu8YCe9DaXpQ",
    "pycharm": {
     "is_executing": false
    }
   },
   "outputs": [],
   "source": [
    "#Loading the true labels \n",
    "cv_labels=[]\n",
    "for i in range(39995):\n",
    "   batch=next(cv_it_tb)\n",
    "   cv_labels.append(batch[1])"
   ]
  },
  {
   "cell_type": "code",
   "execution_count": null,
   "metadata": {
    "colab": {},
    "colab_type": "code",
    "id": "rLwwh5dlewMV",
    "pycharm": {
     "is_executing": false
    }
   },
   "outputs": [],
   "source": [
    "test_labels=[]\n",
    "for i in range(39996):\n",
    "   batch=next(test_it_tb)\n",
    "   test_labels.append(batch[1])"
   ]
  },
  {
   "cell_type": "code",
   "execution_count": null,
   "metadata": {
    "colab": {},
    "colab_type": "code",
    "id": "nCi47bmFMpWn",
    "pycharm": {
     "is_executing": false
    }
   },
   "outputs": [],
   "source": [
    "train_labels=[]\n",
    "for i in range(159951):\n",
    "   batch=next(train_it_tb)\n",
    "   train_labels.append(batch[1])"
   ]
  },
  {
   "cell_type": "code",
   "execution_count": null,
   "metadata": {
    "colab": {},
    "colab_type": "code",
    "id": "7_KEMisHaXpV",
    "outputId": "e1ae8388-5bf5-430a-ad1e-fdf2a4ca2847",
    "pycharm": {
     "is_executing": false
    }
   },
   "outputs": [],
   "source": [
    "joblib.dump(test_labels,'test_labels')\n",
    "joblib.dump(train_labels,'train_labels')\n",
    "joblib.dump(cv_labels,'cv_labels')"
   ]
  },
  {
   "cell_type": "code",
   "execution_count": null,
   "metadata": {
    "colab": {},
    "colab_type": "code",
    "id": "TojS1enTaXpX",
    "pycharm": {
     "is_executing": false
    }
   },
   "outputs": [],
   "source": [
    "#Loading the features from train data\n",
    "header_test=joblib.load('top_t')\n",
    "footer_test=joblib.load('bottom_t')\n",
    "left_test=joblib.load('left_t')\n",
    "right_test=joblib.load('right_t')\n",
    "holistic_features_test=joblib.load('holistic_t')"
   ]
  },
  {
   "cell_type": "code",
   "execution_count": null,
   "metadata": {
    "colab": {},
    "colab_type": "code",
    "id": "Ppns4ptUQyZE",
    "pycharm": {
     "is_executing": false
    }
   },
   "outputs": [],
   "source": [
    "total_features_test=np.hstack((header_test,footer_test,left_test,right_test,holistic_features_test))"
   ]
  },
  {
   "cell_type": "code",
   "execution_count": null,
   "metadata": {
    "colab": {},
    "colab_type": "code",
    "id": "bG8gSq0BaXpa",
    "outputId": "7cefcbf4-f805-406e-b416-7e9f0a02bddf",
    "pycharm": {
     "is_executing": false
    }
   },
   "outputs": [],
   "source": [
    "total_features.shape"
   ]
  },
  {
   "cell_type": "code",
   "execution_count": null,
   "metadata": {
    "colab": {},
    "colab_type": "code",
    "id": "uE569yVLaXpc",
    "outputId": "96d8235e-c673-4067-dd7a-b475bddb674c",
    "pycharm": {
     "is_executing": false
    }
   },
   "outputs": [],
   "source": [
    "total_features_test.shape"
   ]
  },
  {
   "cell_type": "code",
   "execution_count": null,
   "metadata": {
    "colab": {},
    "colab_type": "code",
    "id": "EXHsaIypMpWy",
    "pycharm": {
     "is_executing": false
    }
   },
   "outputs": [],
   "source": [
    "#Loading the features from train data \n",
    "header_train=joblib.load('top_train')\n",
    "footer_train=joblib.load('bottom_train')\n",
    "left_train=joblib.load('left_train')\n",
    "right_train=joblib.load('right_train')\n",
    "holistic_features_train=joblib.load('holistic_train')"
   ]
  },
  {
   "cell_type": "code",
   "execution_count": null,
   "metadata": {
    "colab": {},
    "colab_type": "code",
    "id": "A6NX4fAmMpWz",
    "pycharm": {
     "is_executing": false
    }
   },
   "outputs": [],
   "source": [
    "total_features_train=np.hstack((header_train,footer_train,left_train,right_train,holistic_features_train))"
   ]
  },
  {
   "cell_type": "code",
   "execution_count": null,
   "metadata": {
    "colab": {},
    "colab_type": "code",
    "id": "3BpBqEVTMpW0",
    "outputId": "87b7692b-fa1f-4aff-cad6-026a5559b988",
    "pycharm": {
     "is_executing": false
    }
   },
   "outputs": [],
   "source": [
    "total_features_train.shape"
   ]
  },
  {
   "cell_type": "markdown",
   "metadata": {
    "colab_type": "text",
    "id": "dwWU54yclbbe"
   },
   "source": [
    "35**`TRAINING A MLP AS A META CLASSIFIER`**"
   ]
  },
  {
   "cell_type": "code",
   "execution_count": null,
   "metadata": {
    "colab": {},
    "colab_type": "code",
    "id": "YGCAGxaelgJa",
    "pycharm": {
     "is_executing": false
    }
   },
   "outputs": [],
   "source": [
    "from keras.layers.normalization import BatchNormalization\n",
    "from keras.layers import Dropout\n",
    "from keras.initializers import RandomNormal\n",
    "\n",
    "model_relu = Sequential()\n",
    "model_relu.add(Dense(512, activation='relu', input_shape=(total_features.shape[1],)))\n",
    "model_relu.add(Dropout(0.70))\n",
    "model_relu.add(BatchNormalization())\n",
    "model_relu.add(Dense(256, activation='relu'))\n",
    "model_relu.add(Dropout(0.70))\n",
    "model_relu.add(Dense(16, activation='softmax'))\n"
   ]
  },
  {
   "cell_type": "code",
   "execution_count": null,
   "metadata": {
    "colab": {
     "base_uri": "https://localhost:8080/",
     "height": 323
    },
    "colab_type": "code",
    "id": "z5BBBiuWmH8K",
    "outputId": "4b843e72-ffee-4ba5-963b-989a9e896dfb",
    "pycharm": {
     "is_executing": false
    }
   },
   "outputs": [],
   "source": [
    "print(model_relu.summary())"
   ]
  },
  {
   "cell_type": "code",
   "execution_count": null,
   "metadata": {
    "colab": {
     "base_uri": "https://localhost:8080/",
     "height": 1000
    },
    "colab_type": "code",
    "id": "cHkmn_Ehlsvv",
    "outputId": "288ff191-8eb1-481f-df8b-0f099246bf65",
    "pycharm": {
     "is_executing": false
    }
   },
   "outputs": [],
   "source": [
    "model_relu.compile(optimizer=Adam(lr=0.0001), loss='categorical_crossentropy', metrics=['accuracy'])\n",
    "\n",
    "history = model_relu.fit(total_features,cv_labels, batch_size=256, epochs=20, verbose=1)"
   ]
  },
  {
   "cell_type": "code",
   "execution_count": null,
   "metadata": {
    "colab": {
     "base_uri": "https://localhost:8080/",
     "height": 34
    },
    "colab_type": "code",
    "id": "lQiAu7ADOviX",
    "outputId": "0b004481-d544-4b58-8c7f-d551c98a117e",
    "pycharm": {
     "is_executing": false
    }
   },
   "outputs": [],
   "source": [
    "score=model_relu.evaluate(total_features_test,test_labels,batch_size=32)"
   ]
  },
  {
   "cell_type": "code",
   "execution_count": null,
   "metadata": {
    "colab": {
     "base_uri": "https://localhost:8080/",
     "height": 34
    },
    "colab_type": "code",
    "id": "6NSRWi1AOvib",
    "outputId": "a433c954-fa68-4725-bcd4-84f361e90826",
    "pycharm": {
     "is_executing": false
    }
   },
   "outputs": [],
   "source": [
    "score"
   ]
  },
  {
   "cell_type": "code",
   "execution_count": null,
   "metadata": {
    "colab": {
     "base_uri": "https://localhost:8080/",
     "height": 34
    },
    "colab_type": "code",
    "id": "HaaRaLNLOvie",
    "outputId": "3fcc6d04-b7cb-4959-face-e1f1f27dd86f",
    "pycharm": {
     "is_executing": false
    }
   },
   "outputs": [],
   "source": [
    "print(\"Accuracy on the test data:\",score[1]*100,'%')"
   ]
  },
  {
   "cell_type": "code",
   "execution_count": null,
   "metadata": {
    "colab": {},
    "colab_type": "code",
    "id": "9kO69oYXMpXO",
    "outputId": "f6d6706c-2545-4980-9f9d-e39c42df3563",
    "pycharm": {
     "is_executing": false
    }
   },
   "outputs": [],
   "source": [
    "score_train=model_relu.evaluate(total_features_train,train_labels,batch_size=32)"
   ]
  },
  {
   "cell_type": "code",
   "execution_count": null,
   "metadata": {
    "colab": {},
    "colab_type": "code",
    "id": "BVv2zRUEMpXP",
    "outputId": "b418e821-2b6e-4200-ef16-2c563bca7180",
    "pycharm": {
     "is_executing": false
    }
   },
   "outputs": [],
   "source": [
    "score_train"
   ]
  },
  {
   "cell_type": "code",
   "execution_count": null,
   "metadata": {
    "colab": {},
    "colab_type": "code",
    "id": "Mi4CyNLHMpXS",
    "outputId": "3902aae3-cad8-498c-83f8-c80b8f8ee27f",
    "pycharm": {
     "is_executing": false
    }
   },
   "outputs": [],
   "source": [
    "print(\"Accuracy on train data:\",score_train[1]*100,'%')"
   ]
  },
  {
   "cell_type": "code",
   "execution_count": null,
   "metadata": {
    "colab": {},
    "colab_type": "code",
    "id": "MNSL6287aXp2",
    "pycharm": {
     "is_executing": false
    }
   },
   "outputs": [],
   "source": [
    "import seaborn as sns\n",
    "# https://gist.github.com/greydanus/f6eee59eaf1d90fcb3b534a25362cea4\n",
    "# https://stackoverflow.com/a/14434334\n",
    "# this function is used to update the plots for each epoch and error\n",
    "def plt_dynamic(x,ty,colors=['b']):\n",
    "    ax.plot(x, ty, 'r', label=\"Train Loss\")\n",
    "    plt.legend()\n",
    "    plt.grid()\n",
    "    fig.canvas.draw()"
   ]
  },
  {
   "cell_type": "code",
   "execution_count": null,
   "metadata": {
    "colab": {
     "base_uri": "https://localhost:8080/",
     "height": 287
    },
    "colab_type": "code",
    "id": "vRuiO9hyF03L",
    "outputId": "e3d6ac70-0031-4f61-d41a-790a74cb9669",
    "pycharm": {
     "is_executing": false
    }
   },
   "outputs": [],
   "source": [
    "\n",
    "%matplotlib inline\n",
    "sns.set_context('notebook')\n",
    "%config InlineBackend.figure_format = 'retina'\n",
    "\n",
    "\n",
    "fig,ax = plt.subplots(1,1)\n",
    "ax.set_xlabel('epochs') ; ax.set_ylabel('Categorical Crossentropy Loss')\n",
    "\n",
    "# list of epoch numbers\n",
    "x = list(range(1,20+1))\n",
    "\n",
    "# print(history.history.keys())\n",
    "# dict_keys(['val_loss', 'val_acc', 'loss', 'acc'])\n",
    "# history = model_drop.fit(X_train, Y_train, batch_size=batch_size, epochs=nb_epoch, verbose=1, validation_data=(X_test, Y_test))\n",
    "\n",
    "# we will get val_loss and val_acc only when you pass the paramter validation_data\n",
    "# val_loss : validation loss\n",
    "# val_acc : validation accuracy\n",
    "\n",
    "# loss : training loss\n",
    "# acc : train accuracy\n",
    "# for each key in histrory.histrory we will have a list of length equal to number of epochs\n",
    "\n",
    "ty = history.history['loss']\n",
    "plt_dynamic(x,ty)"
   ]
  },
  {
   "cell_type": "markdown",
   "metadata": {
    "colab_type": "text",
    "id": "qOlsstDjxtgl"
   },
   "source": [
    "## **CONCLUSION**"
   ]
  },
  {
   "cell_type": "code",
   "execution_count": null,
   "metadata": {
    "colab": {
     "base_uri": "https://localhost:8080/",
     "height": 164
    },
    "colab_type": "code",
    "id": "nth_h-1TG01I",
    "outputId": "8d7368b3-28c2-4893-d53d-7025c2e24926",
    "pycharm": {
     "is_executing": false
    }
   },
   "outputs": [],
   "source": [
    "from prettytable import PrettyTable\n",
    "\n",
    "x = PrettyTable()\n",
    "\n",
    "x.field_names = [\"MODEL\",\"TEST ACCURACY\"]\n",
    "\n",
    "x.add_row([\"VGG TRANSFER LEARNING WITH IMAGENET INITIALIZED WEIGHTS FINE TUNING ALL LAYERS\",\"89%\"])\n",
    "x.add_row([\"FINE TUNING LAST LAYER OF VGG WITH IMAGENET INITIALIZED WIEGHTS\",\"85.23%\"])\n",
    "x.add_row([\"FINE TUNING LAST 2 LAYER OF VGG WITH IMAGENET INITIALIZED WIEGHTS\",\"86.60%\"])\n",
    "x.add_row([\"Intra-Domain Transfer Learning and Stacked Generalization\",\"95.13%\" ])\n",
    "\n",
    "\n",
    "print(x)"
   ]
  },
  {
   "cell_type": "markdown",
   "metadata": {
    "colab_type": "text",
    "id": "PdqF2c_j1R6m"
   },
   "source": [
    "\n",
    "\n",
    "1.   We are using only 10k samples per class and we have observed that      increasing the data increases the accuracy\n",
    "2.   We got our best model with Intra-domain Transfer learning technique which was taken from https://arxiv.org/abs/1801.09321 and we beat the score of 92% with great margin.95% accuracy was achieved with stacked generalization technique\n"
   ]
  },
  {
   "cell_type": "code",
   "execution_count": null,
   "metadata": {
    "colab": {},
    "colab_type": "code",
    "id": "FtdhGcql1Oo6",
    "pycharm": {
     "is_executing": false
    }
   },
   "outputs": [],
   "source": []
  }
 ],
 "metadata": {
  "accelerator": "GPU",
  "colab": {
   "collapsed_sections": [],
   "name": "document_classification_resub.ipynb",
   "provenance": []
  },
  "kernelspec": {
   "display_name": "PyCharm (sem6)",
   "language": "python",
   "name": "pycharm-46268e0c"
  },
  "language_info": {
   "codemirror_mode": {
    "name": "ipython",
    "version": 3
   },
   "file_extension": ".py",
   "mimetype": "text/x-python",
   "name": "python",
   "nbconvert_exporter": "python",
   "pygments_lexer": "ipython3",
   "version": "3.7.6"
  },
  "pycharm": {
   "stem_cell": {
    "cell_type": "raw",
    "metadata": {
     "collapsed": false
    },
    "source": []
   }
  }
 },
 "nbformat": 4,
 "nbformat_minor": 1
}
