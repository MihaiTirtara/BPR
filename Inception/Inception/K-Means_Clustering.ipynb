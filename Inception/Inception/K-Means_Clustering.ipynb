{
 "cells": [
  {
   "cell_type": "code",
   "execution_count": 66,
   "outputs": [],
   "source": [
    "##imports \n",
    "\n",
    "import cv2 \n",
    "import pytesseract\n",
    "\n",
    "from sklearn.feature_extraction.text import TfidfVectorizer\n",
    "from sklearn.cluster import KMeans\n",
    "from sklearn.metrics import adjusted_rand_score"
   ],
   "metadata": {
    "collapsed": false,
    "pycharm": {
     "name": "#%%\n",
     "is_executing": false
    }
   }
  },
  {
   "cell_type": "code",
   "execution_count": 67,
   "outputs": [
    {
     "data": {
      "text/plain": "'DELL GmbH Telefon: (069) 9792 - 7000\\nUnterschweinstiege 10 Telefax: (069) 34824 - 8000\\nD-60549 Frankfurt am Main net: wwywdell.de _\\nEINGEGANGEN\\ni\\n|\\n17 Sep. 202\\n|\\nDV 09 0,55 i Ed ee\\nQ a4 wn argldresse\\n*K4000°\\nThe Imaging Source Europe GmbH The Imaging Source Europe GmbH\\nFrau Frau\\nBrigitte Reiff Brigitte Reiff\\nSommerstr. 36 Sommerstr. 36\\n28215 Bremen 28215 Bremen\\nGermany Germany\\nBIRO PGIOOTD\\nRechnungsnummer\\n5405423387 Kundennummer DE3958871 Auftragsnummer 700263627 Seite 1 von 2\\nIhr Bestellzeichen #027 BL Falligkeitsdatum 27.09.2012\\nHandelsregister Nr.: 28195B11927 Rechnungsdatum 12.09.2012\\nIhr My Financials PIN - Code5296 Lieferart UPS/DIR SHIP ROAD\\nLieferscheinnr. 0 Buchungsreferenz 239764781\\n© Lieferdatum ab Werk 12.09.2012 Ihr Ansprechpartner NORMAN KIETZ\\nZahlungsart 15 Tage netto\\nArt.Nr. | Beschreibung Anzahl__Einzelpreis Netto | MWSt\\nA5405558 65086173 ,ACROBAT 510 WIN 1 350,00 350,00 SR\\nA0560474 DE GFX Freight Zero Cost 1 0,00 0,00 SR\\n: EUR\\nMWSt gesamt Zwischensumme 350,00\\nEUR EUR Versand 0,00\\nTyp MWSt % Netto Mwst Mwst 66,50\\nI:\\nsR 19 350,00 66,50 Summe total 416,50\\nSeriennummer/TA\\nG Nummer\\nOS : Rechnungsbetrag fur den Kauf von Complete Care vereinnahmen wir im Namen und auf Rechnung des Versicherers London\\nGeneral Insurance. Auf den Betrag allt keine deutsche Umsatzsteuer an.\\nBitte geben Sie Inre Kunden-, Rechnungs- und Ihre Ordernummer im Schriftverkehr mit Dell an. Danke\\nSollte der Rechnungsbetrag bereits beglichen worden sein, ist eine nochmalige Begleichung nicht erforderlich.\\noO Rechnungsbetrag ist fallig ohne Skontoabzug.\\nIm Falle eines Finanzierungskaufes beachten Sie bitte, dass sich das oben dargestellte Falligkeitsdatum auf Santander Consumer Bank\\nAG bezieht. Sollten Sie Fragen hinsichtlich Ihres individuellen Zahlungsplanes (z.B. Laufzeit, Falligkeit oder Hohe der Raten) oder\\nbeztiglich des Darlehensvertrages haben, wenden Sie sich bitte an die Hotline der Santander Consumer Bank AG.\\nDieser Verkauf unterliegt unseren Allgemeinen Geschaftsbedingungen.\\nFalligkeitstermin 27.09.2012\\nZahlungsbedingungen 15 Tage netto\\nAuftragsnummer 5405423387\\n‘\\nV0 ORF _ ye.\\n— Or 2 F ¢ CELL SY CK >\\n_ SOLFLCARE = ACA CL Y\\nVe\\n= - ze > 2\\nLows IPS\\nBankverbindung: Citibank AG, Frankfurt, Konto: 0209 865 076, BLZ: 502 109 00 .\\nIBAN DE33 5021 0900 0209 8650 76 - Umsatzsteuer-Identifikationsnummer: DE 113 541 138\\nGeschafisfiihrer: Barbara Wittmann, Jiirgen Renz, Mark Mobius a\\nEingetragen beim Amtsgericht Frankfurt am Main unter HRB 75453 - WEEE-Reg-Nr. DE 49515708\\n\\x0c'"
     },
     "metadata": {},
     "output_type": "execute_result",
     "execution_count": 67
    }
   ],
   "source": [
    "##OCR\n",
    "\n",
    "pytesseract.pytesseract.tesseract_cmd = r\"C:\\Program Files\\Tesseract-OCR\\tesseract.exe\"\n",
    "img = cv2.imread('test.jpg')\n",
    "\n",
    "# Adding custom options\n",
    "custom_config = r'--oem 3 --psm 6'\n",
    "pytesseract.image_to_string(img, config=custom_config)"
   ],
   "metadata": {
    "collapsed": false,
    "pycharm": {
     "name": "#%%\n",
     "is_executing": false
    }
   }
  },
  {
   "cell_type": "code",
   "execution_count": 68,
   "outputs": [],
   "source": [
    "\n",
    "\n",
    "documents = [pytesseract.image_to_string(img, config=custom_config)]"
   ],
   "metadata": {
    "collapsed": false,
    "pycharm": {
     "name": "#%%\n",
     "is_executing": false
    }
   }
  },
  {
   "cell_type": "code",
   "execution_count": 69,
   "outputs": [
    {
     "data": {
      "text/plain": "KMeans(algorithm='auto', copy_x=True, init='k-means++', max_iter=100,\n       n_clusters=1, n_init=1, n_jobs=None, precompute_distances='auto',\n       random_state=None, tol=0.0001, verbose=0)"
     },
     "metadata": {},
     "output_type": "execute_result",
     "execution_count": 69
    }
   ],
   "source": [
    "vectorizer = TfidfVectorizer(stop_words='english')\n",
    "X = vectorizer.fit_transform(documents)\n",
    "\n",
    "true_k = 1\n",
    "model = KMeans(n_clusters=true_k, init='k-means++', max_iter=100, n_init=1)\n",
    "model.fit(X)"
   ],
   "metadata": {
    "collapsed": false,
    "pycharm": {
     "name": "#%%\n",
     "is_executing": false
    }
   }
  },
  {
   "cell_type": "code",
   "execution_count": 70,
   "outputs": [
    {
     "name": "stdout",
     "text": [
      "Top terms per cluster:\n",
      "Cluster 0:\n",
      " 00\n",
      " 09\n",
      " mwst\n",
      " 350\n",
      " netto\n",
      " sie\n",
      " 2012\n",
      " der\n",
      " gmbh\n",
      " ihr\n",
      "\n",
      "\n",
      "Prediction\n"
     ],
     "output_type": "stream"
    }
   ],
   "source": [
    "print(\"Top terms per cluster:\")\n",
    "order_centroids = model.cluster_centers_.argsort()[:, ::-1]\n",
    "terms = vectorizer.get_feature_names()\n",
    "for i in range(true_k):\n",
    "    print(\"Cluster %d:\" % i),\n",
    "    for ind in order_centroids[i, :10]:\n",
    "        print(' %s' % terms[ind]),\n",
    "    print\n",
    "\n",
    "print(\"\\n\")\n",
    "print(\"Prediction\")"
   ],
   "metadata": {
    "collapsed": false,
    "pycharm": {
     "name": "#%%\n",
     "is_executing": false
    }
   }
  },
  {
   "cell_type": "code",
   "execution_count": 71,
   "outputs": [
    {
     "name": "stdout",
     "text": [
      "[0]\n",
      "[0]\n"
     ],
     "output_type": "stream"
    }
   ],
   "source": [
    "Y = vectorizer.transform([\"chrome browser to open.\"])\n",
    "prediction = model.predict(Y)\n",
    "print(prediction)\n",
    "\n",
    "Y = vectorizer.transform([\"My cat is hungry.\"])\n",
    "prediction = model.predict(Y)\n",
    "print(prediction)"
   ],
   "metadata": {
    "collapsed": false,
    "pycharm": {
     "name": "#%%\n",
     "is_executing": false
    }
   }
  },
  {
   "cell_type": "code",
   "execution_count": 71,
   "outputs": [],
   "source": [],
   "metadata": {
    "collapsed": false,
    "pycharm": {
     "name": "#%%",
     "is_executing": false
    }
   }
  }
 ],
 "metadata": {
  "accelerator": "GPU",
  "colab": {
   "collapsed_sections": [],
   "name": "document_classification_resub.ipynb",
   "provenance": []
  },
  "kernelspec": {
   "name": "pycharm-46268e0c",
   "language": "python",
   "display_name": "PyCharm (sem6)"
  },
  "language_info": {
   "codemirror_mode": {
    "name": "ipython",
    "version": 3
   },
   "file_extension": ".py",
   "mimetype": "text/x-python",
   "name": "python",
   "nbconvert_exporter": "python",
   "pygments_lexer": "ipython3",
   "version": "3.7.6"
  },
  "pycharm": {
   "stem_cell": {
    "cell_type": "raw",
    "source": [],
    "metadata": {
     "collapsed": false
    }
   }
  }
 },
 "nbformat": 4,
 "nbformat_minor": 1
}