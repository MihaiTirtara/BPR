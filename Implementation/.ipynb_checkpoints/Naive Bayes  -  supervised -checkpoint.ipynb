{
 "cells": [
  {
   "cell_type": "code",
   "execution_count": 21,
   "metadata": {
    "pycharm": {
     "is_executing": false,
     "name": "#%%\n"
    }
   },
   "outputs": [],
   "source": [
    "##imports \n",
    "\n",
    "import cv2 \n",
    "#import pytesseract\n",
    "import pandas as pd\n",
    "import joblib\n",
    "\n",
    "from sklearn.feature_extraction.text import TfidfVectorizer\n",
    "from sklearn.cluster import KMeans\n",
    "from sklearn.metrics import adjusted_rand_score\n",
    "from sklearn.metrics import confusion_matrix"
   ]
  },
  {
   "cell_type": "code",
   "execution_count": 3,
   "metadata": {
    "pycharm": {
     "is_executing": false,
     "name": "#%%\n"
    }
   },
   "outputs": [],
   "source": [
    "##OCR\n",
    "pytesseract.pytesseract.tesseract_cmd = r\"C:\\Program Files\\Tesseract-OCR\\tesseract.exe\"\n",
    "\n",
    "# Adding custom options\n",
    "custom_config = r'--oem 3 --psm 6'"
   ]
  },
  {
   "cell_type": "code",
   "execution_count": 9,
   "metadata": {
    "pycharm": {
     "is_executing": false,
     "name": "#%%\n"
    }
   },
   "outputs": [],
   "source": [
    "##testing purposes\n",
    "trainingData = pd.read_csv(\"train-data.csv\") \n",
    "testingData  = pd.read_csv(\"test.csv\") "
   ]
  },
  {
   "cell_type": "code",
   "execution_count": 11,
   "metadata": {
    "pycharm": {
     "is_executing": false,
     "name": "#%%\n"
    }
   },
   "outputs": [],
   "source": [
    "##batch size (started with a small no. to train the algorithm on)\n",
    "test_var = 320000"
   ]
  },
  {
   "cell_type": "code",
   "execution_count": 12,
   "metadata": {
    "pycharm": {
     "is_executing": false,
     "name": "#%%\n"
    }
   },
   "outputs": [],
   "source": [
    "##vectorizing the data\n",
    "vectorizer = TfidfVectorizer(stop_words='english')\n",
    "X = vectorizer.fit_transform(trainingData[:test_var]['OCR text'])"
   ]
  },
  {
   "cell_type": "code",
   "execution_count": 13,
   "metadata": {
    "pycharm": {
     "is_executing": false,
     "name": "#%%\n"
    }
   },
   "outputs": [],
   "source": [
    "y = trainingData[:test_var][\"Label\"]"
   ]
  },
  {
   "cell_type": "code",
   "execution_count": 14,
   "metadata": {
    "pycharm": {
     "is_executing": false,
     "name": "#%%\n"
    }
   },
   "outputs": [
    {
     "name": "stdout",
     "output_type": "stream",
     "text": [
      "  (0, 1023804)\t0.17356085231708732\n",
      "  (0, 3902906)\t0.11006352215199676\n",
      "  (0, 1994521)\t0.17368667202763452\n",
      "  (0, 1105205)\t0.10576162854433116\n",
      "  (0, 486789)\t0.2621773100694327\n",
      "  (0, 613354)\t0.2228816039914777\n",
      "  (0, 615186)\t0.20749094914032148\n",
      "  (0, 3269928)\t0.12909278246115696\n",
      "  (0, 1565801)\t0.10914941928698993\n",
      "  (0, 2774797)\t0.0990143902998192\n",
      "  (0, 3522610)\t0.10883672516232283\n",
      "  (0, 2869639)\t0.09994235132014762\n",
      "  (0, 3269883)\t0.22967632373744243\n",
      "  (0, 1154145)\t0.1358293341451583\n",
      "  (0, 640366)\t0.16160764306247738\n",
      "  (0, 3387834)\t0.07002938197734061\n",
      "  (0, 1271309)\t0.08842233560437013\n",
      "  (0, 1111183)\t0.11582977767520121\n",
      "  (0, 3280571)\t0.24496235065522273\n",
      "  (0, 346899)\t0.2119889565398721\n",
      "  (0, 3387681)\t0.08155898259578934\n",
      "  (0, 2918596)\t0.21840229149025575\n",
      "  (0, 785441)\t0.2460772720436303\n",
      "  (0, 362384)\t0.22574311148663473\n",
      "  (0, 2169322)\t0.2748617352756527\n",
      "  :\t:\n",
      "  (319999, 1347754)\t0.3541882361429565\n",
      "  (319999, 2597553)\t0.3541882361429565\n",
      "  (319999, 378591)\t0.2831840859748654\n",
      "  (319999, 2302984)\t0.2067974356654456\n",
      "  (319999, 2088291)\t0.2711304173153051\n",
      "  (319999, 3218725)\t0.2812346092324707\n",
      "  (319999, 3956097)\t0.20760813272067935\n",
      "  (319999, 2087511)\t0.21320953220102493\n",
      "  (319999, 1679785)\t0.21633547953238477\n",
      "  (319999, 3935682)\t0.16295176622523533\n",
      "  (319999, 1605668)\t0.18544994920128394\n",
      "  (319999, 710318)\t0.16844544253977958\n",
      "  (319999, 1569350)\t0.18421405796972004\n",
      "  (319999, 505415)\t0.134717876492383\n",
      "  (319999, 2076398)\t0.18764296651526743\n",
      "  (319999, 1183575)\t0.13764818989055105\n",
      "  (319999, 1507990)\t0.17204746369773044\n",
      "  (319999, 1232892)\t0.10145192297882559\n",
      "  (319999, 1666215)\t0.13265802949166858\n",
      "  (319999, 2521103)\t0.07994678356596956\n",
      "  (319999, 1501016)\t0.07837627825524188\n",
      "  (319999, 2607641)\t0.09854631338245302\n",
      "  (319999, 2062627)\t0.15150298459399858\n",
      "  (319999, 1292268)\t0.18533779666341216\n",
      "  (319999, 3337010)\t0.07468933135107854\n"
     ]
    }
   ],
   "source": [
    "\n",
    "print(X)"
   ]
  },
  {
   "cell_type": "code",
   "execution_count": 15,
   "metadata": {
    "pycharm": {
     "is_executing": false,
     "name": "#%%\n"
    }
   },
   "outputs": [
    {
     "name": "stderr",
     "output_type": "stream",
     "text": [
      "IOPub data rate exceeded.\n",
      "The notebook server will temporarily stop sending output\n",
      "to the client in order to avoid crashing it.\n",
      "To change this limit, set the config variable\n",
      "`--NotebookApp.iopub_data_rate_limit`.\n",
      "\n",
      "Current values:\n",
      "NotebookApp.iopub_data_rate_limit=1000000.0 (bytes/sec)\n",
      "NotebookApp.rate_limit_window=3.0 (secs)\n",
      "\n"
     ]
    }
   ],
   "source": [
    "print(vectorizer.get_feature_names())"
   ]
  },
  {
   "cell_type": "code",
   "execution_count": 16,
   "metadata": {
    "pycharm": {
     "is_executing": false,
     "name": "#%%\n"
    }
   },
   "outputs": [
    {
     "name": "stdout",
     "output_type": "stream",
     "text": [
      "(320000, 3963685)\n"
     ]
    }
   ],
   "source": [
    "print(X.shape)"
   ]
  },
  {
   "cell_type": "code",
   "execution_count": 20,
   "metadata": {
    "pycharm": {
     "is_executing": false,
     "name": "#%%\n"
    }
   },
   "outputs": [],
   "source": [
    "##Fiting the data and training it - modify tuning parameters here\n",
    "\n",
    "from sklearn.naive_bayes import MultinomialNB\n",
    "clf = MultinomialNB()\n",
    "\n",
    "\n",
    "model = clf.fit(X, y)"
   ]
  },
  {
   "cell_type": "code",
   "execution_count": 28,
   "metadata": {
    "pycharm": {
     "is_executing": false,
     "name": "#%%\n"
    }
   },
   "outputs": [
    {
     "name": "stdout",
     "output_type": "stream",
     "text": [
      "_ ESE egURae eeep eRe mnpe un tecereratana mat gemrmenmnna ns\n",
      "__ ERSTE I eran utemererenee mat eereer men neers\n",
      "eee Le ee eases\n",
      "joe x\n",
      "03497\n",
      "| COVINGTON & BURLING\n",
      "ig01 PENMBYLVANIA AVENUE, NW\n",
      "out po 00x 7586\n",
      "| Ww wastoaron 96 tote hws\n",
      "| seumnone 34!\n",
      "| on ecreose\n",
      "| VER IDENTIFICATION NO. ez\n",
      "|-srvovien oprerer account no, 197503\n",
      "| . STATEMENT\n",
      "- on 1s, 1990\n",
      ". Y &?\n",
      "PHILIP NORRIS mNTERNATIONAES®\n",
      "To cover the statement of Healthy Buildings\n",
      "International for expenses in connection 4\n",
      "with professional services rendered PMI Ze\n",
      "during October 1990 regarding a press v\n",
      "conference in Stockholm. . se e+e ew © ww » $ 3,421.00\n",
      "JPR/ceb a . PRP ©\n",
      "tog. ca »\n",
      "cS ae\n",
      "a Jeu York EEMA—\n",
      "3 Labo\n",
      "of Seok\n",
      "eer s Ci ye \"(90\n",
      "2rh492+00Ks 9-060 6/200 30/0000\n",
      "61000 + OF ry\n",
      "198-06 4 1 o\n",
      "21+00 + &\n",
      "100-00 + f- »\n",
      "n009 a\n",
      "3r421°00 & .\n",
      "a\n",
      "a\n",
      ": =\n",
      "_ _ PLEASE RETURN ONE COPY WITH PAYMENT |\n",
      "\f",
      "\n",
      "  (0, 3850776)\t0.07649746940101203\n",
      "  (0, 3779432)\t0.08678060928176043\n",
      "  (0, 3779373)\t0.13983980285538777\n",
      "  (0, 3761643)\t0.05285581549329031\n",
      "  (0, 3739738)\t0.03950693080137344\n",
      "  (0, 3713208)\t0.07940609525413925\n",
      "  (0, 3701835)\t0.11425935334580967\n",
      "  (0, 3614763)\t0.07497281417804097\n",
      "  (0, 3609516)\t0.11539482690061725\n",
      "  (0, 3589766)\t0.030212784258385555\n",
      "  (0, 3547464)\t0.10991527989857715\n",
      "  (0, 3380527)\t0.06398836157337501\n",
      "  (0, 3297131)\t0.08312812961432342\n",
      "  (0, 3245272)\t0.0470486784822285\n",
      "  (0, 3242350)\t0.09953804630720113\n",
      "  (0, 3241971)\t0.1846535567771498\n",
      "  (0, 3241747)\t0.31517824079912576\n",
      "  (0, 3241694)\t0.05534810344307627\n",
      "  (0, 3241496)\t0.03803022793662596\n",
      "  (0, 3209733)\t0.06960657013475956\n",
      "  (0, 3106931)\t0.05000136713454896\n",
      "  (0, 2970250)\t0.07972714937245341\n",
      "  (0, 2959300)\t0.0802779619191923\n",
      "  (0, 2942255)\t0.06750380326509069\n",
      "  (0, 2942189)\t0.057884715950475764\n",
      "  :\t:\n",
      "  (0, 1135046)\t0.045344297176518465\n",
      "  (0, 1099666)\t0.03909159515837687\n",
      "  (0, 1093937)\t0.0968958655438945\n",
      "  (0, 1091927)\t0.10617251593173445\n",
      "  (0, 1074358)\t0.06416051715489045\n",
      "  (0, 1067644)\t0.14358551409897716\n",
      "  (0, 1063393)\t0.2517170905262275\n",
      "  (0, 1000769)\t0.11554983557778123\n",
      "  (0, 994819)\t0.09023786861224736\n",
      "  (0, 968138)\t0.11010183979362274\n",
      "  (0, 931953)\t0.06325423439301418\n",
      "  (0, 894304)\t0.0721916592121728\n",
      "  (0, 796805)\t0.09019616441169809\n",
      "  (0, 746810)\t0.05011878033173877\n",
      "  (0, 727614)\t0.08286614041574439\n",
      "  (0, 663604)\t0.10985664617291983\n",
      "  (0, 625900)\t0.056891256420000674\n",
      "  (0, 525248)\t0.14749789687073445\n",
      "  (0, 517597)\t0.04877822929340186\n",
      "  (0, 489991)\t0.05973581641537803\n",
      "  (0, 424858)\t0.049977579434643524\n",
      "  (0, 377122)\t0.08947097958287194\n",
      "  (0, 71131)\t0.05009474121990204\n",
      "  (0, 62179)\t0.041751340924508114\n",
      "  (0, 60653)\t0.10985664617291983\n"
     ]
    },
    {
     "name": "stderr",
     "output_type": "stream",
     "text": [
      "100%|██████████| 40000/40000 [00:00<00:00, 1037725.28it/s]"
     ]
    },
    {
     "name": "stdout",
     "output_type": "stream",
     "text": [
      "0.594475\n",
      "     0\n",
      "11  11\n",
      "0    0\n",
      "5    0\n",
      "9    4\n",
      "14  14\n",
      "..  ..\n",
      "14  10\n",
      "11  11\n",
      "9   15\n",
      "9    9\n",
      "15  15\n",
      "\n",
      "[40000 rows x 1 columns]\n"
     ]
    },
    {
     "name": "stderr",
     "output_type": "stream",
     "text": [
      "\n"
     ]
    }
   ],
   "source": [
    "from tqdm import tqdm\n",
    "\n",
    "#Prediction and accuracy\n",
    "from sklearn.metrics import accuracy_score\n",
    "documents1 = testingData[:][\"OCR text\"]\n",
    "print (documents1[0])\n",
    "y_true = testingData[:]['Label']\n",
    "input = vectorizer.transform(documents1)\n",
    "print(input[3])\n",
    "#joblib test\n",
    "#job = joblib.dump(model,'naive.joblib')\n",
    "#loaded_job = joblib.load('naive.joblib')\n",
    "prediction1= clf.predict(input)\n",
    "#prediction2=loaded_job.predict(input)\n",
    "\n",
    "dataframe = pd.DataFrame(list(y_true),prediction1)\n",
    "index = 0\n",
    "count = 0\n",
    "for i in tqdm(list(y_true)):\n",
    "    if i == prediction1[index]:\n",
    "        count += 1\n",
    "    index+=1\n",
    "    \n",
    "    \n",
    "print(accuracy_score(list(y_true),prediction1))\n",
    "print(dataframe)"
   ]
  },
  {
   "cell_type": "code",
   "execution_count": null,
   "metadata": {
    "pycharm": {
     "name": "#%%"
    }
   },
   "outputs": [],
   "source": []
  }
 ],
 "metadata": {
  "accelerator": "GPU",
  "colab": {
   "collapsed_sections": [],
   "name": "document_classification_resub.ipynb",
   "provenance": []
  },
  "kernelspec": {
   "display_name": "Python 3",
   "language": "python",
   "name": "python3"
  },
  "language_info": {
   "codemirror_mode": {
    "name": "ipython",
    "version": 3
   },
   "file_extension": ".py",
   "mimetype": "text/x-python",
   "name": "python",
   "nbconvert_exporter": "python",
   "pygments_lexer": "ipython3",
   "version": "3.8.5"
  },
  "pycharm": {
   "stem_cell": {
    "cell_type": "raw",
    "metadata": {
     "collapsed": false
    },
    "source": []
   }
  }
 },
 "nbformat": 4,
 "nbformat_minor": 1
}
