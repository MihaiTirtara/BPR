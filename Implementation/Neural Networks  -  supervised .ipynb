{
 "cells": [
  {
   "cell_type": "code",
   "execution_count": 1,
   "metadata": {
    "pycharm": {
     "is_executing": false,
     "name": "#%%\n"
    }
   },
   "outputs": [],
   "source": [
    "##imports \n",
    "\n",
    "import cv2\n",
    "import joblib \n",
    "import pytesseract\n",
    "import pandas as pd\n",
    "\n",
    "from sklearn.feature_extraction.text import TfidfVectorizer\n",
    "from sklearn.cluster import KMeans\n",
    "from sklearn.metrics import adjusted_rand_score\n",
    "from sklearn.metrics import confusion_matrix\n"
   ]
  },
  {
   "cell_type": "code",
   "execution_count": 3,
   "metadata": {
    "pycharm": {
     "is_executing": false,
     "name": "#%%\n"
    }
   },
   "outputs": [],
   "source": [
    "##Needed CSV's\n",
    "trainingData = pd.read_csv(\"train-data.csv\", index_col=0) \n",
    "testingData  = pd.read_csv(\"test.csv\", index_col=0) "
   ]
  },
  {
   "cell_type": "code",
   "execution_count": 5,
   "metadata": {
    "pycharm": {
     "is_executing": false,
     "name": "#%%\n"
    }
   },
   "outputs": [],
   "source": [
    "##batch size (started with a small no. to train the algorithm on)\n",
    "batch_size = 50000"
   ]
  },
  {
   "cell_type": "code",
   "execution_count": 6,
   "metadata": {
    "pycharm": {
     "is_executing": false,
     "name": "#%%\n"
    }
   },
   "outputs": [],
   "source": [
    "##vectorizing the data\n",
    "vectorizer = TfidfVectorizer(stop_words='english')\n",
    "X = vectorizer.fit_transform(trainingData[:batch_size]['OCR text'])"
   ]
  },
  {
   "cell_type": "code",
   "execution_count": 7,
   "metadata": {
    "pycharm": {
     "is_executing": false,
     "name": "#%%\n"
    }
   },
   "outputs": [],
   "source": [
    "y = trainingData[:batch_size][\"Label\"]"
   ]
  },
  {
   "cell_type": "code",
   "execution_count": 8,
   "metadata": {
    "pycharm": {
     "is_executing": false,
     "name": "#%%\n"
    }
   },
   "outputs": [
    {
     "data": {
      "text/plain": "(320000, 3)"
     },
     "metadata": {},
     "output_type": "execute_result",
     "execution_count": 8
    }
   ],
   "source": [
    "\n",
    "print(X)"
   ]
  },
  {
   "cell_type": "code",
   "execution_count": 29,
   "metadata": {
    "pycharm": {
     "is_executing": false,
     "name": "#%%\n"
    }
   },
   "outputs": [
    {
     "name": "stderr",
     "output_type": "stream",
     "text": [
      "IOPub data rate exceeded.\n",
      "The notebook server will temporarily stop sending output\n",
      "to the client in order to avoid crashing it.\n",
      "To change this limit, set the config variable\n",
      "`--NotebookApp.iopub_data_rate_limit`.\n",
      "\n",
      "Current values:\n",
      "NotebookApp.iopub_data_rate_limit=1000000.0 (bytes/sec)\n",
      "NotebookApp.rate_limit_window=3.0 (secs)\n",
      "\n"
     ]
    }
   ],
   "source": [
    "print(vectorizer.get_feature_names())"
   ]
  },
  {
   "cell_type": "code",
   "execution_count": 9,
   "metadata": {
    "pycharm": {
     "is_executing": false,
     "name": "#%%\n"
    }
   },
   "outputs": [
    {
     "name": "stdout",
     "text": [
      "0\n"
     ],
     "output_type": "stream"
    }
   ],
   "source": [
    "print(X.shape)\n"
   ]
  },
  {
   "cell_type": "code",
   "execution_count": null,
   "outputs": [],
   "source": [
    "##Creating pipelines for Neural Networks\n",
    "\n",
    "from sklearn.pipeline import Pipeline\n",
    "from sklearn.neural_network import MLPClassifier\n",
    "mnb_pipeline = Pipeline([\n",
    "    ('nn', MLPClassifier())\n",
    "])"
   ],
   "metadata": {
    "collapsed": false,
    "pycharm": {
     "name": "#%%\n"
    }
   }
  },
  {
   "cell_type": "code",
   "execution_count": null,
   "outputs": [],
   "source": [
    "##Listing the testing tuning parameters\n",
    "\n",
    "import numpy as np\n",
    "from sklearn.model_selection import GridSearchCV\n",
    "grid_params = {\n",
    "  'nn__learning_rate_init': np.linspace(0.001, 0.005, 1),\n",
    "  'nn__activation':  [\"relu\", \"logistic\", \"identity\"],\n",
    "}\n",
    "clf = GridSearchCV(mnb_pipeline, grid_params)\n",
    "clf.fit(X, y)\n",
    "print(\"Best Score: \", clf.best_score_)\n",
    "print(\"Best Params: \", clf.best_params_)\n"
   ],
   "metadata": {
    "collapsed": false,
    "pycharm": {
     "name": "#%%\n"
    }
   }
  },
  {
   "cell_type": "code",
   "execution_count": 11,
   "metadata": {
    "pycharm": {
     "is_executing": false,
     "name": "#%%\n"
    }
   },
   "outputs": [
    {
     "name": "stdout",
     "text": [
      "Iteration 1, loss = 1.85864556\n",
      "Iteration 2, loss = 0.70859644\n",
      "Iteration 3, loss = 0.30707895\n",
      "Iteration 4, loss = 0.16819646\n",
      "Iteration 5, loss = 0.11069819\n",
      "Iteration 6, loss = 0.08292152\n",
      "Iteration 7, loss = 0.06751830\n",
      "Iteration 8, loss = 0.05855664\n",
      "Iteration 9, loss = 0.05220381\n",
      "Iteration 10, loss = 0.04821134\n",
      "Iteration 11, loss = 0.04501211\n",
      "Iteration 12, loss = 0.04267916\n",
      "Iteration 13, loss = 0.04066179\n",
      "Iteration 14, loss = 0.03904857\n",
      "Iteration 15, loss = 0.03797243\n",
      "Iteration 16, loss = 0.03672944\n",
      "Iteration 17, loss = 0.03584791\n",
      "Iteration 18, loss = 0.03499067\n",
      "Iteration 19, loss = 0.03444515\n",
      "Iteration 20, loss = 0.03360961\n",
      "Iteration 21, loss = 0.03289430\n",
      "Iteration 22, loss = 0.03260612\n",
      "Iteration 23, loss = 0.03213587\n",
      "Iteration 24, loss = 0.03184086\n",
      "Iteration 25, loss = 0.03150335\n",
      "Iteration 26, loss = 0.03137023\n",
      "Iteration 27, loss = 0.03127812\n",
      "Iteration 28, loss = 0.03060894\n",
      "Iteration 29, loss = 0.03051572\n",
      "Iteration 30, loss = 0.03052500\n",
      "Iteration 31, loss = 0.03048173\n",
      "Iteration 32, loss = 0.03052178\n",
      "Iteration 33, loss = 0.03020026\n",
      "Iteration 34, loss = 0.02961435\n",
      "Iteration 35, loss = 0.02960537\n",
      "Iteration 36, loss = 0.02974536\n",
      "Iteration 37, loss = 0.02930258\n",
      "Iteration 38, loss = 0.02917470\n",
      "Iteration 39, loss = 0.02913482\n",
      "Iteration 40, loss = 0.02873686\n",
      "Iteration 41, loss = 0.02888920\n",
      "Iteration 42, loss = 0.02836980\n",
      "Iteration 43, loss = 0.02845558\n",
      "Iteration 44, loss = 0.02872437\n",
      "Iteration 45, loss = 0.02813529\n",
      "Iteration 46, loss = 0.02780080\n",
      "Iteration 47, loss = 0.02798967\n",
      "Iteration 48, loss = 0.02783021\n",
      "Iteration 49, loss = 0.02765623\n",
      "Iteration 50, loss = 0.02791567\n",
      "Iteration 51, loss = 0.02763295\n",
      "Iteration 52, loss = 0.02739287\n",
      "Iteration 53, loss = 0.02759856\n",
      "Iteration 54, loss = 0.02719826\n",
      "Iteration 55, loss = 0.02739988\n",
      "Iteration 56, loss = 0.02700713\n",
      "Iteration 57, loss = 0.02716259\n",
      "Iteration 58, loss = 0.02688253\n",
      "Iteration 59, loss = 0.02695627\n",
      "Iteration 60, loss = 0.02663647\n",
      "Iteration 61, loss = 0.02695755\n",
      "Iteration 62, loss = 0.02670741\n",
      "Iteration 63, loss = 0.02708827\n",
      "Iteration 64, loss = 0.02666210\n",
      "Iteration 65, loss = 0.02659254\n",
      "Iteration 66, loss = 0.02641476\n",
      "Iteration 67, loss = 0.02621091\n",
      "Iteration 68, loss = 0.02624547\n",
      "Iteration 69, loss = 0.02622507\n",
      "Iteration 70, loss = 0.02632689\n",
      "Iteration 71, loss = 0.02614252\n",
      "Iteration 72, loss = 0.02613315\n",
      "Iteration 73, loss = 0.02577513\n",
      "Iteration 74, loss = 0.02564941\n",
      "Iteration 75, loss = 0.02587613\n",
      "Iteration 76, loss = 0.02608751\n",
      "Iteration 77, loss = 0.02570105\n",
      "Iteration 78, loss = 0.02576469\n",
      "Iteration 79, loss = 0.02585283\n",
      "Iteration 80, loss = 0.02574070\n",
      "Iteration 81, loss = 0.02569267\n",
      "Iteration 82, loss = 0.02522415\n",
      "Iteration 83, loss = 0.02554543\n",
      "Iteration 84, loss = 0.02598320\n",
      "Iteration 85, loss = 0.02596659\n",
      "Iteration 86, loss = 0.02617495\n",
      "Iteration 87, loss = 0.02516949\n",
      "Iteration 88, loss = 0.02504332\n",
      "Iteration 89, loss = 0.02519206\n",
      "Iteration 90, loss = 0.02568339\n",
      "Iteration 91, loss = 0.02548984\n",
      "Iteration 92, loss = 0.02490675\n",
      "Iteration 93, loss = 0.02553758\n",
      "Iteration 94, loss = 0.02505502\n",
      "Iteration 95, loss = 0.02508308\n",
      "Iteration 96, loss = 0.02522620\n",
      "Iteration 97, loss = 0.02524580\n",
      "Iteration 98, loss = 0.02492848\n",
      "Iteration 99, loss = 0.02494947\n",
      "Iteration 100, loss = 0.02516786\n",
      "Iteration 101, loss = 0.02486504\n",
      "Iteration 102, loss = 0.02485991\n",
      "Iteration 103, loss = 0.02553859\n",
      "Training loss did not improve more than tol=0.000100 for 10 consecutive epochs. Stopping.\n"
     ],
     "output_type": "stream"
    },
    {
     "data": {
      "text/plain": "MLPClassifier(activation='relu', alpha=0.0001, batch_size='auto', beta_1=0.9,\n              beta_2=0.999, early_stopping=False, epsilon=1e-08,\n              hidden_layer_sizes=(100,), learning_rate='constant',\n              learning_rate_init=0.001, max_fun=15000, max_iter=10000,\n              momentum=0.9, n_iter_no_change=10, nesterovs_momentum=True,\n              power_t=0.5, random_state=None, shuffle=True, solver='adam',\n              tol=0.0001, validation_fraction=0.1, verbose=True,\n              warm_start=False)"
     },
     "metadata": {},
     "output_type": "execute_result",
     "execution_count": 11
    }
   ],
   "source": [
    "##Fiting the data and training it - modify tuning parameters here based on the GridsearchCV\n",
    "\n",
    "from sklearn.neural_network import MLPClassifier\n",
    "\n",
    "clf = MLPClassifier(max_iter=10000, verbose=True)\n",
    "\n",
    "clf.fit(X, y)\n"
   ]
  },
  {
   "cell_type": "code",
   "execution_count": 25,
   "metadata": {
    "pycharm": {
     "is_executing": false,
     "name": "#%%\n"
    }
   },
   "outputs": [
    {
     "name": "stderr",
     "text": [
      "100%|██████████| 320000/320000 [00:00<00:00, 1163656.14it/s]\n"
     ],
     "output_type": "stream"
    },
    {
     "name": "stdout",
     "text": [
      "0.757165625\n",
      "     0\n",
      "15  15\n",
      "1    1\n",
      "7    7\n",
      "10  10\n",
      "3    3\n",
      "..  ..\n",
      "9    9\n",
      "15  15\n",
      "6    6\n",
      "4    9\n",
      "3    3\n",
      "\n",
      "[320000 rows x 1 columns]\n"
     ],
     "output_type": "stream"
    }
   ],
   "source": [
    "##Testing data based on the fitted model\n",
    "\n",
    "from tqdm import tqdm\n",
    "\n",
    "#Prediction and accuracy\n",
    "from sklearn.metrics import accuracy_score\n",
    "documents1 = trainingData[:][\"OCR text\"]\n",
    "y_true = trainingData[:]['Label']\n",
    "input = vectorizer.transform(documents1)\n",
    "prediction1= clf.predict(input)\n",
    "\n",
    "dataframe = pd.DataFrame(list(y_true),prediction1)\n",
    "index = 0\n",
    "count = 0\n",
    "for i in tqdm(list(y_true)):\n",
    "    if i == prediction1[index]:\n",
    "        count += 1\n",
    "    index+=1\n",
    "    \n",
    "    \n",
    "print(\"Accuracy:\",accuracy_score(list(y_true),prediction1))\n",
    "print(dataframe)"
   ]
  },
  {
   "cell_type": "code",
   "execution_count": null,
   "metadata": {
    "pycharm": {
     "is_executing": false,
     "name": "#%%"
    }
   },
   "outputs": [],
   "source": []
  }
 ],
 "metadata": {
  "accelerator": "GPU",
  "colab": {
   "collapsed_sections": [],
   "name": "document_classification_resub.ipynb",
   "provenance": []
  },
  "kernelspec": {
   "display_name": "PyCharm (sem6)",
   "language": "python",
   "name": "pycharm-46268e0c"
  },
  "language_info": {
   "codemirror_mode": {
    "name": "ipython",
    "version": 3
   },
   "file_extension": ".py",
   "mimetype": "text/x-python",
   "name": "python",
   "nbconvert_exporter": "python",
   "pygments_lexer": "ipython3",
   "version": "3.7.6"
  },
  "pycharm": {
   "stem_cell": {
    "cell_type": "raw",
    "source": [],
    "metadata": {
     "collapsed": false
    }
   }
  }
 },
 "nbformat": 4,
 "nbformat_minor": 1
}