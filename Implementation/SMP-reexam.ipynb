{
 "cells": [
  {
   "cell_type": "markdown",
   "metadata": {},
   "source": [
    "SMP re-exam August 2020\n",
    "=="
   ]
  },
  {
   "cell_type": "code",
   "execution_count": 5,
   "metadata": {},
   "outputs": [],
   "source": [
    "# Student number: 266078"
   ]
  },
  {
   "cell_type": "code",
   "execution_count": 2,
   "metadata": {},
   "outputs": [],
   "source": [
    "from sympy import *\n",
    "from fractions import Fraction\n",
    "from scipy.stats import binom\n",
    "from scipy.stats import poisson\n",
    "from scipy.stats import hypergeom\n",
    "from scipy.stats import nbinom\n",
    "from scipy.stats import expon\n",
    "from IPython.display import display, Latex, HTML, Math\n",
    "import statsmodels.api as sm\n",
    "from scipy import stats\n",
    "import numpy as np\n",
    "import sympy as sp\n",
    "import pandas as pd\n",
    "from matplotlib import pyplot as plt\n",
    "import numpy as np\n",
    "from sklearn import linear_model\n",
    "%matplotlib inline"
   ]
  },
  {
   "cell_type": "markdown",
   "metadata": {},
   "source": [
    "Feel free to add cells if you need to. The easiest way to convert to pdf is to save this notebook as .html (File-->Download as-->HTML) and then convert this html file to pdf."
   ]
  },
  {
   "cell_type": "markdown",
   "metadata": {},
   "source": [
    "Assignment 1 (20%)\n",
    "=="
   ]
  },
  {
   "cell_type": "code",
   "execution_count": null,
   "metadata": {},
   "outputs": [],
   "source": [
    "# a)\n",
    "\n",
    "x=sp.Symbol('x')\n",
    "q=sp.Symbol('q')\n",
    "e=2.7182\n",
    "f=(1/(e**q)*(e**x))\n",
    "#Nu stiu exact daca trebuie sa pui si zero sau nu \n",
    "F=sp.integrate(f,(x,x,3))\n",
    "q=sp.solve(F-1,q)\n",
    "print(q[0])"
   ]
  },
  {
   "cell_type": "code",
   "execution_count": 8,
   "metadata": {},
   "outputs": [],
   "source": [
    "# b)\n"
   ]
  },
  {
   "cell_type": "code",
   "execution_count": 9,
   "metadata": {},
   "outputs": [],
   "source": [
    "# c)\n"
   ]
  },
  {
   "cell_type": "code",
   "execution_count": 10,
   "metadata": {},
   "outputs": [],
   "source": [
    "# d)\n"
   ]
  },
  {
   "cell_type": "markdown",
   "metadata": {},
   "source": [
    "Assignment 2 (10%)\n",
    "=="
   ]
  },
  {
   "cell_type": "code",
   "execution_count": 83,
   "metadata": {},
   "outputs": [
    {
     "name": "stdout",
     "output_type": "stream",
     "text": [
      "P(A | B) =  0.26\n"
     ]
    }
   ],
   "source": [
    "# a)\n",
    "\n",
    "P_AnotB = 0.3\n",
    "P_AB = 0.2\n",
    "P_B = 0.4\n",
    "\n",
    "# using the law of total probability\n",
    "\n",
    "P_A = P_AB * P_B + P_AnotB * (1-P_B)\n",
    "print(\"P(A | B) = \",P_A)"
   ]
  },
  {
   "cell_type": "code",
   "execution_count": 84,
   "metadata": {},
   "outputs": [
    {
     "name": "stdout",
     "output_type": "stream",
     "text": [
      "P(B | A) =  0.31\n"
     ]
    }
   ],
   "source": [
    "# b)\n",
    "\n",
    "# using the conditional probability, we can find P(B | A)\n",
    "\n",
    "P_BA = (P_AB * P_B) / P_A\n",
    "print(\"P(B | A) = \",round(P_BA,2))"
   ]
  },
  {
   "cell_type": "code",
   "execution_count": 85,
   "metadata": {},
   "outputs": [
    {
     "name": "stdout",
     "output_type": "stream",
     "text": [
      "P(B | !A) =  0.29\n"
     ]
    }
   ],
   "source": [
    "# c)\n",
    "\n",
    "P_AnotB = P_B - (P_AB * P_B) / (1 - P_A)\n",
    "print(\"P(B | !A) = \",round(P_AnotB,2))"
   ]
  },
  {
   "cell_type": "markdown",
   "metadata": {},
   "source": [
    "Assignment 3 (15%)\n",
    "=="
   ]
  },
  {
   "cell_type": "code",
   "execution_count": 67,
   "metadata": {},
   "outputs": [
    {
     "data": {
      "text/latex": [
       "$\\displaystyle P(X \\geq 3) = 0.9959$"
      ],
      "text/plain": [
       "<IPython.core.display.Math object>"
      ]
     },
     "metadata": {},
     "output_type": "display_data"
    }
   ],
   "source": [
    "# a) HyperGeometric\n",
    "\n",
    "display(Latex(\"$$P(X \\geq 3) = {}$$\".format(round(hypergeom.sf(2, 30, 20, 5), 4))))"
   ]
  },
  {
   "cell_type": "code",
   "execution_count": 81,
   "metadata": {},
   "outputs": [
    {
     "data": {
      "text/latex": [
       "$$P(X > 100) = 0.3012$$"
      ],
      "text/plain": [
       "<IPython.core.display.Latex object>"
      ]
     },
     "metadata": {},
     "output_type": "display_data"
    }
   ],
   "source": [
    "# b) Exponential\n",
    "\n",
    "l = 5000/60\n",
    "display(Latex(\"$$P(X > 100) = {}$$\".format(round(expon.sf(100, 0, l), 4))))"
   ]
  },
  {
   "cell_type": "code",
   "execution_count": 80,
   "metadata": {},
   "outputs": [
    {
     "data": {
      "text/latex": [
       "$$P(X = Player A) = 0.082$$"
      ],
      "text/plain": [
       "<IPython.core.display.Latex object>"
      ]
     },
     "metadata": {},
     "output_type": "display_data"
    },
    {
     "data": {
      "text/latex": [
       "$$P(X > 8) = 0.2539$$"
      ],
      "text/plain": [
       "<IPython.core.display.Latex object>"
      ]
     },
     "metadata": {},
     "output_type": "display_data"
    }
   ],
   "source": [
    "# c) Binomial\n",
    "\n",
    "#It should be 50/50 if they are equally good at the game, but we need to study this\n",
    "\n",
    "display(Latex(\"$$P(X = Player A) = {}$$\".format(round(nbinom.pmf(2, 6, 0.50), 4))))\n",
    "display(Latex(\"$$P(X > 8) = {}$$\".format(round(nbinom.cdf(3, 6, 0.50), 4))))\n"
   ]
  },
  {
   "cell_type": "markdown",
   "metadata": {},
   "source": [
    "Assignment 4 (20%)\n",
    "=="
   ]
  },
  {
   "cell_type": "code",
   "execution_count": 7,
   "metadata": {},
   "outputs": [
    {
     "data": {
      "text/html": [
       "<div>\n",
       "<style scoped>\n",
       "    .dataframe tbody tr th:only-of-type {\n",
       "        vertical-align: middle;\n",
       "    }\n",
       "\n",
       "    .dataframe tbody tr th {\n",
       "        vertical-align: top;\n",
       "    }\n",
       "\n",
       "    .dataframe thead th {\n",
       "        text-align: right;\n",
       "    }\n",
       "</style>\n",
       "<table border=\"1\" class=\"dataframe\">\n",
       "  <thead>\n",
       "    <tr style=\"text-align: right;\">\n",
       "      <th></th>\n",
       "      <th>Married</th>\n",
       "      <th>Singles</th>\n",
       "    </tr>\n",
       "  </thead>\n",
       "  <tbody>\n",
       "    <tr>\n",
       "      <th>count</th>\n",
       "      <td>100.000000</td>\n",
       "      <td>100.000000</td>\n",
       "    </tr>\n",
       "    <tr>\n",
       "      <th>mean</th>\n",
       "      <td>82.014103</td>\n",
       "      <td>78.612660</td>\n",
       "    </tr>\n",
       "    <tr>\n",
       "      <th>std</th>\n",
       "      <td>9.842646</td>\n",
       "      <td>11.721568</td>\n",
       "    </tr>\n",
       "    <tr>\n",
       "      <th>min</th>\n",
       "      <td>60.390320</td>\n",
       "      <td>55.049100</td>\n",
       "    </tr>\n",
       "    <tr>\n",
       "      <th>25%</th>\n",
       "      <td>75.790819</td>\n",
       "      <td>69.438608</td>\n",
       "    </tr>\n",
       "    <tr>\n",
       "      <th>50%</th>\n",
       "      <td>82.014103</td>\n",
       "      <td>78.612660</td>\n",
       "    </tr>\n",
       "    <tr>\n",
       "      <th>75%</th>\n",
       "      <td>89.653034</td>\n",
       "      <td>87.700052</td>\n",
       "    </tr>\n",
       "    <tr>\n",
       "      <th>max</th>\n",
       "      <td>99.754776</td>\n",
       "      <td>100.239811</td>\n",
       "    </tr>\n",
       "  </tbody>\n",
       "</table>\n",
       "</div>"
      ],
      "text/plain": [
       "          Married     Singles\n",
       "count  100.000000  100.000000\n",
       "mean    82.014103   78.612660\n",
       "std      9.842646   11.721568\n",
       "min     60.390320   55.049100\n",
       "25%     75.790819   69.438608\n",
       "50%     82.014103   78.612660\n",
       "75%     89.653034   87.700052\n",
       "max     99.754776  100.239811"
      ]
     },
     "execution_count": 7,
     "metadata": {},
     "output_type": "execute_result"
    }
   ],
   "source": [
    "# a)\n",
    "\n",
    "#read from excel file. Careful with the sheet name. It might need changing or not\n",
    "lifespan = pd.read_excel('lifespan_civil_status.xlsx')\n",
    "lifespan.head()\n",
    "\n",
    "#first lets check for outliers\n",
    "median = lifespan['Married'].median()\n",
    "std = lifespan['Married'].std() \n",
    "outliers = (lifespan['Married'] - median).abs() > 1.5*std \n",
    "lifespan['Married'][outliers] = np.nan\n",
    " \n",
    "mean = lifespan['Married'].mean()\n",
    "lifespan['Married'].fillna(mean, inplace=True) \n",
    "\n",
    "median = lifespan['Singles'].median()\n",
    "std = lifespan['Singles'].std() \n",
    "outliers = (lifespan['Singles'] - median).abs() > 1.5*std \n",
    "lifespan['Singles'][outliers] = np.nan\n",
    " \n",
    "mean = lifespan['Singles'].mean()\n",
    "lifespan['Singles'].fillna(mean, inplace=True) \n",
    "\n",
    "# we can use describe or to calculate by hand\n",
    "lifespan.describe()"
   ]
  },
  {
   "cell_type": "code",
   "execution_count": 8,
   "metadata": {},
   "outputs": [
    {
     "data": {
      "text/plain": [
       "'Quartiles Lifespan Married: '"
      ]
     },
     "metadata": {},
     "output_type": "display_data"
    },
    {
     "data": {
      "text/plain": [
       "'Minimum value = 60.39031955976753'"
      ]
     },
     "metadata": {},
     "output_type": "display_data"
    },
    {
     "data": {
      "text/plain": [
       "'Lower Quartile (25th percentile) = 75.79081921533238'"
      ]
     },
     "metadata": {},
     "output_type": "display_data"
    },
    {
     "data": {
      "text/plain": [
       "'Median (50th percentile) = 82.01410315521645'"
      ]
     },
     "metadata": {},
     "output_type": "display_data"
    },
    {
     "data": {
      "text/plain": [
       "'Upper Quartile (75th percentile) = 89.65303374673778'"
      ]
     },
     "metadata": {},
     "output_type": "display_data"
    },
    {
     "data": {
      "text/plain": [
       "'Maximum value = 99.7547758689431'"
      ]
     },
     "metadata": {},
     "output_type": "display_data"
    },
    {
     "name": "stdout",
     "output_type": "stream",
     "text": [
      "mean 82.01410315521645\n",
      "std 9.84264593592751\n",
      "var 96.87767902003033\n"
     ]
    }
   ],
   "source": [
    "# Now to make sure the results are correct\n",
    "Q = np.percentile(lifespan['Married'], [0,25,50,75,100])\n",
    "display(\"Quartiles Lifespan Married: \", \"Minimum value = \" + str(Q[0]), \"Lower Quartile (25th percentile) = \" + str(Q[1]), \"Median (50th percentile) = \" + str(Q[2]), \"Upper Quartile (75th percentile) = \" + str(Q[3]),\"Maximum value = \" + str(Q[4]))\n",
    "print('mean', lifespan['Married'].mean())\n",
    "print('std', lifespan['Married'].std(ddof=1))\n",
    "print('var', lifespan['Married'].var(ddof=1))"
   ]
  },
  {
   "cell_type": "code",
   "execution_count": 9,
   "metadata": {},
   "outputs": [
    {
     "data": {
      "text/plain": [
       "'Quartiles Lifespan Singles: '"
      ]
     },
     "metadata": {},
     "output_type": "display_data"
    },
    {
     "data": {
      "text/plain": [
       "'Minimum value = 55.04909954475303'"
      ]
     },
     "metadata": {},
     "output_type": "display_data"
    },
    {
     "data": {
      "text/plain": [
       "'Lower Quartile (25th percentile) = 69.43860799087065'"
      ]
     },
     "metadata": {},
     "output_type": "display_data"
    },
    {
     "data": {
      "text/plain": [
       "'Median (50th percentile) = 78.61265979460822'"
      ]
     },
     "metadata": {},
     "output_type": "display_data"
    },
    {
     "data": {
      "text/plain": [
       "'Upper Quartile (75th percentile) = 87.70005247385299'"
      ]
     },
     "metadata": {},
     "output_type": "display_data"
    },
    {
     "data": {
      "text/plain": [
       "'Maximum value = 100.2398110962515'"
      ]
     },
     "metadata": {},
     "output_type": "display_data"
    },
    {
     "name": "stdout",
     "output_type": "stream",
     "text": [
      "mean 78.61265979460818\n",
      "std 11.721568236352647\n",
      "var 137.39516191947132\n"
     ]
    }
   ],
   "source": [
    "Q = np.percentile(lifespan['Singles'], [0,25,50,75,100])\n",
    "display(\"Quartiles Lifespan Singles: \", \"Minimum value = \" + str(Q[0]), \"Lower Quartile (25th percentile) = \" + str(Q[1]), \"Median (50th percentile) = \" + str(Q[2]), \"Upper Quartile (75th percentile) = \" + str(Q[3]),\"Maximum value = \" + str(Q[4]))\n",
    "print('mean', lifespan['Singles'].mean())\n",
    "print('std', lifespan['Singles'].std(ddof=1))\n",
    "print('var', lifespan['Singles'].var(ddof=1))"
   ]
  },
  {
   "cell_type": "code",
   "execution_count": 14,
   "metadata": {},
   "outputs": [
    {
     "data": {
      "text/latex": [
       "A 95 % confidence interval for the sample mean of the Lifespan Married is [80.061 ; 83.967]"
      ],
      "text/plain": [
       "<IPython.core.display.Latex object>"
      ]
     },
     "metadata": {},
     "output_type": "display_data"
    },
    {
     "data": {
      "text/latex": [
       "A 95 % confidence interval for the sample mean of the Lifespan Singles is [76.287 ; 80.938]"
      ],
      "text/plain": [
       "<IPython.core.display.Latex object>"
      ]
     },
     "metadata": {},
     "output_type": "display_data"
    },
    {
     "data": {
      "image/png": "[encoded data removed]",
      "text/plain": [
       "<Figure size 432x288 with 1 Axes>"
      ]
     },
     "metadata": {
      "needs_background": "light"
     },
     "output_type": "display_data"
    }
   ],
   "source": [
    "# b)\n",
    "\n",
    "n10 = len(lifespan['Married'])\n",
    "m10 = np.mean(lifespan['Married'])\n",
    "SE10 = stats.sem(lifespan['Married'])\n",
    "Level = 0.95\n",
    "\n",
    "CI10 = stats.t.interval(Level, n10-1, loc=m10, scale=SE10)\n",
    "n20 = len(lifespan['Singles'])\n",
    "m20 = np.mean(lifespan['Singles'])\n",
    "SE20 = stats.sem(lifespan['Singles'])\n",
    "\n",
    "CI20 = stats.t.interval(Level, n20-1, loc=m20, scale=SE20)\n",
    "\n",
    "display(Latex('A ' + repr(int(Level*100)) + ' % confidence interval for the sample mean of the Lifespan Married is ['+ repr(round(CI10[0],3)) + ' ; ' + repr(round(CI10[1],3)) + ']'))\n",
    "display(Latex('A ' + repr(int(Level*100)) + ' % confidence interval for the sample mean of the Lifespan Singles is ['+ repr(round(CI20[0],3)) + ' ; ' + repr(round(CI20[1],3)) + ']'))\n",
    "\n",
    "plt.figure()\n",
    "\n",
    "x10 = np.linspace(m10-4*SE10, m10+4*SE10, 1000)\n",
    "z10 = np.linspace(CI10[0], CI10[1], 1000)\n",
    "y10 = stats.t.pdf(x10,n10-1, m10, SE10)\n",
    "plt.plot(x10,y10, color = 'red')\n",
    "plt.fill_between(z10, stats.t.pdf(z10,n10-1, m10,SE10), color = 'red', alpha = 0.4)\n",
    "\n",
    "x20 = np.linspace(m20-4*SE20, m20+4*SE20, 1000)\n",
    "z20 = np.linspace(CI20[0], CI20[1], 1000)\n",
    "y20 = stats.t.pdf(x20,n20-1, m20, SE20)\n",
    "plt.plot(x20,y20, color = 'blue')\n",
    "plt.fill_between(z20, stats.t.pdf(z20,n20-1, m20,SE20), color = 'blue', alpha = 0.4)\n",
    "\n",
    "plt.show()\n"
   ]
  },
  {
   "cell_type": "code",
   "execution_count": 15,
   "metadata": {},
   "outputs": [
    {
     "data": {
      "image/png": "[encoded data removed]",
      "text/plain": [
       "<Figure size 432x288 with 1 Axes>"
      ]
     },
     "metadata": {
      "needs_background": "light"
     },
     "output_type": "display_data"
    }
   ],
   "source": [
    "# c)\n",
    "\n",
    "# to check if could be Normal, we first make some plots\n",
    "fig, ax = plt.subplots()  \n",
    "lifespan['Married'].plot.kde(ax=ax, legend=False, title='Histogram')  \n",
    "lifespan['Married'].plot.hist(density=True, ax=ax, legend=False, rwidth=0.9) \n",
    "\n",
    "plt.show()  "
   ]
  },
  {
   "cell_type": "code",
   "execution_count": 30,
   "metadata": {},
   "outputs": [
    {
     "data": {
      "image/png": "[encoded data removed]",
      "text/plain": [
       "<Figure size 1440x720 with 1 Axes>"
      ]
     },
     "metadata": {
      "needs_background": "light"
     },
     "output_type": "display_data"
    }
   ],
   "source": [
    "figure, ax = plt.subplots(num=1,figsize=(20,10))\n",
    "# in dist replace with supposed distribution\n",
    "stats.probplot(x=lifespan['Married'], plot=ax,dist=stats.norm)\n",
    "plt.title(\"Normal distribution testing for Married Lifespan\")\n",
    "plt.show()"
   ]
  },
  {
   "cell_type": "code",
   "execution_count": 31,
   "metadata": {},
   "outputs": [
    {
     "data": {
      "image/png": "[encoded data removed]",
      "text/plain": [
       "<Figure size 1440x720 with 1 Axes>"
      ]
     },
     "metadata": {
      "needs_background": "light"
     },
     "output_type": "display_data"
    }
   ],
   "source": [
    "figure, ax = plt.subplots(num=1,figsize=(20,10))\n",
    "# in dist replace with supposed distribution\n",
    "stats.probplot(x=lifespan['Married'], plot=ax,dist=stats.uniform)\n",
    "plt.title(\"Uniform distribution testing for Married Lifespan\")\n",
    "plt.show()"
   ]
  },
  {
   "cell_type": "code",
   "execution_count": 19,
   "metadata": {},
   "outputs": [
    {
     "name": "stdout",
     "output_type": "stream",
     "text": [
      "Skewness = 0.07293624733098107\n",
      "Kurtosis = -0.7009417723456104\n",
      "As the skewness is between -0.5 and 0.5 it is not skewed\n",
      "As the kurtosis is less than -0.5 it is Platykurtic\n"
     ]
    }
   ],
   "source": [
    "print('Skewness = ' + str(stats.skew(lifespan['Married'])))  \n",
    "print('Kurtosis = ' + str(stats.kurtosis(lifespan['Married'])))  \n",
    "if stats.skew(lifespan['Married'])<0.5 and stats.skew(lifespan['Married'])>-0.5:  \n",
    "    print(\"As the skewness is between -0.5 and 0.5 it is not skewed\")  \n",
    "elif stats.skew(lifespan['Married'])<-0.5 :   \n",
    "    print(\"As the skewness is less than -0.5 it is negative skewed\")  \n",
    "else:  \n",
    "    print(\"As the skewness is more than 0.5 it is positive skewed\")  \n",
    "           \n",
    "if stats.kurtosis(lifespan['Married'])<0.5 and stats.kurtosis(lifespan['Married'])>-0.5:  \n",
    "    print(\"As the kurtosis is between -0.5 and 0.5 it is Mesokurtic\")  \n",
    "elif stats.kurtosis(lifespan['Married'])<-0.5 :   \n",
    "    print(\"As the kurtosis is less than -0.5 it is Platykurtic\")  \n",
    "else:  \n",
    "    print(\"As the skewness is more than 0.5 it is leptokurtic\")   "
   ]
  },
  {
   "cell_type": "code",
   "execution_count": 17,
   "metadata": {
    "scrolled": true
   },
   "outputs": [
    {
     "data": {
      "image/png": "[encoded data removed]",
      "text/plain": [
       "<Figure size 432x288 with 1 Axes>"
      ]
     },
     "metadata": {
      "needs_background": "light"
     },
     "output_type": "display_data"
    }
   ],
   "source": [
    "fig, ax = plt.subplots()  \n",
    "lifespan['Singles'].plot.kde(ax=ax, legend=False, title='Histogram')  \n",
    "lifespan['Singles'].plot.hist(density=True, ax=ax, legend=False, rwidth=0.9)  \n",
    "plt.show()  "
   ]
  },
  {
   "cell_type": "code",
   "execution_count": 32,
   "metadata": {},
   "outputs": [
    {
     "data": {
      "image/png": "[encoded data removed]",
      "text/plain": [
       "<Figure size 1440x720 with 1 Axes>"
      ]
     },
     "metadata": {
      "needs_background": "light"
     },
     "output_type": "display_data"
    }
   ],
   "source": [
    "figure, ax = plt.subplots(num=1,figsize=(20,10))\n",
    "# in dist replace with supposed distribution\n",
    "stats.probplot(x=lifespan['Married'], plot=ax,dist=stats.norm)\n",
    "plt.title(\"Normal distribution testing for singles Lifespan\")\n",
    "plt.show()"
   ]
  },
  {
   "cell_type": "code",
   "execution_count": 33,
   "metadata": {},
   "outputs": [
    {
     "data": {
      "image/png": "[encoded data removed]",
      "text/plain": [
       "<Figure size 1440x720 with 1 Axes>"
      ]
     },
     "metadata": {
      "needs_background": "light"
     },
     "output_type": "display_data"
    }
   ],
   "source": [
    "figure, ax = plt.subplots(num=1,figsize=(20,10))\n",
    "# in dist replace with supposed distribution\n",
    "stats.probplot(x=lifespan['Married'], plot=ax,dist=stats.uniform)\n",
    "plt.title(\"Uniform distribution testing for Single Lifespan\")\n",
    "plt.show()"
   ]
  },
  {
   "cell_type": "code",
   "execution_count": 20,
   "metadata": {},
   "outputs": [
    {
     "name": "stdout",
     "output_type": "stream",
     "text": [
      "Skewness = -0.06127247151830109\n",
      "Kurtosis = -0.7871035947078031\n",
      "As the skewness is between -0.5 and 0.5 it is not skewed\n",
      "As the kurtosis is less than -0.5 it is Platykurtic\n"
     ]
    }
   ],
   "source": [
    "print('Skewness = ' + str(stats.skew(lifespan['Singles'])))  \n",
    "print('Kurtosis = ' + str(stats.kurtosis(lifespan['Singles'])))  \n",
    "if stats.skew(lifespan['Singles'])<0.5 and stats.skew(lifespan['Singles'])>-0.5:  \n",
    "    print(\"As the skewness is between -0.5 and 0.5 it is not skewed\")  \n",
    "elif stats.skew(lifespan['Singles'])<-0.5 :   \n",
    "    print(\"As the skewness is less than -0.5 it is negative skewed\")  \n",
    "else:  \n",
    "    print(\"As the skewness is more than 0.5 it is positive skewed\")  \n",
    "           \n",
    "if stats.kurtosis(lifespan['Singles'])<0.5 and stats.kurtosis(lifespan['Singles'])>-0.5:  \n",
    "    print(\"As the kurtosis is between -0.5 and 0.5 it is Mesokurtic\")  \n",
    "elif stats.kurtosis(lifespan['Singles'])<-0.5 :   \n",
    "    print(\"As the kurtosis is less than -0.5 it is Platykurtic\")  \n",
    "else:  \n",
    "    print(\"As the skewness is more than 0.5 it is leptokurtic\")   "
   ]
  },
  {
   "cell_type": "markdown",
   "metadata": {},
   "source": [
    "Summary\n",
    "\n",
    "The plot for Married Lifespans models indicate it could be Normal. It is also Platykurtic and not skewed. \n",
    "\n",
    "The plot for singles Lifespans models indicate it could be Normal. It is also Platykurtic and not skewed.\n",
    "\n",
    "It means there are some extreme events, but they would rather follow a normal ditribution than a uniform one."
   ]
  },
  {
   "cell_type": "code",
   "execution_count": 34,
   "metadata": {},
   "outputs": [
    {
     "data": {
      "image/png": "[encoded data removed]",
      "text/plain": [
       "<Figure size 432x288 with 1 Axes>"
      ]
     },
     "metadata": {
      "needs_background": "light"
     },
     "output_type": "display_data"
    }
   ],
   "source": [
    "# d)\n",
    "\n",
    "diff = lifespan['Married'] - lifespan['Singles']\n",
    "X = diff.to_numpy()\n",
    "std = X.std(ddof=1)\n",
    "mean = X.mean()\n",
    "x = np.linspace(-4*std/np.sqrt(len(X)), 4*std/np.sqrt(len(X)), 1000)\n",
    "y = stats.t.pdf(x,df = len(X)-1, loc = 0, scale = std/np.sqrt(len(X)))\n",
    "\n",
    "plt.plot(x,y, color = 'darkorange')\n",
    "\n",
    "lower = stats.t.ppf(0.005,df = len(X)-1,loc = 0, scale = std/np.sqrt(len(X)))\n",
    "upper = stats.t.ppf(0.995,df = len(X)-1,loc = 0, scale = std/np.sqrt(len(X)))  \n",
    "                \n",
    "xf = np.linspace(lower,upper, 100)\n",
    "plt.fill_between(xf, stats.t.pdf(xf,df = len(X)-1, loc=0,scale= std/np.sqrt(len(X))), color = 'darkorange')\n",
    "\n",
    "plt.plot(mean,0,'*',color='blue')\n",
    "plt.show()"
   ]
  },
  {
   "cell_type": "code",
   "execution_count": 35,
   "metadata": {},
   "outputs": [
    {
     "name": "stdout",
     "output_type": "stream",
     "text": [
      "p_value =  0.028174045593655217\n",
      "The null can be rejected because it is smaller than 0.05. They do differ from one year to another\n"
     ]
    }
   ],
   "source": [
    "# e)\n",
    "# Ther null is that the mean lifespan don't differ based on the civil status\n",
    "diff = lifespan['Married'] - lifespan['Singles']\n",
    "X = diff.to_numpy()\n",
    "t=X.mean()/(X.std(ddof=1)/np.sqrt(len(X)))\n",
    "prob = stats.t.cdf(t, df=len(X)-1)\n",
    "\n",
    "print('p_value = ', 2*min(prob,1-prob))\n",
    "print('The null can be rejected because it is smaller than 0.05. They do differ based on the civil status')"
   ]
  },
  {
   "cell_type": "code",
   "execution_count": 36,
   "metadata": {},
   "outputs": [
    {
     "name": "stdout",
     "output_type": "stream",
     "text": [
      "p_value =  0.3862650993368661\n",
      "The null can't be rejected because it is over 0.05\n"
     ]
    }
   ],
   "source": [
    "# f)\n",
    "\n",
    "#A F Test have to be used to check if there is a difference in standard deviations\n",
    "prob = stats.f.sf(lifespan['Singles'].std(ddof=1)/lifespan['Married'].std(ddof=1),  dfn=len(lifespan['Singles'])-1, dfd=len(lifespan['Married'])-1)\n",
    "print(\"p_value = \", prob*2)\n",
    "print('The null can\\'t be rejected because it is over 0.05')\n"
   ]
  },
  {
   "cell_type": "markdown",
   "metadata": {},
   "source": [
    "Assignment 5 (15%)\n",
    "=="
   ]
  },
  {
   "cell_type": "code",
   "execution_count": 40,
   "metadata": {
    "scrolled": true
   },
   "outputs": [
    {
     "data": {
      "text/html": [
       "<div>\n",
       "<style scoped>\n",
       "    .dataframe tbody tr th:only-of-type {\n",
       "        vertical-align: middle;\n",
       "    }\n",
       "\n",
       "    .dataframe tbody tr th {\n",
       "        vertical-align: top;\n",
       "    }\n",
       "\n",
       "    .dataframe thead th {\n",
       "        text-align: right;\n",
       "    }\n",
       "</style>\n",
       "<table border=\"1\" class=\"dataframe\">\n",
       "  <thead>\n",
       "    <tr style=\"text-align: right;\">\n",
       "      <th></th>\n",
       "      <th>Unnamed: 0</th>\n",
       "      <th>price</th>\n",
       "      <th>brand</th>\n",
       "      <th>model</th>\n",
       "      <th>year</th>\n",
       "      <th>title_status</th>\n",
       "      <th>mileage</th>\n",
       "      <th>color</th>\n",
       "      <th>vin</th>\n",
       "      <th>lot</th>\n",
       "      <th>state</th>\n",
       "      <th>country</th>\n",
       "      <th>condition</th>\n",
       "    </tr>\n",
       "  </thead>\n",
       "  <tbody>\n",
       "    <tr>\n",
       "      <th>0</th>\n",
       "      <td>0</td>\n",
       "      <td>6300</td>\n",
       "      <td>ford</td>\n",
       "      <td>cruiser</td>\n",
       "      <td>2008</td>\n",
       "      <td>clean vehicle</td>\n",
       "      <td>274117.0</td>\n",
       "      <td>black</td>\n",
       "      <td>jtezu11f88k007763</td>\n",
       "      <td>159348797</td>\n",
       "      <td>new jersey</td>\n",
       "      <td>usa</td>\n",
       "      <td>10 days left</td>\n",
       "    </tr>\n",
       "    <tr>\n",
       "      <th>1</th>\n",
       "      <td>1</td>\n",
       "      <td>2899</td>\n",
       "      <td>ford</td>\n",
       "      <td>se</td>\n",
       "      <td>2011</td>\n",
       "      <td>clean vehicle</td>\n",
       "      <td>190552.0</td>\n",
       "      <td>gray</td>\n",
       "      <td>2fmdk3gc4bbb02217</td>\n",
       "      <td>166951262</td>\n",
       "      <td>tennessee</td>\n",
       "      <td>usa</td>\n",
       "      <td>6 days left</td>\n",
       "    </tr>\n",
       "    <tr>\n",
       "      <th>2</th>\n",
       "      <td>2</td>\n",
       "      <td>5350</td>\n",
       "      <td>dodge</td>\n",
       "      <td>mpv</td>\n",
       "      <td>2018</td>\n",
       "      <td>clean vehicle</td>\n",
       "      <td>39590.0</td>\n",
       "      <td>gray</td>\n",
       "      <td>3c4pdcgg5jt346413</td>\n",
       "      <td>167655728</td>\n",
       "      <td>georgia</td>\n",
       "      <td>usa</td>\n",
       "      <td>2 days left</td>\n",
       "    </tr>\n",
       "    <tr>\n",
       "      <th>3</th>\n",
       "      <td>3</td>\n",
       "      <td>25000</td>\n",
       "      <td>ford</td>\n",
       "      <td>door</td>\n",
       "      <td>2014</td>\n",
       "      <td>clean vehicle</td>\n",
       "      <td>64146.0</td>\n",
       "      <td>blue</td>\n",
       "      <td>1ftfw1et4efc23745</td>\n",
       "      <td>167753855</td>\n",
       "      <td>virginia</td>\n",
       "      <td>usa</td>\n",
       "      <td>22 hours left</td>\n",
       "    </tr>\n",
       "    <tr>\n",
       "      <th>4</th>\n",
       "      <td>4</td>\n",
       "      <td>27700</td>\n",
       "      <td>chevrolet</td>\n",
       "      <td>1500</td>\n",
       "      <td>2018</td>\n",
       "      <td>clean vehicle</td>\n",
       "      <td>6654.0</td>\n",
       "      <td>red</td>\n",
       "      <td>3gcpcrec2jg473991</td>\n",
       "      <td>167763266</td>\n",
       "      <td>florida</td>\n",
       "      <td>usa</td>\n",
       "      <td>22 hours left</td>\n",
       "    </tr>\n",
       "  </tbody>\n",
       "</table>\n",
       "</div>"
      ],
      "text/plain": [
       "   Unnamed: 0  price      brand    model  year   title_status   mileage  \\\n",
       "0           0   6300       ford  cruiser  2008  clean vehicle  274117.0   \n",
       "1           1   2899       ford       se  2011  clean vehicle  190552.0   \n",
       "2           2   5350      dodge      mpv  2018  clean vehicle   39590.0   \n",
       "3           3  25000       ford     door  2014  clean vehicle   64146.0   \n",
       "4           4  27700  chevrolet     1500  2018  clean vehicle    6654.0   \n",
       "\n",
       "   color                  vin        lot       state country      condition  \n",
       "0  black    jtezu11f88k007763  159348797  new jersey     usa   10 days left  \n",
       "1   gray    2fmdk3gc4bbb02217  166951262   tennessee     usa    6 days left  \n",
       "2   gray    3c4pdcgg5jt346413  167655728     georgia     usa    2 days left  \n",
       "3   blue    1ftfw1et4efc23745  167753855    virginia     usa  22 hours left  \n",
       "4    red    3gcpcrec2jg473991  167763266     florida     usa  22 hours left  "
      ]
     },
     "execution_count": 40,
     "metadata": {},
     "output_type": "execute_result"
    }
   ],
   "source": [
    "# a)\n",
    "\n",
    "cars = pd.read_csv('cars.csv')\n",
    "cars.head()"
   ]
  },
  {
   "cell_type": "code",
   "execution_count": 42,
   "metadata": {},
   "outputs": [
    {
     "name": "stdout",
     "output_type": "stream",
     "text": [
      "brand   chevrolet  dodge  ford  gmc  hyundai  kia  nissan\n",
      "color                                                    \n",
      "black          60     80   300   14        0    3      87\n",
      "blue           16     24    76    3        2    2      36\n",
      "color:          0      0     4    0        0    0       0\n",
      "gray           81    158   395   10        6    7     117\n",
      "green           3      4    15    0        0    0       2\n",
      "red            26     54   132    2        4    1      20\n",
      "white         106    111   442   12        3    0      50\n",
      "yellow          5      1    24    1        0    0       0\n"
     ]
    },
    {
     "data": {
      "text/plain": [
       "'p-value = 6.161657933566457e-08'"
      ]
     },
     "metadata": {},
     "output_type": "display_data"
    },
    {
     "data": {
      "text/plain": [
       "'degrees of freedom = 42'"
      ]
     },
     "metadata": {},
     "output_type": "display_data"
    },
    {
     "name": "stdout",
     "output_type": "stream",
     "text": [
      "The null can be rejected that they are independent for significant level\n"
     ]
    }
   ],
   "source": [
    "data_crosstab = pd.crosstab(cars['color'], cars['brand'], margins = False) \n",
    "print(data_crosstab)\n",
    "chi2_stat, p_val, dof, ex2 = stats.chi2_contingency(data_crosstab, correction=False)\n",
    "display(\"p-value = \"+str(p_val), \"degrees of freedom = \"+str(dof))\n",
    "print('The null cant be rejected that they are independent for significant level')"
   ]
  },
  {
   "cell_type": "code",
   "execution_count": 43,
   "metadata": {},
   "outputs": [
    {
     "name": "stdout",
     "output_type": "stream",
     "text": [
      "state   alabama  arizona  arkansas  california  colorado  connecticut  \\\n",
      "color                                                                   \n",
      "black         5        5         3          34         3            6   \n",
      "blue          2        2         2          12         2            3   \n",
      "color:        0        0         0           1         0            0   \n",
      "gray          6       13         0          70         5            8   \n",
      "green         0        1         0           2         0            0   \n",
      "red           1        2         2          14         2            3   \n",
      "white         3       10         4          53         9            4   \n",
      "yellow        0        0         1           4         0            1   \n",
      "\n",
      "state   florida  georgia  idaho  illinois  ...  south carolina  tennessee  \\\n",
      "color                                      ...                              \n",
      "black        64        9      0        32  ...              10          8   \n",
      "blue         18        0      0         5  ...               2          2   \n",
      "color:        0        1      0         0  ...               0          0   \n",
      "gray         78       12      0        33  ...              28          7   \n",
      "green         1        2      0         1  ...               0          0   \n",
      "red          20        8      0        17  ...               2          3   \n",
      "white        59       18      2        24  ...              20          6   \n",
      "yellow        6        1      0         1  ...               2          0   \n",
      "\n",
      "state   texas  utah  vermont  virginia  washington  west virginia  wisconsin  \\\n",
      "color                                                                          \n",
      "black      31     1        1        27           2              2         10   \n",
      "blue       13     0        0         5           2              0          7   \n",
      "color:      0     0        0         0           0              0          0   \n",
      "gray       60     3        0        33           4              5         34   \n",
      "green       1     0        0         3           0              0          2   \n",
      "red        11     1        1         5           0              4         13   \n",
      "white      95     5        0        17           6              9         27   \n",
      "yellow      3     0        0         0           0              1          1   \n",
      "\n",
      "state   wyoming  \n",
      "color            \n",
      "black         0  \n",
      "blue          0  \n",
      "color:        0  \n",
      "gray          0  \n",
      "green         0  \n",
      "red           0  \n",
      "white         1  \n",
      "yellow        0  \n",
      "\n",
      "[8 rows x 44 columns]\n"
     ]
    },
    {
     "data": {
      "text/plain": [
       "'p-value = 0.00023322654470791487'"
      ]
     },
     "metadata": {},
     "output_type": "display_data"
    },
    {
     "data": {
      "text/plain": [
       "'degrees of freedom = 301'"
      ]
     },
     "metadata": {},
     "output_type": "display_data"
    },
    {
     "name": "stdout",
     "output_type": "stream",
     "text": [
      "The null can be rejected that they are independent for significant level\n"
     ]
    }
   ],
   "source": [
    "# b)\n",
    "\n",
    "data_crosstab = pd.crosstab(cars['color'], cars['state'], margins = False) \n",
    "print(data_crosstab)\n",
    "chi2_stat, p_val, dof, ex2 = stats.chi2_contingency(data_crosstab, correction=False)\n",
    "display(\"p-value = \"+str(p_val), \"degrees of freedom = \"+str(dof))\n",
    "print('The null can be rejected that they are independent for significant level')"
   ]
  },
  {
   "cell_type": "code",
   "execution_count": 45,
   "metadata": {},
   "outputs": [
    {
     "name": "stdout",
     "output_type": "stream",
     "text": [
      "state      alabama  arizona  arkansas  california  colorado  connecticut  \\\n",
      "brand                                                                      \n",
      "chevrolet        0        1         3          14         6            0   \n",
      "dodge            2       10         0          32         4            2   \n",
      "ford            11        6         8          84        10           11   \n",
      "gmc              0        0         1          17         1            0   \n",
      "hyundai          0        0         0           1         0            2   \n",
      "kia              0        0         0           2         0            4   \n",
      "nissan           4       16         0          40         0            6   \n",
      "\n",
      "state      florida  georgia  idaho  illinois  ...  south carolina  tennessee  \\\n",
      "brand                                         ...                              \n",
      "chevrolet       21       14      0         8  ...               1          4   \n",
      "dodge           36       13      0        27  ...               8          2   \n",
      "ford           113       21      2        70  ...              47         12   \n",
      "gmc              0        0      0         0  ...               1          0   \n",
      "hyundai          2        0      0         0  ...               0          0   \n",
      "kia              0        0      0         0  ...               0          0   \n",
      "nissan          74        3      0         8  ...               7          8   \n",
      "\n",
      "state      texas  utah  vermont  virginia  washington  west virginia  \\\n",
      "brand                                                                  \n",
      "chevrolet     29     0        0         1           8             11   \n",
      "dodge         29     2        0         9           4              3   \n",
      "ford         147     2        0        62           2              7   \n",
      "gmc            0     6        0        10           0              0   \n",
      "hyundai        0     0        0         0           0              0   \n",
      "kia            0     0        0         0           0              0   \n",
      "nissan         9     0        2         8           0              0   \n",
      "\n",
      "state      wisconsin  wyoming  \n",
      "brand                          \n",
      "chevrolet         25        1  \n",
      "dodge             13        0  \n",
      "ford              51        0  \n",
      "gmc                0        0  \n",
      "hyundai            0        0  \n",
      "kia                0        0  \n",
      "nissan             5        0  \n",
      "\n",
      "[7 rows x 44 columns]\n"
     ]
    },
    {
     "data": {
      "text/plain": [
       "'p-value = 4.362063685944677e-198'"
      ]
     },
     "metadata": {},
     "output_type": "display_data"
    },
    {
     "data": {
      "text/plain": [
       "'degrees of freedom = 258'"
      ]
     },
     "metadata": {},
     "output_type": "display_data"
    },
    {
     "name": "stdout",
     "output_type": "stream",
     "text": [
      "The null cant be rejected that they are independent for significant level\n"
     ]
    }
   ],
   "source": [
    "# c)\n",
    "\n",
    "data_crosstab = pd.crosstab(cars['brand'], cars['state'], margins = False) \n",
    "print(data_crosstab)\n",
    "chi2_stat, p_val, dof, ex2 = stats.chi2_contingency(data_crosstab, correction=False)\n",
    "display(\"p-value = \"+str(p_val), \"degrees of freedom = \"+str(dof))\n",
    "print('The null cant be rejected that they are independent for significant level')"
   ]
  },
  {
   "cell_type": "markdown",
   "metadata": {},
   "source": [
    "Assignment 6 (10%)\n",
    "=="
   ]
  },
  {
   "cell_type": "code",
   "execution_count": 46,
   "metadata": {},
   "outputs": [
    {
     "data": {
      "text/plain": [
       "0         (-0.001, 8000.0]\n",
       "1         (-0.001, 8000.0]\n",
       "2         (-0.001, 8000.0]\n",
       "3       (20191.8, 27500.8]\n",
       "4       (27500.8, 84900.0]\n",
       "               ...        \n",
       "2494      (-0.001, 8000.0]\n",
       "2495     (8000.0, 14700.0]\n",
       "2496     (8000.0, 14700.0]\n",
       "2497     (8000.0, 14700.0]\n",
       "2498     (8000.0, 14700.0]\n",
       "Name: price, Length: 2499, dtype: category\n",
       "Categories (5, interval[float64]): [(-0.001, 8000.0] < (8000.0, 14700.0] < (14700.0, 20191.8] < (20191.8, 27500.8] < (27500.8, 84900.0]]"
      ]
     },
     "execution_count": 46,
     "metadata": {},
     "output_type": "execute_result"
    }
   ],
   "source": [
    "# a)\n"
   ]
  },
  {
   "cell_type": "code",
   "execution_count": 27,
   "metadata": {},
   "outputs": [],
   "source": [
    "# b)\n"
   ]
  },
  {
   "cell_type": "markdown",
   "metadata": {},
   "source": [
    "Assignment 7 (10%)\n",
    "=="
   ]
  },
  {
   "cell_type": "code",
   "execution_count": null,
   "metadata": {},
   "outputs": [],
   "source": []
  }
 ],
 "metadata": {
  "kernelspec": {
   "display_name": "Python 3",
   "language": "python",
   "name": "python3"
  },
  "language_info": {
   "codemirror_mode": {
    "name": "ipython",
    "version": 3
   },
   "file_extension": ".py",
   "mimetype": "text/x-python",
   "name": "python",
   "nbconvert_exporter": "python",
   "pygments_lexer": "ipython3",
   "version": "3.7.4"
  }
 },
 "nbformat": 4,
 "nbformat_minor": 2
}
