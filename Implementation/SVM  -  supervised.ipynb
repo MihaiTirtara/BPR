{
 "cells": [
  {
   "cell_type": "code",
   "execution_count": 1,
   "outputs": [],
   "source": [
    "##imports \n",
    "\n",
    "import cv2 \n",
    "import pytesseract\n",
    "import pandas as pd\n",
    "\n",
    "from sklearn.feature_extraction.text import TfidfVectorizer\n",
    "from sklearn.cluster import KMeans\n",
    "from sklearn.metrics import adjusted_rand_score\n",
    "from sklearn.metrics import confusion_matrix"
   ],
   "metadata": {
    "collapsed": false,
    "pycharm": {
     "name": "#%%\n",
     "is_executing": false
    }
   }
  },
  {
   "cell_type": "code",
   "execution_count": 2,
   "outputs": [],
   "source": [
    "##OCR\n",
    "pytesseract.pytesseract.tesseract_cmd = r\"C:\\Program Files\\Tesseract-OCR\\tesseract.exe\"\n",
    "\n",
    "# Adding custom options\n",
    "custom_config = r'--oem 3 --psm 6'"
   ],
   "metadata": {
    "collapsed": false,
    "pycharm": {
     "name": "#%%\n",
     "is_executing": false
    }
   }
  },
  {
   "cell_type": "code",
   "execution_count": 3,
   "outputs": [],
   "source": [
    "##testing purposes\n",
    "trainingData = pd.read_csv(\"train-data.csv\") \n",
    "testingData  = pd.read_csv(\"test.csv\") "
   ],
   "metadata": {
    "collapsed": false,
    "pycharm": {
     "name": "#%%\n",
     "is_executing": false
    }
   }
  },
  {
   "cell_type": "code",
   "execution_count": null,
   "outputs": [],
   "source": [
    "## PREPROCESSING - BEGIN\n",
    "trainingDataTBA = trainingData\n"
   ],
   "metadata": {
    "collapsed": false,
    "pycharm": {
     "name": "#%%\n"
    }
   }
  },
  {
   "cell_type": "code",
   "execution_count": null,
   "outputs": [],
   "source": [
    "trainingDataTBA.head(10)    "
   ],
   "metadata": {
    "collapsed": false,
    "pycharm": {
     "name": "#%%\n"
    }
   }
  },
  {
   "cell_type": "code",
   "execution_count": null,
   "outputs": [],
   "source": [
    "trainingDataTBA['OCR text']=trainingDataTBA['OCR text'].str.replace('\\n',\" \")\n",
    "trainingDataTBA['OCR text']=trainingDataTBA['OCR text'].str.replace('.',\" \")\n",
    "trainingDataTBA['OCR text']=trainingDataTBA['OCR text'].str.replace(',',\" \")\n",
    "trainingDataTBA['OCR text']=trainingDataTBA['OCR text'].str.replace('@',\" \")\n",
    "trainingDataTBA['OCR text']=trainingDataTBA['OCR text'].str.replace(';',\" \")\n",
    "trainingDataTBA['OCR text']=trainingDataTBA['OCR text'].str.replace('/',\" \")\n",
    "trainingDataTBA['OCR text']=trainingDataTBA['OCR text'].str.replace('',\" \")"
   ],
   "metadata": {
    "collapsed": false,
    "pycharm": {
     "name": "#%%\n"
    }
   }
  },
  {
   "cell_type": "code",
   "execution_count": null,
   "outputs": [],
   "source": [
    "trainingData = trainingDataTBA"
   ],
   "metadata": {
    "collapsed": false,
    "pycharm": {
     "name": "#%%\n"
    }
   }
  },
  {
   "cell_type": "code",
   "execution_count": null,
   "outputs": [],
   "source": [
    "trainingData.head(10)    \n",
    "\n",
    "## PREPROCESSING - END\n"
   ],
   "metadata": {
    "collapsed": false,
    "pycharm": {
     "name": "#%%\n"
    }
   }
  },
  {
   "cell_type": "code",
   "execution_count": 4,
   "outputs": [],
   "source": [
    "##batch size (started with a small no. to train the algorithm on)\n",
    "test_var = 320000"
   ],
   "metadata": {
    "collapsed": false,
    "pycharm": {
     "name": "#%%\n",
     "is_executing": false
    }
   }
  },
  {
   "cell_type": "code",
   "execution_count": 5,
   "outputs": [],
   "source": [
    "##vectorizing the data\n",
    "vectorizer = TfidfVectorizer(stop_words='english')\n",
    "X = vectorizer.fit_transform(trainingData[:test_var]['OCR text'])"
   ],
   "metadata": {
    "collapsed": false,
    "pycharm": {
     "name": "#%%\n",
     "is_executing": false
    }
   }
  },
  {
   "cell_type": "code",
   "execution_count": 10,
   "outputs": [],
   "source": [
    "y = trainingData[:test_var][\"Label\"]"
   ],
   "metadata": {
    "collapsed": false,
    "pycharm": {
     "name": "#%%\n",
     "is_executing": false
    }
   }
  },
  {
   "cell_type": "code",
   "execution_count": 10,
   "outputs": [
    {
     "name": "stdout",
     "text": [
      "  (0, 1023804)\t0.17356085231708732\n",
      "  (0, 3902906)\t0.11006352215199676\n",
      "  (0, 1994521)\t0.17368667202763452\n",
      "  (0, 1105205)\t0.10576162854433116\n",
      "  (0, 486789)\t0.2621773100694327\n",
      "  (0, 613354)\t0.2228816039914777\n",
      "  (0, 615186)\t0.20749094914032148\n",
      "  (0, 3269928)\t0.12909278246115696\n",
      "  (0, 1565801)\t0.10914941928698993\n",
      "  (0, 2774797)\t0.0990143902998192\n",
      "  (0, 3522610)\t0.10883672516232283\n",
      "  (0, 2869639)\t0.09994235132014762\n",
      "  (0, 3269883)\t0.22967632373744243\n",
      "  (0, 1154145)\t0.1358293341451583\n",
      "  (0, 640366)\t0.16160764306247738\n",
      "  (0, 3387834)\t0.07002938197734061\n",
      "  (0, 1271309)\t0.08842233560437013\n",
      "  (0, 1111183)\t0.11582977767520121\n",
      "  (0, 3280571)\t0.24496235065522273\n",
      "  (0, 346899)\t0.2119889565398721\n",
      "  (0, 3387681)\t0.08155898259578934\n",
      "  (0, 2918596)\t0.21840229149025575\n",
      "  (0, 785441)\t0.2460772720436303\n",
      "  (0, 362384)\t0.22574311148663473\n",
      "  (0, 2169322)\t0.2748617352756527\n",
      "  :\t:\n",
      "  (319999, 1347754)\t0.3541882361429565\n",
      "  (319999, 2597553)\t0.3541882361429565\n",
      "  (319999, 378591)\t0.2831840859748654\n",
      "  (319999, 2302984)\t0.2067974356654456\n",
      "  (319999, 2088291)\t0.2711304173153051\n",
      "  (319999, 3218725)\t0.2812346092324707\n",
      "  (319999, 3956097)\t0.20760813272067935\n",
      "  (319999, 2087511)\t0.21320953220102493\n",
      "  (319999, 1679785)\t0.21633547953238477\n",
      "  (319999, 3935682)\t0.16295176622523533\n",
      "  (319999, 1605668)\t0.18544994920128394\n",
      "  (319999, 710318)\t0.16844544253977958\n",
      "  (319999, 1569350)\t0.18421405796972004\n",
      "  (319999, 505415)\t0.134717876492383\n",
      "  (319999, 2076398)\t0.18764296651526743\n",
      "  (319999, 1183575)\t0.13764818989055105\n",
      "  (319999, 1507990)\t0.17204746369773044\n",
      "  (319999, 1232892)\t0.10145192297882559\n",
      "  (319999, 1666215)\t0.13265802949166858\n",
      "  (319999, 2521103)\t0.07994678356596956\n",
      "  (319999, 1501016)\t0.07837627825524188\n",
      "  (319999, 2607641)\t0.09854631338245302\n",
      "  (319999, 2062627)\t0.15150298459399858\n",
      "  (319999, 1292268)\t0.18533779666341216\n",
      "  (319999, 3337010)\t0.07468933135107854\n"
     ],
     "output_type": "stream"
    }
   ],
   "source": [
    "print(X)\n"
   ],
   "metadata": {
    "collapsed": false,
    "pycharm": {
     "name": "#%%\n",
     "is_executing": false
    }
   }
  },
  {
   "cell_type": "code",
   "execution_count": null,
   "outputs": [],
   "source": [
    "print(vectorizer.get_feature_names())"
   ],
   "metadata": {
    "collapsed": false,
    "pycharm": {
     "name": "#%%\n",
     "is_executing": true
    }
   }
  },
  {
   "cell_type": "code",
   "execution_count": 11,
   "outputs": [
    {
     "name": "stdout",
     "text": [
      "(320000, 3963685)\n"
     ],
     "output_type": "stream"
    }
   ],
   "source": [
    "print(X.shape)"
   ],
   "metadata": {
    "collapsed": false,
    "pycharm": {
     "name": "#%%\n",
     "is_executing": false
    }
   }
  },
  {
   "cell_type": "code",
   "execution_count": 20,
   "outputs": [],
   "source": [
    "##Creating pipelines for SVM\n",
    "\n",
    "from sklearn.pipeline import Pipeline\n",
    "from sklearn.linear_model import SGDClassifier\n",
    "mnb_pipeline = Pipeline([\n",
    "    ('svm', SGDClassifier(max_iter=320000))\n",
    "])"
   ],
   "metadata": {
    "collapsed": false,
    "pycharm": {
     "name": "#%%\n",
     "is_executing": false
    }
   }
  },
  {
   "cell_type": "code",
   "execution_count": null,
   "outputs": [
    {
     "name": "stdout",
     "text": [
      "Fitting 5 folds for each of 48 candidates, totalling 240 fits\n",
      "[CV] svm__alpha=0.0001, svm__loss=hinge, svm__penalty=l2 .............\n",
      "[CV]  svm__alpha=0.0001, svm__loss=hinge, svm__penalty=l2, score=0.722, total=  31.2s\n",
      "[CV] svm__alpha=0.0001, svm__loss=hinge, svm__penalty=l2 .............\n",
      "[CV]  svm__alpha=0.0001, svm__loss=hinge, svm__penalty=l2, score=0.724, total=  33.3s\n",
      "[CV] svm__alpha=0.0001, svm__loss=hinge, svm__penalty=l2 .............\n",
      "[CV]  svm__alpha=0.0001, svm__loss=hinge, svm__penalty=l2, score=0.725, total=  31.6s\n",
      "[CV] svm__alpha=0.0001, svm__loss=hinge, svm__penalty=l2 .............\n",
      "[CV]  svm__alpha=0.0001, svm__loss=hinge, svm__penalty=l2, score=0.725, total=  32.2s\n",
      "[CV] svm__alpha=0.0001, svm__loss=hinge, svm__penalty=l2 .............\n",
      "[CV]  svm__alpha=0.0001, svm__loss=hinge, svm__penalty=l2, score=0.726, total=  30.1s\n",
      "[CV] svm__alpha=0.0001, svm__loss=hinge, svm__penalty=l1 .............\n",
      "[CV]  svm__alpha=0.0001, svm__loss=hinge, svm__penalty=l1, score=0.560, total= 1.1min\n",
      "[CV] svm__alpha=0.0001, svm__loss=hinge, svm__penalty=l1 .............\n",
      "[CV]  svm__alpha=0.0001, svm__loss=hinge, svm__penalty=l1, score=0.538, total= 1.1min\n",
      "[CV] svm__alpha=0.0001, svm__loss=hinge, svm__penalty=l1 .............\n",
      "[CV]  svm__alpha=0.0001, svm__loss=hinge, svm__penalty=l1, score=0.562, total= 1.1min\n",
      "[CV] svm__alpha=0.0001, svm__loss=hinge, svm__penalty=l1 .............\n",
      "[CV]  svm__alpha=0.0001, svm__loss=hinge, svm__penalty=l1, score=0.560, total= 1.2min\n",
      "[CV] svm__alpha=0.0001, svm__loss=hinge, svm__penalty=l1 .............\n",
      "[CV]  svm__alpha=0.0001, svm__loss=hinge, svm__penalty=l1, score=0.562, total= 1.1min\n",
      "[CV] svm__alpha=0.0001, svm__loss=hinge, svm__penalty=none ...........\n",
      "[CV]  svm__alpha=0.0001, svm__loss=hinge, svm__penalty=none, score=0.744, total=  39.7s\n",
      "[CV] svm__alpha=0.0001, svm__loss=hinge, svm__penalty=none ...........\n",
      "[CV]  svm__alpha=0.0001, svm__loss=hinge, svm__penalty=none, score=0.744, total=  39.5s\n",
      "[CV] svm__alpha=0.0001, svm__loss=hinge, svm__penalty=none ...........\n",
      "[CV]  svm__alpha=0.0001, svm__loss=hinge, svm__penalty=none, score=0.745, total=  50.8s\n",
      "[CV] svm__alpha=0.0001, svm__loss=hinge, svm__penalty=none ...........\n",
      "[CV]  svm__alpha=0.0001, svm__loss=hinge, svm__penalty=none, score=0.746, total=  42.5s\n",
      "[CV] svm__alpha=0.0001, svm__loss=hinge, svm__penalty=none ...........\n",
      "[CV]  svm__alpha=0.0001, svm__loss=hinge, svm__penalty=none, score=0.747, total=  39.8s\n",
      "[CV] svm__alpha=0.0001, svm__loss=log, svm__penalty=l2 ...............\n",
      "[CV]  svm__alpha=0.0001, svm__loss=log, svm__penalty=l2, score=0.664, total=  35.5s\n",
      "[CV] svm__alpha=0.0001, svm__loss=log, svm__penalty=l2 ...............\n",
      "[CV]  svm__alpha=0.0001, svm__loss=log, svm__penalty=l2, score=0.665, total=  36.3s\n",
      "[CV] svm__alpha=0.0001, svm__loss=log, svm__penalty=l2 ...............\n",
      "[CV]  svm__alpha=0.0001, svm__loss=log, svm__penalty=l2, score=0.668, total=  36.3s\n",
      "[CV] svm__alpha=0.0001, svm__loss=log, svm__penalty=l2 ...............\n",
      "[CV]  svm__alpha=0.0001, svm__loss=log, svm__penalty=l2, score=0.667, total=  39.2s\n",
      "[CV] svm__alpha=0.0001, svm__loss=log, svm__penalty=l2 ...............\n",
      "[CV]  svm__alpha=0.0001, svm__loss=log, svm__penalty=l2, score=0.668, total=  36.9s\n",
      "[CV] svm__alpha=0.0001, svm__loss=log, svm__penalty=l1 ...............\n",
      "[CV]  svm__alpha=0.0001, svm__loss=log, svm__penalty=l1, score=0.582, total= 1.6min\n",
      "[CV] svm__alpha=0.0001, svm__loss=log, svm__penalty=l1 ...............\n",
      "[CV]  svm__alpha=0.0001, svm__loss=log, svm__penalty=l1, score=0.582, total= 1.5min\n",
      "[CV] svm__alpha=0.0001, svm__loss=log, svm__penalty=l1 ...............\n",
      "[CV]  svm__alpha=0.0001, svm__loss=log, svm__penalty=l1, score=0.585, total= 1.5min\n",
      "[CV] svm__alpha=0.0001, svm__loss=log, svm__penalty=l1 ...............\n",
      "[CV]  svm__alpha=0.0001, svm__loss=log, svm__penalty=l1, score=0.581, total= 1.5min\n",
      "[CV] svm__alpha=0.0001, svm__loss=log, svm__penalty=l1 ...............\n",
      "[CV]  svm__alpha=0.0001, svm__loss=log, svm__penalty=l1, score=0.585, total= 1.5min\n",
      "[CV] svm__alpha=0.0001, svm__loss=log, svm__penalty=none .............\n",
      "[CV]  svm__alpha=0.0001, svm__loss=log, svm__penalty=none, score=0.730, total=  44.7s\n",
      "[CV] svm__alpha=0.0001, svm__loss=log, svm__penalty=none .............\n",
      "[CV]  svm__alpha=0.0001, svm__loss=log, svm__penalty=none, score=0.729, total=  44.6s\n",
      "[CV] svm__alpha=0.0001, svm__loss=log, svm__penalty=none .............\n",
      "[CV]  svm__alpha=0.0001, svm__loss=log, svm__penalty=none, score=0.732, total=  46.0s\n",
      "[CV] svm__alpha=0.0001, svm__loss=log, svm__penalty=none .............\n",
      "[CV]  svm__alpha=0.0001, svm__loss=log, svm__penalty=none, score=0.730, total=  44.4s\n",
      "[CV] svm__alpha=0.0001, svm__loss=log, svm__penalty=none .............\n",
      "[CV]  svm__alpha=0.0001, svm__loss=log, svm__penalty=none, score=0.731, total=  44.9s\n",
      "[CV] svm__alpha=0.0001, svm__loss=squared_hinge, svm__penalty=l2 .....\n",
      "[CV]  svm__alpha=0.0001, svm__loss=squared_hinge, svm__penalty=l2, score=0.745, total= 2.3min\n",
      "[CV] svm__alpha=0.0001, svm__loss=squared_hinge, svm__penalty=l2 .....\n",
      "[CV]  svm__alpha=0.0001, svm__loss=squared_hinge, svm__penalty=l2, score=0.733, total= 2.5min\n",
      "[CV] svm__alpha=0.0001, svm__loss=squared_hinge, svm__penalty=l2 .....\n",
      "[CV]  svm__alpha=0.0001, svm__loss=squared_hinge, svm__penalty=l2, score=0.739, total=  58.8s\n",
      "[CV] svm__alpha=0.0001, svm__loss=squared_hinge, svm__penalty=l2 .....\n",
      "[CV]  svm__alpha=0.0001, svm__loss=squared_hinge, svm__penalty=l2, score=0.744, total=  46.9s\n",
      "[CV] svm__alpha=0.0001, svm__loss=squared_hinge, svm__penalty=l2 .....\n",
      "[CV]  svm__alpha=0.0001, svm__loss=squared_hinge, svm__penalty=l2, score=0.746, total=  39.2s\n",
      "[CV] svm__alpha=0.0001, svm__loss=squared_hinge, svm__penalty=l1 .....\n"
     ],
     "output_type": "stream"
    },
    {
     "name": "stderr",
     "text": [
      "[Parallel(n_jobs=1)]: Using backend SequentialBackend with 1 concurrent workers.\n",
      "[Parallel(n_jobs=1)]: Done   1 out of   1 | elapsed:   31.2s remaining:    0.0s\n",
      "[Parallel(n_jobs=1)]: Done   2 out of   2 | elapsed:  1.1min remaining:    0.0s\n",
      "[Parallel(n_jobs=1)]: Done   3 out of   3 | elapsed:  1.6min remaining:    0.0s\n",
      "[Parallel(n_jobs=1)]: Done   4 out of   4 | elapsed:  2.1min remaining:    0.0s\n",
      "[Parallel(n_jobs=1)]: Done   5 out of   5 | elapsed:  2.6min remaining:    0.0s\n",
      "[Parallel(n_jobs=1)]: Done   6 out of   6 | elapsed:  3.8min remaining:    0.0s\n",
      "[Parallel(n_jobs=1)]: Done   7 out of   7 | elapsed:  4.9min remaining:    0.0s\n",
      "[Parallel(n_jobs=1)]: Done   8 out of   8 | elapsed:  6.0min remaining:    0.0s\n",
      "[Parallel(n_jobs=1)]: Done   9 out of   9 | elapsed:  7.2min remaining:    0.0s\n"
     ],
     "output_type": "stream"
    }
   ],
   "source": [
    "##Listing the testing tuning parameters\n",
    "\n",
    "import numpy as np\n",
    "from sklearn.model_selection import GridSearchCV\n",
    "grid_params = {    \n",
    "    \"svm__loss\" : [\"hinge\", \"log\", \"squared_hinge\", \"modified_huber\"],\n",
    "    \"svm__alpha\" : [0.0001, 0.001, 0.01, 0.1],\n",
    "    \"svm__penalty\" : [\"l2\", \"l1\", \"none\"],\n",
    "}\n",
    "clf = GridSearchCV(mnb_pipeline, grid_params,verbose=10)\n",
    "clf.fit(X, y)\n",
    "print(\"Best Score: \", clf.best_score_)\n",
    "print(\"Best Params: \", clf.best_params_)\n"
   ],
   "metadata": {
    "collapsed": false,
    "pycharm": {
     "name": "#%%\n",
     "is_executing": true
    }
   }
  },
  {
   "cell_type": "code",
   "execution_count": 13,
   "outputs": [
    {
     "data": {
      "text/plain": "SGDClassifier(alpha=0.0001, average=False, class_weight=None,\n              early_stopping=False, epsilon=0.1, eta0=0.0, fit_intercept=True,\n              l1_ratio=0.15, learning_rate='optimal', loss='hinge',\n              max_iter=1000, n_iter_no_change=5, n_jobs=None, penalty='none',\n              power_t=0.5, random_state=None, shuffle=True, tol=0.001,\n              validation_fraction=0.1, verbose=0, warm_start=False)"
     },
     "metadata": {},
     "output_type": "execute_result",
     "execution_count": 13
    }
   ],
   "source": [
    "##Fiting the data and training it - modify tuning parameters here based on the pipelines\n",
    "from sklearn.linear_model import SGDClassifier\n",
    "\n",
    "clf = SGDClassifier(alpha=0.0001, loss='hinge', penalty='none')\n",
    "\n",
    "clf.fit(X, y)"
   ],
   "metadata": {
    "collapsed": false,
    "pycharm": {
     "name": "#%%\n",
     "is_executing": false
    }
   }
  },
  {
   "cell_type": "code",
   "execution_count": 14,
   "outputs": [
    {
     "name": "stderr",
     "text": [
      "100%|██████████| 40000/40000 [00:00<00:00, 1110044.73it/s]\n"
     ],
     "output_type": "stream"
    },
    {
     "name": "stdout",
     "text": [
      "0.752525\n",
      "     0\n",
      "11  11\n",
      "0    0\n",
      "0    0\n",
      "9    4\n",
      "14  14\n",
      "..  ..\n",
      "14  10\n",
      "11  11\n",
      "12  15\n",
      "9    9\n",
      "15  15\n",
      "\n",
      "[40000 rows x 1 columns]\n"
     ],
     "output_type": "stream"
    }
   ],
   "source": [
    "##Testing data based on the fitted model\n",
    "\n",
    "from tqdm import tqdm\n",
    "\n",
    "#Prediction and accuracy\n",
    "from sklearn.metrics import accuracy_score\n",
    "documents1 = testingData[:][\"OCR text\"]\n",
    "y_true = testingData[:]['Label']\n",
    "input = vectorizer.transform(documents1)\n",
    "prediction1= clf.predict(input)\n",
    "\n",
    "dataframe = pd.DataFrame(list(y_true),prediction1)\n",
    "index = 0\n",
    "count = 0\n",
    "for i in tqdm(list(y_true)):\n",
    "    if i == prediction1[index]:\n",
    "        count += 1\n",
    "    index+=1\n",
    "    \n",
    "    \n",
    "print(\"Accuracy:\",accuracy_score(list(y_true),prediction1))\n",
    "print(dataframe)"
   ],
   "metadata": {
    "collapsed": false,
    "pycharm": {
     "name": "#%%",
     "is_executing": false
    }
   }
  },
  {
   "cell_type": "code",
   "execution_count": null,
   "outputs": [],
   "source": [],
   "metadata": {
    "collapsed": false,
    "pycharm": {
     "name": "#%%",
     "is_executing": true
    }
   }
  }
 ],
 "metadata": {
  "accelerator": "GPU",
  "colab": {
   "collapsed_sections": [],
   "name": "document_classification_resub.ipynb",
   "provenance": []
  },
  "kernelspec": {
   "name": "pycharm-46268e0c",
   "language": "python",
   "display_name": "PyCharm (sem6)"
  },
  "language_info": {
   "codemirror_mode": {
    "name": "ipython",
    "version": 3
   },
   "file_extension": ".py",
   "mimetype": "text/x-python",
   "name": "python",
   "nbconvert_exporter": "python",
   "pygments_lexer": "ipython3",
   "version": "3.7.6"
  },
  "pycharm": {
   "stem_cell": {
    "cell_type": "raw",
    "source": [],
    "metadata": {
     "collapsed": false
    }
   }
  }
 },
 "nbformat": 4,
 "nbformat_minor": 1
}