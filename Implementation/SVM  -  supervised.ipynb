{
 "cells": [
  {
   "cell_type": "code",
   "execution_count": 18,
   "metadata": {
    "pycharm": {
     "is_executing": false,
     "name": "#%%\n"
    }
   },
   "outputs": [],
   "source": [
    "##imports \n",
    "\n",
    "import cv2 \n",
    "import pytesseract\n",
    "import pandas as pd\n",
    "import joblib\n",
    "import numpy as np\n",
    "\n",
    "from sklearn.feature_extraction.text import TfidfVectorizer\n",
    "from sklearn.cluster import KMeans\n",
    "from sklearn.metrics import adjusted_rand_score\n",
    "from sklearn.metrics import confusion_matrix"
   ]
  },
  {
   "cell_type": "code",
   "execution_count": 2,
   "metadata": {
    "pycharm": {
     "is_executing": false,
     "name": "#%%\n"
    }
   },
   "outputs": [],
   "source": [
    "##OCR\n",
    "pytesseract.pytesseract.tesseract_cmd = r\"C:\\Program Files\\Tesseract-OCR\\tesseract.exe\"\n",
    "\n",
    "# Adding custom options\n",
    "custom_config = r'--oem 3 --psm 6'"
   ]
  },
  {
   "cell_type": "code",
   "execution_count": 3,
   "metadata": {
    "pycharm": {
     "is_executing": false,
     "name": "#%%\n"
    }
   },
   "outputs": [],
   "source": [
    "##testing purposes\n",
    "trainingData = pd.read_csv(\"train-data.csv\") \n",
    "testingData  = pd.read_csv(\"test.csv\") "
   ]
  },
  {
   "cell_type": "code",
   "execution_count": 6,
   "metadata": {
    "pycharm": {
     "is_executing": false,
     "name": "#%%\n"
    }
   },
   "outputs": [],
   "source": [
    "##batch size (started with a small no. to train the algorithm on)\n",
    "test_var = 320000"
   ]
  },
  {
   "cell_type": "code",
   "execution_count": 33,
   "metadata": {
    "pycharm": {
     "is_executing": false,
     "name": "#%%\n"
    }
   },
   "outputs": [],
   "source": [
    "##vectorizing the data\n",
    "vectorizer = TfidfVectorizer(stop_words='english')\n",
    "X = vectorizer.fit_transform(trainingData[:test_var]['OCR text'])\n",
    "#vector = joblib.dump(vectorizer,'vectorizer.joblib')"
   ]
  },
  {
   "cell_type": "code",
   "execution_count": 8,
   "metadata": {
    "pycharm": {
     "is_executing": false,
     "name": "#%%\n"
    }
   },
   "outputs": [],
   "source": [
    "y = trainingData[:test_var][\"Label\"]"
   ]
  },
  {
   "cell_type": "code",
   "execution_count": 9,
   "metadata": {
    "pycharm": {
     "is_executing": false,
     "name": "#%%\n"
    }
   },
   "outputs": [
    {
     "name": "stdout",
     "output_type": "stream",
     "text": [
      "  (0, 1023804)\t0.17356085231708732\n",
      "  (0, 3902906)\t0.11006352215199676\n",
      "  (0, 1994521)\t0.17368667202763452\n",
      "  (0, 1105205)\t0.10576162854433116\n",
      "  (0, 486789)\t0.2621773100694327\n",
      "  (0, 613354)\t0.2228816039914777\n",
      "  (0, 615186)\t0.20749094914032148\n",
      "  (0, 3269928)\t0.12909278246115696\n",
      "  (0, 1565801)\t0.10914941928698993\n",
      "  (0, 2774797)\t0.0990143902998192\n",
      "  (0, 3522610)\t0.10883672516232283\n",
      "  (0, 2869639)\t0.09994235132014762\n",
      "  (0, 3269883)\t0.22967632373744243\n",
      "  (0, 1154145)\t0.1358293341451583\n",
      "  (0, 640366)\t0.16160764306247738\n",
      "  (0, 3387834)\t0.07002938197734061\n",
      "  (0, 1271309)\t0.08842233560437013\n",
      "  (0, 1111183)\t0.11582977767520121\n",
      "  (0, 3280571)\t0.24496235065522273\n",
      "  (0, 346899)\t0.2119889565398721\n",
      "  (0, 3387681)\t0.08155898259578934\n",
      "  (0, 2918596)\t0.21840229149025575\n",
      "  (0, 785441)\t0.2460772720436303\n",
      "  (0, 362384)\t0.22574311148663473\n",
      "  (0, 2169322)\t0.2748617352756527\n",
      "  :\t:\n",
      "  (319999, 1347754)\t0.3541882361429565\n",
      "  (319999, 2597553)\t0.3541882361429565\n",
      "  (319999, 378591)\t0.2831840859748654\n",
      "  (319999, 2302984)\t0.2067974356654456\n",
      "  (319999, 2088291)\t0.2711304173153051\n",
      "  (319999, 3218725)\t0.2812346092324707\n",
      "  (319999, 3956097)\t0.20760813272067935\n",
      "  (319999, 2087511)\t0.21320953220102493\n",
      "  (319999, 1679785)\t0.21633547953238477\n",
      "  (319999, 3935682)\t0.16295176622523533\n",
      "  (319999, 1605668)\t0.18544994920128394\n",
      "  (319999, 710318)\t0.16844544253977958\n",
      "  (319999, 1569350)\t0.18421405796972004\n",
      "  (319999, 505415)\t0.134717876492383\n",
      "  (319999, 2076398)\t0.18764296651526743\n",
      "  (319999, 1183575)\t0.13764818989055105\n",
      "  (319999, 1507990)\t0.17204746369773044\n",
      "  (319999, 1232892)\t0.10145192297882559\n",
      "  (319999, 1666215)\t0.13265802949166858\n",
      "  (319999, 2521103)\t0.07994678356596956\n",
      "  (319999, 1501016)\t0.07837627825524188\n",
      "  (319999, 2607641)\t0.09854631338245302\n",
      "  (319999, 2062627)\t0.15150298459399858\n",
      "  (319999, 1292268)\t0.18533779666341216\n",
      "  (319999, 3337010)\t0.07468933135107854\n"
     ]
    }
   ],
   "source": [
    "\n",
    "print(X)"
   ]
  },
  {
   "cell_type": "code",
   "execution_count": 27,
   "metadata": {
    "pycharm": {
     "is_executing": false,
     "name": "#%%\n"
    }
   },
   "outputs": [
    {
     "name": "stderr",
     "output_type": "stream",
     "text": [
      "IOPub data rate exceeded.\n",
      "The notebook server will temporarily stop sending output\n",
      "to the client in order to avoid crashing it.\n",
      "To change this limit, set the config variable\n",
      "`--NotebookApp.iopub_data_rate_limit`.\n",
      "\n",
      "Current values:\n",
      "NotebookApp.iopub_data_rate_limit=1000000.0 (bytes/sec)\n",
      "NotebookApp.rate_limit_window=3.0 (secs)\n",
      "\n"
     ]
    }
   ],
   "source": [
    "print(vectorizer.get_feature_names())"
   ]
  },
  {
   "cell_type": "code",
   "execution_count": 10,
   "metadata": {
    "pycharm": {
     "is_executing": false,
     "name": "#%%\n"
    }
   },
   "outputs": [
    {
     "name": "stdout",
     "output_type": "stream",
     "text": [
      "(320000, 3963685)\n"
     ]
    }
   ],
   "source": [
    "print(X.shape)"
   ]
  },
  {
   "cell_type": "code",
   "execution_count": 11,
   "metadata": {
    "pycharm": {
     "is_executing": false,
     "name": "#%%\n"
    }
   },
   "outputs": [
    {
     "data": {
      "text/plain": [
       "['svm.joblib']"
      ]
     },
     "execution_count": 11,
     "metadata": {},
     "output_type": "execute_result"
    }
   ],
   "source": [
    "##Fiting the data and training it - modify tuning parameters here\n",
    "\n",
    "from sklearn.linear_model import SGDClassifier\n",
    "clf = SGDClassifier()\n",
    "\n",
    "#clf = SGDClassifier(max_iter=1000, tol=1e-3)\n",
    "\n",
    "model = clf.fit(X, y)\n",
    "#joblib.dump(model,\"svm.joblib\")"
   ]
  },
  {
   "cell_type": "code",
   "execution_count": 30,
   "metadata": {
    "pycharm": {
     "is_executing": false,
     "name": "#%%"
    }
   },
   "outputs": [
    {
     "name": "stdout",
     "output_type": "stream",
     "text": [
      "0        _ ESE egURae eeep eRe mnpe un tecereratana mat...\n",
      "1        F J.Reyniolds Tobaces Cory\\nBIE\\nRR\\nJanuary 2...\n",
      "2        @ MICROBIOLOGICAL\\nASSOCIATES INC.\\n—_—ess—ss ...\n",
      "3        . € : ¢\\ni\\n'\\n\\\\novacco roan (Chawwet Jo)\\nBr...\n",
      "4        L\\n\\nUna $. Ryan Professor of Medicine Decembe...\n",
      "                               ...                        \n",
      "39995    The Tobacco Institute\\nIndustry Support of Bio...\n",
      "39996    ‘a.counanes\\nDLSAmTA Cone. PHILIP MORRIS [ron ...\n",
      "39997    (B&W) PROTECTED ‘BY- MINNESOTA TOBACCO LITIGAT...\n",
      "39998    6.\\nTHE WASHINGTON STAR Saturday, August 3, 19...\n",
      "39999    . Ze. ww kobel\\n“ Gar Commacats\\noH rqpeert]\\n...\n",
      "Name: OCR text, Length: 40000, dtype: object\n",
      "['WORLD\\nANTI-DOPING\\nAGENCY\\n\\nplay true\\n\\nWADA Technical Document for Sport Specific Analysis\\n\\n \\n\\nVersion Number:3.0\\nWritten By: TDSSA Expert Group Approved By: WADA Executive Committee\\nDate: 19 November 2016 Effective Date: 1 January 2017\\n\\n \\n\\n \\n\\n \\n\\n \\n\\n \\n\\n \\n\\n \\n\\n \\n\\n1. Introduction\\n\\nAs part of WADAS move towards ensuring Anti-Doping Organizations (ADOs) implement more\\nintelligent and effective anti-doping programs, Article 5.4.1 of the 2015 World Anti-Doping Code\\n(WADC2015) states - “WADA, in consultation with International Federations and other Anti-\\nDoping Organizations, will adopt a Technical Document under the International Standard for\\nTesting and Investigations (ISTI) that establishes by means of a risk assessment which Prohibited\\nSubstances and/or Prohibited Methods are most likely to be abused in particular sports and sports\\ndisciplines. ”\\n\\nThis Technical Document for Sport Specific Analysis (TDSSA) is intended to ensure that the\\nProhibited Substances within the scope of the TDSSA and other tools that support the detection\\nof Prohibited Substances and/or identify the Use of Prohibited Methods such as the Athlete\\nBiological Passport are subject to an appropriate and consistent level of analysis and adoption by\\nall ADOs that conduct Testing in those sports/disciplines deemed at risk. Compliance with the\\nTDSSA is mandatory under the WADC2015.\\n\\nThe development of the TDSSA is based on a scientific approach linking physiological and non-\\nphysiological demand of Ath/ete performance with the potential ergogenic benefit of those\\nProhibited Substances within the scope of the TDSSA. The TDSSA complements other anti-doping\\ntools and programs such as the Ath/ete Biological Passport (ABP), intelligence gathering and\\ninvestigations.\\n\\nA Minimum Level of Analysis (MLA) is specified for the Prohibited Substances within the scope of\\nthe TDSSA for each sport/discipline, expressed as a percentage of the total number of eligible\\nTests and based on a Physiological Risk Assessment of that sport/discipline. The full MLA list for\\neach sport/discipline is provided in Appendices 1 and 2 of this Technical Document.\\n\\nThe MLA applies to Testing conducted by all ADOs on International-Level Athletes and National-\\nLevel Athletes as defined by the applicable ADO.\\n\\nThe MLAs for each sport/discipline should not be considered as the precise level of analysis that\\nan ADO should implement in that sport/discipline. ADOs are encouraged to exceed the MLAs\\nwhere they believe it is appropriate to do so, based on their Risk Assessment. ADOs are also\\nencouraged to take advantage of Article 6.4.1 of the WADC2015, which provides for ADOs to\\n\\nTDSSA - Version 3.0 — 19 November 2016 Page 1 of 19\\n\\x0c']\n"
     ]
    },
    {
     "name": "stderr",
     "output_type": "stream",
     "text": [
      "100%|██████████| 40000/40000 [00:00<00:00, 1039248.74it/s]"
     ]
    },
    {
     "name": "stdout",
     "output_type": "stream",
     "text": [
      "1\n",
      "0.7285\n",
      "     0\n",
      "11  11\n",
      "0    0\n",
      "5    0\n",
      "9    4\n",
      "14  14\n",
      "..  ..\n",
      "14  10\n",
      "11  11\n",
      "12  15\n",
      "9    9\n",
      "15  15\n",
      "\n",
      "[40000 rows x 1 columns]\n"
     ]
    },
    {
     "name": "stderr",
     "output_type": "stream",
     "text": [
      "\n"
     ]
    }
   ],
   "source": [
    "from tqdm import tqdm\n",
    "\n",
    "#Prediction and accuracy\n",
    "from sklearn.metrics import accuracy_score\n",
    "documents1 = testingData[:][\"OCR text\"]\n",
    "y_true = testingData[:]['Label']\n",
    "input = vectorizer.transform(documents1)\n",
    "print(documents1)\n",
    "prediction1= clf.predict(input)\n",
    "\n",
    "\n",
    "\n",
    "\n",
    "dataframe = pd.DataFrame(list(y_true),prediction1)\n",
    "index = 0\n",
    "count = 0\n",
    "for i in tqdm(list(y_true)):\n",
    "    if i == prediction1[index]:\n",
    "        count += 1\n",
    "    index+=1\n",
    "    \n",
    "    \n",
    "print(accuracy_score(list(y_true),prediction1))\n",
    "print(dataframe)"
   ]
  },
  {
   "cell_type": "code",
   "execution_count": null,
   "metadata": {
    "pycharm": {
     "name": "#%%"
    }
   },
   "outputs": [],
   "source": []
  }
 ],
 "metadata": {
  "accelerator": "GPU",
  "colab": {
   "collapsed_sections": [],
   "name": "document_classification_resub.ipynb",
   "provenance": []
  },
  "kernelspec": {
   "display_name": "Python 3",
   "language": "python",
   "name": "python3"
  },
  "language_info": {
   "codemirror_mode": {
    "name": "ipython",
    "version": 3
   },
   "file_extension": ".py",
   "mimetype": "text/x-python",
   "name": "python",
   "nbconvert_exporter": "python",
   "pygments_lexer": "ipython3",
   "version": "3.8.5"
  },
  "pycharm": {
   "stem_cell": {
    "cell_type": "raw",
    "metadata": {
     "collapsed": false
    },
    "source": []
   }
  }
 },
 "nbformat": 4,
 "nbformat_minor": 1
}
