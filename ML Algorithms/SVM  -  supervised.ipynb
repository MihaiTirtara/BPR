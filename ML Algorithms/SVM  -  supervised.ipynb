{
 "cells": [
  {
   "cell_type": "code",
   "execution_count": 1,
   "outputs": [],
   "source": [
    "##imports \n",
    "\n",
    "import pandas as pd\n",
    "\n",
    "from sklearn.feature_extraction.text import TfidfVectorizer\n"
   ],
   "metadata": {
    "collapsed": false,
    "pycharm": {
     "name": "#%%\n"
    }
   }
  },
  {
   "cell_type": "code",
   "execution_count": 2,
   "outputs": [],
   "source": [
    "##Needed CSV's\n",
    "trainingData = pd.read_csv(\"train-data.csv\", index_col=0) \n",
    "testingData  = pd.read_csv(\"test.csv\", index_col=0)  "
   ],
   "metadata": {
    "collapsed": false,
    "pycharm": {
     "name": "#%%\n"
    }
   }
  },
  {
   "cell_type": "code",
   "execution_count": 3,
   "outputs": [],
   "source": [
    "##batch size (started with a small no. to train the algorithm on)\n",
    "batch_size = 320000"
   ],
   "metadata": {
    "collapsed": false,
    "pycharm": {
     "name": "#%%\n"
    }
   }
  },
  {
   "cell_type": "code",
   "execution_count": 4,
   "outputs": [],
   "source": [
    "##vectorizing the data\n",
    "vectorizer = TfidfVectorizer(stop_words='english')\n",
    "X = vectorizer.fit_transform(trainingData[:batch_size]['OCR text'])"
   ],
   "metadata": {
    "collapsed": false,
    "pycharm": {
     "name": "#%%\n"
    }
   }
  },
  {
   "cell_type": "code",
   "execution_count": 5,
   "outputs": [],
   "source": [
    "y = trainingData[:batch_size][\"Label\"]"
   ],
   "metadata": {
    "collapsed": false,
    "pycharm": {
     "name": "#%%\n"
    }
   }
  },
  {
   "cell_type": "code",
   "execution_count": null,
   "outputs": [],
   "source": [
    "print(X)"
   ],
   "metadata": {
    "collapsed": false,
    "pycharm": {
     "name": "#%%\n"
    }
   }
  },
  {
   "cell_type": "code",
   "execution_count": null,
   "outputs": [],
   "source": [
    "print(vectorizer.get_feature_names())"
   ],
   "metadata": {
    "collapsed": false,
    "pycharm": {
     "name": "#%%\n"
    }
   }
  },
  {
   "cell_type": "code",
   "execution_count": null,
   "outputs": [],
   "source": [
    "print(X.shape)"
   ],
   "metadata": {
    "collapsed": false,
    "pycharm": {
     "name": "#%%\n"
    }
   }
  },
  {
   "cell_type": "code",
   "execution_count": 6,
   "outputs": [],
   "source": [
    "##Creating pipelines for SVM\n",
    "\n",
    "from sklearn.pipeline import Pipeline\n",
    "from sklearn.linear_model import SGDClassifier\n",
    "svm_pipeline = Pipeline([\n",
    "    ('svm', SGDClassifier(max_iter=320000))\n",
    "])"
   ],
   "metadata": {
    "collapsed": false,
    "pycharm": {
     "name": "#%%\n"
    }
   }
  },
  {
   "cell_type": "code",
   "execution_count": null,
   "outputs": [
    {
     "name": "stdout",
     "output_type": "stream",
     "text": [
      "Fitting 5 folds for each of 48 candidates, totalling 240 fits\n",
      "[CV] svm__alpha=0.0001, svm__loss=hinge, svm__penalty=l2 .............\n",
      "[CV]  svm__alpha=0.0001, svm__loss=hinge, svm__penalty=l2, score=0.723, total=  28.9s\n",
      "[CV] svm__alpha=0.0001, svm__loss=hinge, svm__penalty=l2 .............\n",
      "[CV]  svm__alpha=0.0001, svm__loss=hinge, svm__penalty=l2, score=0.723, total=  30.0s\n",
      "[CV] svm__alpha=0.0001, svm__loss=hinge, svm__penalty=l2 .............\n",
      "[CV]  svm__alpha=0.0001, svm__loss=hinge, svm__penalty=l2, score=0.726, total=  30.8s\n",
      "[CV] svm__alpha=0.0001, svm__loss=hinge, svm__penalty=l2 .............\n",
      "[CV]  svm__alpha=0.0001, svm__loss=hinge, svm__penalty=l2, score=0.725, total=  29.5s\n",
      "[CV] svm__alpha=0.0001, svm__loss=hinge, svm__penalty=l2 .............\n",
      "[CV]  svm__alpha=0.0001, svm__loss=hinge, svm__penalty=l2, score=0.726, total=  29.4s\n",
      "[CV] svm__alpha=0.0001, svm__loss=hinge, svm__penalty=l1 .............\n",
      "[CV]  svm__alpha=0.0001, svm__loss=hinge, svm__penalty=l1, score=0.556, total=  59.7s\n",
      "[CV] svm__alpha=0.0001, svm__loss=hinge, svm__penalty=l1 .............\n",
      "[CV]  svm__alpha=0.0001, svm__loss=hinge, svm__penalty=l1, score=0.566, total=  55.8s\n",
      "[CV] svm__alpha=0.0001, svm__loss=hinge, svm__penalty=l1 .............\n",
      "[CV]  svm__alpha=0.0001, svm__loss=hinge, svm__penalty=l1, score=0.562, total=  57.7s\n",
      "[CV] svm__alpha=0.0001, svm__loss=hinge, svm__penalty=l1 .............\n",
      "[CV]  svm__alpha=0.0001, svm__loss=hinge, svm__penalty=l1, score=0.549, total=  57.6s\n",
      "[CV] svm__alpha=0.0001, svm__loss=hinge, svm__penalty=l1 .............\n",
      "[CV]  svm__alpha=0.0001, svm__loss=hinge, svm__penalty=l1, score=0.560, total=  56.4s\n",
      "[CV] svm__alpha=0.0001, svm__loss=hinge, svm__penalty=none ...........\n",
      "[CV]  svm__alpha=0.0001, svm__loss=hinge, svm__penalty=none, score=0.743, total=  34.4s\n",
      "[CV] svm__alpha=0.0001, svm__loss=hinge, svm__penalty=none ...........\n",
      "[CV]  svm__alpha=0.0001, svm__loss=hinge, svm__penalty=none, score=0.744, total=  34.3s\n",
      "[CV] svm__alpha=0.0001, svm__loss=hinge, svm__penalty=none ...........\n",
      "[CV]  svm__alpha=0.0001, svm__loss=hinge, svm__penalty=none, score=0.744, total=  34.5s\n",
      "[CV] svm__alpha=0.0001, svm__loss=hinge, svm__penalty=none ...........\n",
      "[CV]  svm__alpha=0.0001, svm__loss=hinge, svm__penalty=none, score=0.746, total=  34.6s\n",
      "[CV] svm__alpha=0.0001, svm__loss=hinge, svm__penalty=none ...........\n",
      "[CV]  svm__alpha=0.0001, svm__loss=hinge, svm__penalty=none, score=0.747, total=  34.1s\n",
      "[CV] svm__alpha=0.0001, svm__loss=log, svm__penalty=l2 ...............\n",
      "[CV]  svm__alpha=0.0001, svm__loss=log, svm__penalty=l2, score=0.665, total=  32.8s\n",
      "[CV] svm__alpha=0.0001, svm__loss=log, svm__penalty=l2 ...............\n",
      "[CV]  svm__alpha=0.0001, svm__loss=log, svm__penalty=l2, score=0.665, total=  32.6s\n",
      "[CV] svm__alpha=0.0001, svm__loss=log, svm__penalty=l2 ...............\n",
      "[CV]  svm__alpha=0.0001, svm__loss=log, svm__penalty=l2, score=0.668, total=  32.8s\n",
      "[CV] svm__alpha=0.0001, svm__loss=log, svm__penalty=l2 ...............\n",
      "[CV]  svm__alpha=0.0001, svm__loss=log, svm__penalty=l2, score=0.667, total=  32.9s\n",
      "[CV] svm__alpha=0.0001, svm__loss=log, svm__penalty=l2 ...............\n",
      "[CV]  svm__alpha=0.0001, svm__loss=log, svm__penalty=l2, score=0.667, total=  33.1s\n",
      "[CV] svm__alpha=0.0001, svm__loss=log, svm__penalty=l1 ...............\n",
      "[CV]  svm__alpha=0.0001, svm__loss=log, svm__penalty=l1, score=0.580, total= 1.4min\n",
      "[CV] svm__alpha=0.0001, svm__loss=log, svm__penalty=l1 ...............\n",
      "[CV]  svm__alpha=0.0001, svm__loss=log, svm__penalty=l1, score=0.582, total= 1.5min\n",
      "[CV] svm__alpha=0.0001, svm__loss=log, svm__penalty=l1 ...............\n",
      "[CV]  svm__alpha=0.0001, svm__loss=log, svm__penalty=l1, score=0.586, total= 1.5min\n",
      "[CV] svm__alpha=0.0001, svm__loss=log, svm__penalty=l1 ...............\n",
      "[CV]  svm__alpha=0.0001, svm__loss=log, svm__penalty=l1, score=0.582, total= 1.5min\n",
      "[CV] svm__alpha=0.0001, svm__loss=log, svm__penalty=l1 ...............\n",
      "[CV]  svm__alpha=0.0001, svm__loss=log, svm__penalty=l1, score=0.585, total= 1.4min\n",
      "[CV] svm__alpha=0.0001, svm__loss=log, svm__penalty=none .............\n",
      "[CV]  svm__alpha=0.0001, svm__loss=log, svm__penalty=none, score=0.729, total=  47.8s\n",
      "[CV] svm__alpha=0.0001, svm__loss=log, svm__penalty=none .............\n",
      "[CV]  svm__alpha=0.0001, svm__loss=log, svm__penalty=none, score=0.730, total=  45.1s\n",
      "[CV] svm__alpha=0.0001, svm__loss=log, svm__penalty=none .............\n",
      "[CV]  svm__alpha=0.0001, svm__loss=log, svm__penalty=none, score=0.731, total=  45.4s\n",
      "[CV] svm__alpha=0.0001, svm__loss=log, svm__penalty=none .............\n",
      "[CV]  svm__alpha=0.0001, svm__loss=log, svm__penalty=none, score=0.731, total=  43.1s\n",
      "[CV] svm__alpha=0.0001, svm__loss=log, svm__penalty=none .............\n",
      "[CV]  svm__alpha=0.0001, svm__loss=log, svm__penalty=none, score=0.730, total=  42.8s\n",
      "[CV] svm__alpha=0.0001, svm__loss=squared_hinge, svm__penalty=l2 .....\n",
      "[CV]  svm__alpha=0.0001, svm__loss=squared_hinge, svm__penalty=l2, score=0.743, total= 1.1min\n",
      "[CV] svm__alpha=0.0001, svm__loss=squared_hinge, svm__penalty=l2 .....\n",
      "[CV]  svm__alpha=0.0001, svm__loss=squared_hinge, svm__penalty=l2, score=0.744, total=  47.1s\n",
      "[CV] svm__alpha=0.0001, svm__loss=squared_hinge, svm__penalty=l2 .....\n",
      "[CV]  svm__alpha=0.0001, svm__loss=squared_hinge, svm__penalty=l2, score=0.746, total=28.6min\n",
      "[CV] svm__alpha=0.0001, svm__loss=squared_hinge, svm__penalty=l2 .....\n",
      "[CV]  svm__alpha=0.0001, svm__loss=squared_hinge, svm__penalty=l2, score=0.746, total= 1.4min\n",
      "[CV] svm__alpha=0.0001, svm__loss=squared_hinge, svm__penalty=l2 .....\n",
      "[CV]  svm__alpha=0.0001, svm__loss=squared_hinge, svm__penalty=l2, score=0.747, total= 1.2min\n",
      "[CV] svm__alpha=0.0001, svm__loss=squared_hinge, svm__penalty=l1 .....\n"
     ]
    },
    {
     "name": "stderr",
     "output_type": "stream",
     "text": [
      "[Parallel(n_jobs=1)]: Using backend SequentialBackend with 1 concurrent workers.\n",
      "[Parallel(n_jobs=1)]: Done   1 out of   1 | elapsed:   28.8s remaining:    0.0s\n",
      "[Parallel(n_jobs=1)]: Done   2 out of   2 | elapsed:   58.9s remaining:    0.0s\n",
      "[Parallel(n_jobs=1)]: Done   3 out of   3 | elapsed:  1.5min remaining:    0.0s\n",
      "[Parallel(n_jobs=1)]: Done   4 out of   4 | elapsed:  2.0min remaining:    0.0s\n",
      "[Parallel(n_jobs=1)]: Done   5 out of   5 | elapsed:  2.5min remaining:    0.0s\n",
      "[Parallel(n_jobs=1)]: Done   6 out of   6 | elapsed:  3.5min remaining:    0.0s\n",
      "[Parallel(n_jobs=1)]: Done   7 out of   7 | elapsed:  4.4min remaining:    0.0s\n",
      "[Parallel(n_jobs=1)]: Done   8 out of   8 | elapsed:  5.4min remaining:    0.0s\n",
      "[Parallel(n_jobs=1)]: Done   9 out of   9 | elapsed:  6.3min remaining:    0.0s\n"
     ]
    }
   ],
   "source": [
    "##Listing the testing tuning parameters\n",
    "\n",
    "import numpy as np\n",
    "from sklearn.model_selection import GridSearchCV\n",
    "grid_params = {    \n",
    "    \"svm__loss\" : [\"hinge\", \"log\", \"squared_hinge\", \"modified_huber\"],\n",
    "    \"svm__alpha\" : [0.0001, 0.001, 0.01, 0.1],\n",
    "    \"svm__penalty\" : [\"l2\", \"l1\", \"none\"],\n",
    "}\n",
    "clf = GridSearchCV(svm_pipeline, grid_params,verbose=10)\n",
    "clf.fit(X, y)\n",
    "print(\"Best Score: \", clf.best_score_)\n",
    "print(\"Best Params: \", clf.best_params_)\n"
   ],
   "metadata": {
    "collapsed": false,
    "pycharm": {
     "name": "#%%\n",
     "is_executing": true
    }
   }
  },
  {
   "cell_type": "code",
   "execution_count": 18,
   "outputs": [
    {
     "data": {
      "text/plain": "SGDClassifier(penalty='none')"
     },
     "execution_count": 18,
     "metadata": {},
     "output_type": "execute_result"
    }
   ],
   "source": [
    "##Fiting the data and training it - modify tuning parameters here based on the GridsearchCV\n",
    "from sklearn.linear_model import SGDClassifier\n",
    "\n",
    "clf = SGDClassifier(alpha=0.0001, loss='hinge', penalty='none')\n",
    "\n",
    "clf.fit(X, y)"
   ],
   "metadata": {
    "collapsed": false,
    "pycharm": {
     "name": "#%%\n"
    }
   }
  },
  {
   "cell_type": "code",
   "execution_count": null,
   "outputs": [],
   "source": [
    "##Testing data based on the fitted model\n",
    "\n",
    "from tqdm import tqdm\n",
    "\n",
    "#Prediction and accuracy\n",
    "from sklearn.metrics import accuracy_score\n",
    "documents1 = testingData[:][\"OCR text\"]\n",
    "y_true = testingData[:]['Label']\n",
    "input = vectorizer.transform(documents1)\n",
    "prediction1= clf.predict(input)\n",
    "\n",
    "dataframe = pd.DataFrame(list(y_true),prediction1)\n",
    "index = 0\n",
    "count = 0\n",
    "for i in tqdm(list(y_true)):\n",
    "    if i == prediction1[index]:\n",
    "        count += 1\n",
    "    index+=1\n",
    "    \n",
    "    \n",
    "print(\"Accuracy:\",accuracy_score(list(y_true),prediction1))\n",
    "print(dataframe)"
   ],
   "metadata": {
    "collapsed": false,
    "pycharm": {
     "name": "#%%"
    }
   }
  },
  {
   "cell_type": "code",
   "execution_count": null,
   "outputs": [],
   "source": [],
   "metadata": {
    "collapsed": false,
    "pycharm": {
     "name": "#%%"
    }
   }
  }
 ],
 "metadata": {
  "accelerator": "GPU",
  "colab": {
   "collapsed_sections": [],
   "name": "document_classification_resub.ipynb",
   "provenance": []
  },
  "kernelspec": {
   "name": "pycharm-2b47f6f3",
   "language": "python",
   "display_name": "PyCharm (Implementation)"
  },
  "language_info": {
   "codemirror_mode": {
    "name": "ipython",
    "version": 3
   },
   "file_extension": ".py",
   "mimetype": "text/x-python",
   "name": "python",
   "nbconvert_exporter": "python",
   "pygments_lexer": "ipython3",
   "version": "3.7.6"
  }
 },
 "nbformat": 4,
 "nbformat_minor": 1
}